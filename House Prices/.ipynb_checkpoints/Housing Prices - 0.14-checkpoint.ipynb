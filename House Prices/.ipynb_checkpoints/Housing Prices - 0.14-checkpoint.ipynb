{
 "cells": [
  {
   "cell_type": "code",
   "execution_count": 1,
   "metadata": {
    "collapsed": false
   },
   "outputs": [],
   "source": [
    "# data analysis\n",
    "import pandas as pd\n",
    "import numpy as np\n",
    "\n",
    "# visualisation\n",
    "import matplotlib.pyplot as plt\n",
    "import seaborn as sns\n",
    "%matplotlib inline\n",
    "\n",
    "# metrics and algorithm validation\n",
    "from sklearn.metrics import accuracy_score, confusion_matrix, f1_score, mean_squared_error\n",
    "from sklearn.model_selection import KFold, cross_val_score\n",
    "\n",
    "# encoding and modeling\n",
    "from sklearn.preprocessing import LabelEncoder, OneHotEncoder\n",
    "from scipy.stats import skew"
   ]
  },
  {
   "cell_type": "code",
   "execution_count": 2,
   "metadata": {
    "collapsed": true
   },
   "outputs": [],
   "source": [
    "# import the dataset\n",
    "train = pd.read_csv('train.csv')\n",
    "test = pd.read_csv('test.csv')"
   ]
  },
  {
   "cell_type": "code",
   "execution_count": 3,
   "metadata": {
    "collapsed": true
   },
   "outputs": [],
   "source": [
    "df = train.copy()"
   ]
  },
  {
   "cell_type": "code",
   "execution_count": 4,
   "metadata": {
    "collapsed": false
   },
   "outputs": [
    {
     "data": {
      "text/html": [
       "<div>\n",
       "<style>\n",
       "    .dataframe thead tr:only-child th {\n",
       "        text-align: right;\n",
       "    }\n",
       "\n",
       "    .dataframe thead th {\n",
       "        text-align: left;\n",
       "    }\n",
       "\n",
       "    .dataframe tbody tr th {\n",
       "        vertical-align: top;\n",
       "    }\n",
       "</style>\n",
       "<table border=\"1\" class=\"dataframe\">\n",
       "  <thead>\n",
       "    <tr style=\"text-align: right;\">\n",
       "      <th></th>\n",
       "      <th>Id</th>\n",
       "      <th>MSSubClass</th>\n",
       "      <th>MSZoning</th>\n",
       "      <th>LotFrontage</th>\n",
       "      <th>LotArea</th>\n",
       "      <th>Street</th>\n",
       "      <th>Alley</th>\n",
       "      <th>LotShape</th>\n",
       "      <th>LandContour</th>\n",
       "      <th>Utilities</th>\n",
       "      <th>...</th>\n",
       "      <th>PoolArea</th>\n",
       "      <th>PoolQC</th>\n",
       "      <th>Fence</th>\n",
       "      <th>MiscFeature</th>\n",
       "      <th>MiscVal</th>\n",
       "      <th>MoSold</th>\n",
       "      <th>YrSold</th>\n",
       "      <th>SaleType</th>\n",
       "      <th>SaleCondition</th>\n",
       "      <th>SalePrice</th>\n",
       "    </tr>\n",
       "  </thead>\n",
       "  <tbody>\n",
       "    <tr>\n",
       "      <th>0</th>\n",
       "      <td>1</td>\n",
       "      <td>60</td>\n",
       "      <td>RL</td>\n",
       "      <td>65.0</td>\n",
       "      <td>8450</td>\n",
       "      <td>Pave</td>\n",
       "      <td>NaN</td>\n",
       "      <td>Reg</td>\n",
       "      <td>Lvl</td>\n",
       "      <td>AllPub</td>\n",
       "      <td>...</td>\n",
       "      <td>0</td>\n",
       "      <td>NaN</td>\n",
       "      <td>NaN</td>\n",
       "      <td>NaN</td>\n",
       "      <td>0</td>\n",
       "      <td>2</td>\n",
       "      <td>2008</td>\n",
       "      <td>WD</td>\n",
       "      <td>Normal</td>\n",
       "      <td>208500</td>\n",
       "    </tr>\n",
       "    <tr>\n",
       "      <th>1</th>\n",
       "      <td>2</td>\n",
       "      <td>20</td>\n",
       "      <td>RL</td>\n",
       "      <td>80.0</td>\n",
       "      <td>9600</td>\n",
       "      <td>Pave</td>\n",
       "      <td>NaN</td>\n",
       "      <td>Reg</td>\n",
       "      <td>Lvl</td>\n",
       "      <td>AllPub</td>\n",
       "      <td>...</td>\n",
       "      <td>0</td>\n",
       "      <td>NaN</td>\n",
       "      <td>NaN</td>\n",
       "      <td>NaN</td>\n",
       "      <td>0</td>\n",
       "      <td>5</td>\n",
       "      <td>2007</td>\n",
       "      <td>WD</td>\n",
       "      <td>Normal</td>\n",
       "      <td>181500</td>\n",
       "    </tr>\n",
       "    <tr>\n",
       "      <th>2</th>\n",
       "      <td>3</td>\n",
       "      <td>60</td>\n",
       "      <td>RL</td>\n",
       "      <td>68.0</td>\n",
       "      <td>11250</td>\n",
       "      <td>Pave</td>\n",
       "      <td>NaN</td>\n",
       "      <td>IR1</td>\n",
       "      <td>Lvl</td>\n",
       "      <td>AllPub</td>\n",
       "      <td>...</td>\n",
       "      <td>0</td>\n",
       "      <td>NaN</td>\n",
       "      <td>NaN</td>\n",
       "      <td>NaN</td>\n",
       "      <td>0</td>\n",
       "      <td>9</td>\n",
       "      <td>2008</td>\n",
       "      <td>WD</td>\n",
       "      <td>Normal</td>\n",
       "      <td>223500</td>\n",
       "    </tr>\n",
       "    <tr>\n",
       "      <th>3</th>\n",
       "      <td>4</td>\n",
       "      <td>70</td>\n",
       "      <td>RL</td>\n",
       "      <td>60.0</td>\n",
       "      <td>9550</td>\n",
       "      <td>Pave</td>\n",
       "      <td>NaN</td>\n",
       "      <td>IR1</td>\n",
       "      <td>Lvl</td>\n",
       "      <td>AllPub</td>\n",
       "      <td>...</td>\n",
       "      <td>0</td>\n",
       "      <td>NaN</td>\n",
       "      <td>NaN</td>\n",
       "      <td>NaN</td>\n",
       "      <td>0</td>\n",
       "      <td>2</td>\n",
       "      <td>2006</td>\n",
       "      <td>WD</td>\n",
       "      <td>Abnorml</td>\n",
       "      <td>140000</td>\n",
       "    </tr>\n",
       "    <tr>\n",
       "      <th>4</th>\n",
       "      <td>5</td>\n",
       "      <td>60</td>\n",
       "      <td>RL</td>\n",
       "      <td>84.0</td>\n",
       "      <td>14260</td>\n",
       "      <td>Pave</td>\n",
       "      <td>NaN</td>\n",
       "      <td>IR1</td>\n",
       "      <td>Lvl</td>\n",
       "      <td>AllPub</td>\n",
       "      <td>...</td>\n",
       "      <td>0</td>\n",
       "      <td>NaN</td>\n",
       "      <td>NaN</td>\n",
       "      <td>NaN</td>\n",
       "      <td>0</td>\n",
       "      <td>12</td>\n",
       "      <td>2008</td>\n",
       "      <td>WD</td>\n",
       "      <td>Normal</td>\n",
       "      <td>250000</td>\n",
       "    </tr>\n",
       "  </tbody>\n",
       "</table>\n",
       "<p>5 rows × 81 columns</p>\n",
       "</div>"
      ],
      "text/plain": [
       "   Id  MSSubClass MSZoning  LotFrontage  LotArea Street Alley LotShape  \\\n",
       "0   1          60       RL         65.0     8450   Pave   NaN      Reg   \n",
       "1   2          20       RL         80.0     9600   Pave   NaN      Reg   \n",
       "2   3          60       RL         68.0    11250   Pave   NaN      IR1   \n",
       "3   4          70       RL         60.0     9550   Pave   NaN      IR1   \n",
       "4   5          60       RL         84.0    14260   Pave   NaN      IR1   \n",
       "\n",
       "  LandContour Utilities    ...     PoolArea PoolQC Fence MiscFeature MiscVal  \\\n",
       "0         Lvl    AllPub    ...            0    NaN   NaN         NaN       0   \n",
       "1         Lvl    AllPub    ...            0    NaN   NaN         NaN       0   \n",
       "2         Lvl    AllPub    ...            0    NaN   NaN         NaN       0   \n",
       "3         Lvl    AllPub    ...            0    NaN   NaN         NaN       0   \n",
       "4         Lvl    AllPub    ...            0    NaN   NaN         NaN       0   \n",
       "\n",
       "  MoSold YrSold  SaleType  SaleCondition  SalePrice  \n",
       "0      2   2008        WD         Normal     208500  \n",
       "1      5   2007        WD         Normal     181500  \n",
       "2      9   2008        WD         Normal     223500  \n",
       "3      2   2006        WD        Abnorml     140000  \n",
       "4     12   2008        WD         Normal     250000  \n",
       "\n",
       "[5 rows x 81 columns]"
      ]
     },
     "execution_count": 4,
     "metadata": {},
     "output_type": "execute_result"
    }
   ],
   "source": [
    "df.head()"
   ]
  },
  {
   "cell_type": "code",
   "execution_count": 5,
   "metadata": {
    "collapsed": false
   },
   "outputs": [
    {
     "data": {
      "text/html": [
       "<div>\n",
       "<style>\n",
       "    .dataframe thead tr:only-child th {\n",
       "        text-align: right;\n",
       "    }\n",
       "\n",
       "    .dataframe thead th {\n",
       "        text-align: left;\n",
       "    }\n",
       "\n",
       "    .dataframe tbody tr th {\n",
       "        vertical-align: top;\n",
       "    }\n",
       "</style>\n",
       "<table border=\"1\" class=\"dataframe\">\n",
       "  <thead>\n",
       "    <tr style=\"text-align: right;\">\n",
       "      <th></th>\n",
       "      <th>Id</th>\n",
       "      <th>MSSubClass</th>\n",
       "      <th>LotFrontage</th>\n",
       "      <th>LotArea</th>\n",
       "      <th>OverallQual</th>\n",
       "      <th>OverallCond</th>\n",
       "      <th>YearBuilt</th>\n",
       "      <th>YearRemodAdd</th>\n",
       "      <th>MasVnrArea</th>\n",
       "      <th>BsmtFinSF1</th>\n",
       "      <th>...</th>\n",
       "      <th>WoodDeckSF</th>\n",
       "      <th>OpenPorchSF</th>\n",
       "      <th>EnclosedPorch</th>\n",
       "      <th>3SsnPorch</th>\n",
       "      <th>ScreenPorch</th>\n",
       "      <th>PoolArea</th>\n",
       "      <th>MiscVal</th>\n",
       "      <th>MoSold</th>\n",
       "      <th>YrSold</th>\n",
       "      <th>SalePrice</th>\n",
       "    </tr>\n",
       "  </thead>\n",
       "  <tbody>\n",
       "    <tr>\n",
       "      <th>count</th>\n",
       "      <td>1460.000000</td>\n",
       "      <td>1460.000000</td>\n",
       "      <td>1201.000000</td>\n",
       "      <td>1460.000000</td>\n",
       "      <td>1460.000000</td>\n",
       "      <td>1460.000000</td>\n",
       "      <td>1460.000000</td>\n",
       "      <td>1460.000000</td>\n",
       "      <td>1452.000000</td>\n",
       "      <td>1460.000000</td>\n",
       "      <td>...</td>\n",
       "      <td>1460.000000</td>\n",
       "      <td>1460.000000</td>\n",
       "      <td>1460.000000</td>\n",
       "      <td>1460.000000</td>\n",
       "      <td>1460.000000</td>\n",
       "      <td>1460.000000</td>\n",
       "      <td>1460.000000</td>\n",
       "      <td>1460.000000</td>\n",
       "      <td>1460.000000</td>\n",
       "      <td>1460.000000</td>\n",
       "    </tr>\n",
       "    <tr>\n",
       "      <th>mean</th>\n",
       "      <td>730.500000</td>\n",
       "      <td>56.897260</td>\n",
       "      <td>70.049958</td>\n",
       "      <td>10516.828082</td>\n",
       "      <td>6.099315</td>\n",
       "      <td>5.575342</td>\n",
       "      <td>1971.267808</td>\n",
       "      <td>1984.865753</td>\n",
       "      <td>103.685262</td>\n",
       "      <td>443.639726</td>\n",
       "      <td>...</td>\n",
       "      <td>94.244521</td>\n",
       "      <td>46.660274</td>\n",
       "      <td>21.954110</td>\n",
       "      <td>3.409589</td>\n",
       "      <td>15.060959</td>\n",
       "      <td>2.758904</td>\n",
       "      <td>43.489041</td>\n",
       "      <td>6.321918</td>\n",
       "      <td>2007.815753</td>\n",
       "      <td>180921.195890</td>\n",
       "    </tr>\n",
       "    <tr>\n",
       "      <th>std</th>\n",
       "      <td>421.610009</td>\n",
       "      <td>42.300571</td>\n",
       "      <td>24.284752</td>\n",
       "      <td>9981.264932</td>\n",
       "      <td>1.382997</td>\n",
       "      <td>1.112799</td>\n",
       "      <td>30.202904</td>\n",
       "      <td>20.645407</td>\n",
       "      <td>181.066207</td>\n",
       "      <td>456.098091</td>\n",
       "      <td>...</td>\n",
       "      <td>125.338794</td>\n",
       "      <td>66.256028</td>\n",
       "      <td>61.119149</td>\n",
       "      <td>29.317331</td>\n",
       "      <td>55.757415</td>\n",
       "      <td>40.177307</td>\n",
       "      <td>496.123024</td>\n",
       "      <td>2.703626</td>\n",
       "      <td>1.328095</td>\n",
       "      <td>79442.502883</td>\n",
       "    </tr>\n",
       "    <tr>\n",
       "      <th>min</th>\n",
       "      <td>1.000000</td>\n",
       "      <td>20.000000</td>\n",
       "      <td>21.000000</td>\n",
       "      <td>1300.000000</td>\n",
       "      <td>1.000000</td>\n",
       "      <td>1.000000</td>\n",
       "      <td>1872.000000</td>\n",
       "      <td>1950.000000</td>\n",
       "      <td>0.000000</td>\n",
       "      <td>0.000000</td>\n",
       "      <td>...</td>\n",
       "      <td>0.000000</td>\n",
       "      <td>0.000000</td>\n",
       "      <td>0.000000</td>\n",
       "      <td>0.000000</td>\n",
       "      <td>0.000000</td>\n",
       "      <td>0.000000</td>\n",
       "      <td>0.000000</td>\n",
       "      <td>1.000000</td>\n",
       "      <td>2006.000000</td>\n",
       "      <td>34900.000000</td>\n",
       "    </tr>\n",
       "    <tr>\n",
       "      <th>25%</th>\n",
       "      <td>365.750000</td>\n",
       "      <td>20.000000</td>\n",
       "      <td>59.000000</td>\n",
       "      <td>7553.500000</td>\n",
       "      <td>5.000000</td>\n",
       "      <td>5.000000</td>\n",
       "      <td>1954.000000</td>\n",
       "      <td>1967.000000</td>\n",
       "      <td>0.000000</td>\n",
       "      <td>0.000000</td>\n",
       "      <td>...</td>\n",
       "      <td>0.000000</td>\n",
       "      <td>0.000000</td>\n",
       "      <td>0.000000</td>\n",
       "      <td>0.000000</td>\n",
       "      <td>0.000000</td>\n",
       "      <td>0.000000</td>\n",
       "      <td>0.000000</td>\n",
       "      <td>5.000000</td>\n",
       "      <td>2007.000000</td>\n",
       "      <td>129975.000000</td>\n",
       "    </tr>\n",
       "    <tr>\n",
       "      <th>50%</th>\n",
       "      <td>730.500000</td>\n",
       "      <td>50.000000</td>\n",
       "      <td>69.000000</td>\n",
       "      <td>9478.500000</td>\n",
       "      <td>6.000000</td>\n",
       "      <td>5.000000</td>\n",
       "      <td>1973.000000</td>\n",
       "      <td>1994.000000</td>\n",
       "      <td>0.000000</td>\n",
       "      <td>383.500000</td>\n",
       "      <td>...</td>\n",
       "      <td>0.000000</td>\n",
       "      <td>25.000000</td>\n",
       "      <td>0.000000</td>\n",
       "      <td>0.000000</td>\n",
       "      <td>0.000000</td>\n",
       "      <td>0.000000</td>\n",
       "      <td>0.000000</td>\n",
       "      <td>6.000000</td>\n",
       "      <td>2008.000000</td>\n",
       "      <td>163000.000000</td>\n",
       "    </tr>\n",
       "    <tr>\n",
       "      <th>75%</th>\n",
       "      <td>1095.250000</td>\n",
       "      <td>70.000000</td>\n",
       "      <td>80.000000</td>\n",
       "      <td>11601.500000</td>\n",
       "      <td>7.000000</td>\n",
       "      <td>6.000000</td>\n",
       "      <td>2000.000000</td>\n",
       "      <td>2004.000000</td>\n",
       "      <td>166.000000</td>\n",
       "      <td>712.250000</td>\n",
       "      <td>...</td>\n",
       "      <td>168.000000</td>\n",
       "      <td>68.000000</td>\n",
       "      <td>0.000000</td>\n",
       "      <td>0.000000</td>\n",
       "      <td>0.000000</td>\n",
       "      <td>0.000000</td>\n",
       "      <td>0.000000</td>\n",
       "      <td>8.000000</td>\n",
       "      <td>2009.000000</td>\n",
       "      <td>214000.000000</td>\n",
       "    </tr>\n",
       "    <tr>\n",
       "      <th>max</th>\n",
       "      <td>1460.000000</td>\n",
       "      <td>190.000000</td>\n",
       "      <td>313.000000</td>\n",
       "      <td>215245.000000</td>\n",
       "      <td>10.000000</td>\n",
       "      <td>9.000000</td>\n",
       "      <td>2010.000000</td>\n",
       "      <td>2010.000000</td>\n",
       "      <td>1600.000000</td>\n",
       "      <td>5644.000000</td>\n",
       "      <td>...</td>\n",
       "      <td>857.000000</td>\n",
       "      <td>547.000000</td>\n",
       "      <td>552.000000</td>\n",
       "      <td>508.000000</td>\n",
       "      <td>480.000000</td>\n",
       "      <td>738.000000</td>\n",
       "      <td>15500.000000</td>\n",
       "      <td>12.000000</td>\n",
       "      <td>2010.000000</td>\n",
       "      <td>755000.000000</td>\n",
       "    </tr>\n",
       "  </tbody>\n",
       "</table>\n",
       "<p>8 rows × 38 columns</p>\n",
       "</div>"
      ],
      "text/plain": [
       "                Id   MSSubClass  LotFrontage        LotArea  OverallQual  \\\n",
       "count  1460.000000  1460.000000  1201.000000    1460.000000  1460.000000   \n",
       "mean    730.500000    56.897260    70.049958   10516.828082     6.099315   \n",
       "std     421.610009    42.300571    24.284752    9981.264932     1.382997   \n",
       "min       1.000000    20.000000    21.000000    1300.000000     1.000000   \n",
       "25%     365.750000    20.000000    59.000000    7553.500000     5.000000   \n",
       "50%     730.500000    50.000000    69.000000    9478.500000     6.000000   \n",
       "75%    1095.250000    70.000000    80.000000   11601.500000     7.000000   \n",
       "max    1460.000000   190.000000   313.000000  215245.000000    10.000000   \n",
       "\n",
       "       OverallCond    YearBuilt  YearRemodAdd   MasVnrArea   BsmtFinSF1  \\\n",
       "count  1460.000000  1460.000000   1460.000000  1452.000000  1460.000000   \n",
       "mean      5.575342  1971.267808   1984.865753   103.685262   443.639726   \n",
       "std       1.112799    30.202904     20.645407   181.066207   456.098091   \n",
       "min       1.000000  1872.000000   1950.000000     0.000000     0.000000   \n",
       "25%       5.000000  1954.000000   1967.000000     0.000000     0.000000   \n",
       "50%       5.000000  1973.000000   1994.000000     0.000000   383.500000   \n",
       "75%       6.000000  2000.000000   2004.000000   166.000000   712.250000   \n",
       "max       9.000000  2010.000000   2010.000000  1600.000000  5644.000000   \n",
       "\n",
       "           ...         WoodDeckSF  OpenPorchSF  EnclosedPorch    3SsnPorch  \\\n",
       "count      ...        1460.000000  1460.000000    1460.000000  1460.000000   \n",
       "mean       ...          94.244521    46.660274      21.954110     3.409589   \n",
       "std        ...         125.338794    66.256028      61.119149    29.317331   \n",
       "min        ...           0.000000     0.000000       0.000000     0.000000   \n",
       "25%        ...           0.000000     0.000000       0.000000     0.000000   \n",
       "50%        ...           0.000000    25.000000       0.000000     0.000000   \n",
       "75%        ...         168.000000    68.000000       0.000000     0.000000   \n",
       "max        ...         857.000000   547.000000     552.000000   508.000000   \n",
       "\n",
       "       ScreenPorch     PoolArea       MiscVal       MoSold       YrSold  \\\n",
       "count  1460.000000  1460.000000   1460.000000  1460.000000  1460.000000   \n",
       "mean     15.060959     2.758904     43.489041     6.321918  2007.815753   \n",
       "std      55.757415    40.177307    496.123024     2.703626     1.328095   \n",
       "min       0.000000     0.000000      0.000000     1.000000  2006.000000   \n",
       "25%       0.000000     0.000000      0.000000     5.000000  2007.000000   \n",
       "50%       0.000000     0.000000      0.000000     6.000000  2008.000000   \n",
       "75%       0.000000     0.000000      0.000000     8.000000  2009.000000   \n",
       "max     480.000000   738.000000  15500.000000    12.000000  2010.000000   \n",
       "\n",
       "           SalePrice  \n",
       "count    1460.000000  \n",
       "mean   180921.195890  \n",
       "std     79442.502883  \n",
       "min     34900.000000  \n",
       "25%    129975.000000  \n",
       "50%    163000.000000  \n",
       "75%    214000.000000  \n",
       "max    755000.000000  \n",
       "\n",
       "[8 rows x 38 columns]"
      ]
     },
     "execution_count": 5,
     "metadata": {},
     "output_type": "execute_result"
    }
   ],
   "source": [
    "df.describe()"
   ]
  },
  {
   "cell_type": "code",
   "execution_count": 6,
   "metadata": {
    "collapsed": false
   },
   "outputs": [
    {
     "data": {
      "text/plain": [
       "<matplotlib.axes._subplots.AxesSubplot at 0x267f2080f60>"
      ]
     },
     "execution_count": 6,
     "metadata": {},
     "output_type": "execute_result"
    },
    {
     "data": {
      "image/png": "[encoded data removed]",
      "text/plain": [
       "<matplotlib.figure.Figure at 0x267f20897f0>"
      ]
     },
     "metadata": {},
     "output_type": "display_data"
    }
   ],
   "source": [
    "# viewing the correlation between columns\n",
    "plt.figure(figsize=(18,15))\n",
    "sns.heatmap(df.corr())"
   ]
  },
  {
   "cell_type": "code",
   "execution_count": 7,
   "metadata": {
    "collapsed": false
   },
   "outputs": [
    {
     "data": {
      "text/plain": [
       "OverallQual     0.790982\n",
       "GrLivArea       0.708624\n",
       "GarageCars      0.640409\n",
       "GarageArea      0.623431\n",
       "TotalBsmtSF     0.613581\n",
       "1stFlrSF        0.605852\n",
       "FullBath        0.560664\n",
       "TotRmsAbvGrd    0.533723\n",
       "YearBuilt       0.522897\n",
       "YearRemodAdd    0.507101\n",
       "Name: SalePrice, dtype: float64"
      ]
     },
     "execution_count": 7,
     "metadata": {},
     "output_type": "execute_result"
    }
   ],
   "source": [
    "# will take the top 10 values correlated with SalePrice and create additional features \n",
    "add_f = df.corr()['SalePrice'].sort_values(ascending=False)[1:].head(10)\n",
    "add_f"
   ]
  },
  {
   "cell_type": "code",
   "execution_count": 8,
   "metadata": {
    "collapsed": false
   },
   "outputs": [],
   "source": [
    "# for i in add_f.index:\n",
    "#     df[i+'_2'] = df[i] ** 2\n",
    "#     df[i+'_3'] = df[i] ** 3\n",
    "#     df[i+'_sqrt'] = df[i] ** 0.5"
   ]
  },
  {
   "cell_type": "markdown",
   "metadata": {},
   "source": [
    "# Analyse columns individually"
   ]
  },
  {
   "cell_type": "code",
   "execution_count": 9,
   "metadata": {
    "collapsed": false,
    "scrolled": true
   },
   "outputs": [
    {
     "data": {
      "text/plain": [
       "['Id',\n",
       " 'MSSubClass',\n",
       " 'MSZoning',\n",
       " 'LotFrontage',\n",
       " 'LotArea',\n",
       " 'Street',\n",
       " 'Alley',\n",
       " 'LotShape',\n",
       " 'LandContour',\n",
       " 'Utilities',\n",
       " 'LotConfig',\n",
       " 'LandSlope',\n",
       " 'Neighborhood',\n",
       " 'Condition1',\n",
       " 'Condition2',\n",
       " 'BldgType',\n",
       " 'HouseStyle',\n",
       " 'OverallQual',\n",
       " 'OverallCond',\n",
       " 'YearBuilt',\n",
       " 'YearRemodAdd',\n",
       " 'RoofStyle',\n",
       " 'RoofMatl',\n",
       " 'Exterior1st',\n",
       " 'Exterior2nd',\n",
       " 'MasVnrType',\n",
       " 'MasVnrArea',\n",
       " 'ExterQual',\n",
       " 'ExterCond',\n",
       " 'Foundation',\n",
       " 'BsmtQual',\n",
       " 'BsmtCond',\n",
       " 'BsmtExposure',\n",
       " 'BsmtFinType1',\n",
       " 'BsmtFinSF1',\n",
       " 'BsmtFinType2',\n",
       " 'BsmtFinSF2',\n",
       " 'BsmtUnfSF',\n",
       " 'TotalBsmtSF',\n",
       " 'Heating',\n",
       " 'HeatingQC',\n",
       " 'CentralAir',\n",
       " 'Electrical',\n",
       " '1stFlrSF',\n",
       " '2ndFlrSF',\n",
       " 'LowQualFinSF',\n",
       " 'GrLivArea',\n",
       " 'BsmtFullBath',\n",
       " 'BsmtHalfBath',\n",
       " 'FullBath',\n",
       " 'HalfBath',\n",
       " 'BedroomAbvGr',\n",
       " 'KitchenAbvGr',\n",
       " 'KitchenQual',\n",
       " 'TotRmsAbvGrd',\n",
       " 'Functional',\n",
       " 'Fireplaces',\n",
       " 'FireplaceQu',\n",
       " 'GarageType',\n",
       " 'GarageYrBlt',\n",
       " 'GarageFinish',\n",
       " 'GarageCars',\n",
       " 'GarageArea',\n",
       " 'GarageQual',\n",
       " 'GarageCond',\n",
       " 'PavedDrive',\n",
       " 'WoodDeckSF',\n",
       " 'OpenPorchSF',\n",
       " 'EnclosedPorch',\n",
       " '3SsnPorch',\n",
       " 'ScreenPorch',\n",
       " 'PoolArea',\n",
       " 'PoolQC',\n",
       " 'Fence',\n",
       " 'MiscFeature',\n",
       " 'MiscVal',\n",
       " 'MoSold',\n",
       " 'YrSold',\n",
       " 'SaleType',\n",
       " 'SaleCondition',\n",
       " 'SalePrice']"
      ]
     },
     "execution_count": 9,
     "metadata": {},
     "output_type": "execute_result"
    }
   ],
   "source": [
    "df.columns.tolist()"
   ]
  },
  {
   "cell_type": "markdown",
   "metadata": {},
   "source": [
    "# Columns done:\n",
    "\n",
    "- SalePrice - Eliminated some outliers\n",
    "- MSSubClass - Eliminated, PUD created and deleted as it didn't add value.\n",
    "- HouseStyle - Categorised, add HotEncoder \n",
    "- MSZoning - Categorised, add HotEncoder \n",
    "- * LobFrontage - Leave the last so all columns will be filled for accurate predictions\n",
    "- LotArea - Eliminated some outliers, add skew\n",
    "- Street - Eliminated\n",
    "- Alley - Eliminated\n",
    "- LotShape - Categorised, no HotEncoder needed\n",
    "- LandContour - Categorised, add HotEncoder\n",
    "- Utilities - Eliminated\n",
    "- LotConfig - Categorised, add HotEncoder\n",
    "- LandSlope - Eliminated\n",
    "- Neighbourhood - Encoded, added for OneHotEncoding at the end\n",
    "- Condition1, Condition2 - Eliminated, created new column Conditions\n",
    "- BldgType - Categorised\n",
    "- OverallQual - Categorised\n",
    "- OverallCond - Categorised\n",
    "- YearRemodAdd - Categorised\n",
    "- YearBuilt - Replaced continous with 6 categories\n",
    "- RoofStyle - Categorised, add HotEncoder\n",
    "- RoofMatl - Eliminated\n",
    "- Exterior1st, Exterior2nd - Eliminated, created new column Exterior\n",
    "- MasVnrType - Categorised\n",
    "- MasVnrArea - Added to limit skew.\n",
    "- ExterQual - Categorised\n",
    "- ExterCond - Categorised\n",
    "- Foundation - Categorised, add HotEncoder\n",
    "- BsmtQual - Categorised, new column HasBsmt\n",
    "- BsmtCond - Categorised\n",
    "- BsmtExposure - Categorised, add HotEncoder\n",
    "- BsmtFinType1, BsmtFinType1 - Categorised\n",
    "- BsmtFinSF1, BsmtFinSF2 - Add to limit skew.\n",
    "- BsmtUnfSF - Added for skew processing. New column, BsmtFinished\n",
    "- TotalBsmtSF - All good\n",
    "- Heating - Eliminated\n",
    "- HeatingQC - Categorised\n",
    "- CentralAir - Encoded\n",
    "- Electrical - Categorised, added for OneHot"
   ]
  },
  {
   "cell_type": "code",
   "execution_count": 10,
   "metadata": {
    "collapsed": false,
    "scrolled": true
   },
   "outputs": [
    {
     "name": "stdout",
     "output_type": "stream",
     "text": [
      "<class 'pandas.core.frame.DataFrame'>\n",
      "RangeIndex: 1460 entries, 0 to 1459\n",
      "Data columns (total 81 columns):\n",
      "Id               1460 non-null int64\n",
      "MSSubClass       1460 non-null int64\n",
      "MSZoning         1460 non-null object\n",
      "LotFrontage      1201 non-null float64\n",
      "LotArea          1460 non-null int64\n",
      "Street           1460 non-null object\n",
      "Alley            91 non-null object\n",
      "LotShape         1460 non-null object\n",
      "LandContour      1460 non-null object\n",
      "Utilities        1460 non-null object\n",
      "LotConfig        1460 non-null object\n",
      "LandSlope        1460 non-null object\n",
      "Neighborhood     1460 non-null object\n",
      "Condition1       1460 non-null object\n",
      "Condition2       1460 non-null object\n",
      "BldgType         1460 non-null object\n",
      "HouseStyle       1460 non-null object\n",
      "OverallQual      1460 non-null int64\n",
      "OverallCond      1460 non-null int64\n",
      "YearBuilt        1460 non-null int64\n",
      "YearRemodAdd     1460 non-null int64\n",
      "RoofStyle        1460 non-null object\n",
      "RoofMatl         1460 non-null object\n",
      "Exterior1st      1460 non-null object\n",
      "Exterior2nd      1460 non-null object\n",
      "MasVnrType       1452 non-null object\n",
      "MasVnrArea       1452 non-null float64\n",
      "ExterQual        1460 non-null object\n",
      "ExterCond        1460 non-null object\n",
      "Foundation       1460 non-null object\n",
      "BsmtQual         1423 non-null object\n",
      "BsmtCond         1423 non-null object\n",
      "BsmtExposure     1422 non-null object\n",
      "BsmtFinType1     1423 non-null object\n",
      "BsmtFinSF1       1460 non-null int64\n",
      "BsmtFinType2     1422 non-null object\n",
      "BsmtFinSF2       1460 non-null int64\n",
      "BsmtUnfSF        1460 non-null int64\n",
      "TotalBsmtSF      1460 non-null int64\n",
      "Heating          1460 non-null object\n",
      "HeatingQC        1460 non-null object\n",
      "CentralAir       1460 non-null object\n",
      "Electrical       1459 non-null object\n",
      "1stFlrSF         1460 non-null int64\n",
      "2ndFlrSF         1460 non-null int64\n",
      "LowQualFinSF     1460 non-null int64\n",
      "GrLivArea        1460 non-null int64\n",
      "BsmtFullBath     1460 non-null int64\n",
      "BsmtHalfBath     1460 non-null int64\n",
      "FullBath         1460 non-null int64\n",
      "HalfBath         1460 non-null int64\n",
      "BedroomAbvGr     1460 non-null int64\n",
      "KitchenAbvGr     1460 non-null int64\n",
      "KitchenQual      1460 non-null object\n",
      "TotRmsAbvGrd     1460 non-null int64\n",
      "Functional       1460 non-null object\n",
      "Fireplaces       1460 non-null int64\n",
      "FireplaceQu      770 non-null object\n",
      "GarageType       1379 non-null object\n",
      "GarageYrBlt      1379 non-null float64\n",
      "GarageFinish     1379 non-null object\n",
      "GarageCars       1460 non-null int64\n",
      "GarageArea       1460 non-null int64\n",
      "GarageQual       1379 non-null object\n",
      "GarageCond       1379 non-null object\n",
      "PavedDrive       1460 non-null object\n",
      "WoodDeckSF       1460 non-null int64\n",
      "OpenPorchSF      1460 non-null int64\n",
      "EnclosedPorch    1460 non-null int64\n",
      "3SsnPorch        1460 non-null int64\n",
      "ScreenPorch      1460 non-null int64\n",
      "PoolArea         1460 non-null int64\n",
      "PoolQC           7 non-null object\n",
      "Fence            281 non-null object\n",
      "MiscFeature      54 non-null object\n",
      "MiscVal          1460 non-null int64\n",
      "MoSold           1460 non-null int64\n",
      "YrSold           1460 non-null int64\n",
      "SaleType         1460 non-null object\n",
      "SaleCondition    1460 non-null object\n",
      "SalePrice        1460 non-null int64\n",
      "dtypes: float64(3), int64(35), object(43)\n",
      "memory usage: 924.0+ KB\n"
     ]
    }
   ],
   "source": [
    "df.info()"
   ]
  },
  {
   "cell_type": "markdown",
   "metadata": {},
   "source": [
    "# SalePrice\n",
    "\n",
    "Eliminating outliers."
   ]
  },
  {
   "cell_type": "code",
   "execution_count": 11,
   "metadata": {
    "collapsed": false
   },
   "outputs": [
    {
     "data": {
      "text/plain": [
       "count      1460.000000\n",
       "mean     180921.195890\n",
       "std       79442.502883\n",
       "min       34900.000000\n",
       "25%      129975.000000\n",
       "50%      163000.000000\n",
       "75%      214000.000000\n",
       "max      755000.000000\n",
       "Name: SalePrice, dtype: float64"
      ]
     },
     "execution_count": 11,
     "metadata": {},
     "output_type": "execute_result"
    }
   ],
   "source": [
    "df.SalePrice.describe()"
   ]
  },
  {
   "cell_type": "code",
   "execution_count": 12,
   "metadata": {
    "collapsed": false
   },
   "outputs": [],
   "source": [
    "# eliminating all columns with a price over 350,000\n",
    "to_el = df[df.SalePrice > 350000].index.tolist()"
   ]
  },
  {
   "cell_type": "code",
   "execution_count": 13,
   "metadata": {
    "collapsed": true
   },
   "outputs": [],
   "source": [
    "df.drop(to_el,inplace=True)"
   ]
  },
  {
   "cell_type": "markdown",
   "metadata": {},
   "source": [
    "# MSSubClass \n",
    "\n",
    "Identifies the type of dwelling involved in the sale.\n",
    "\n",
    "As this is a column which aggregates the types of dwelling, it will be dropped.\n",
    "\n",
    "House styles, build year and building style are all contained in other columns.\n",
    "\n",
    "Columns to be created\n",
    "- Story\n",
    "- PUD"
   ]
  },
  {
   "cell_type": "code",
   "execution_count": 14,
   "metadata": {
    "collapsed": false
   },
   "outputs": [],
   "source": [
    "# creating PUD column\n",
    "\n",
    "# indexes where PUD = 1\n",
    "pud_i = df[df.MSSubClass.isin([120,150,160,180])].index.tolist()\n",
    "\n",
    "# create PUD\n",
    "df['PUD'] = 0\n",
    "\n",
    "# add ones in PUD\n",
    "for i in pud_i:\n",
    "    df.set_value(i,'PUD',1)\n",
    "    \n",
    "# test set\n",
    "# indexes where PUD = 1\n",
    "pud_i = test[test.MSSubClass.isin([120,150,160,180])].index.tolist()\n",
    "\n",
    "# create PUD\n",
    "test['PUD'] = 0\n",
    "\n",
    "# add ones in PUD\n",
    "for i in pud_i:\n",
    "    test.set_value(i,'PUD',1)"
   ]
  },
  {
   "cell_type": "code",
   "execution_count": 15,
   "metadata": {
    "collapsed": false
   },
   "outputs": [],
   "source": [
    "# dropping the MSSubClass\n",
    "df.drop('MSSubClass',axis=1,inplace=True)\n",
    "test.drop('MSSubClass',axis=1,inplace=True)"
   ]
  },
  {
   "cell_type": "markdown",
   "metadata": {},
   "source": [
    "# Items related to MSSubClass\n",
    "\n",
    "Will work on adjusting the items related to the deleted column."
   ]
  },
  {
   "cell_type": "markdown",
   "metadata": {},
   "source": [
    "# HouseStyle: Style of dwelling\n",
    "\n",
    "Decided to clasify them into 2 categories:\n",
    "- 0 - 1 Story\n",
    "- 1 - 1.5Fin, 1.5Unf\n",
    "- 1 - 2 Stories, SLvl, SFoyer\n",
    "- 2 - 2.5Fin, 2.5Unf"
   ]
  },
  {
   "cell_type": "code",
   "execution_count": 16,
   "metadata": {
    "collapsed": false
   },
   "outputs": [
    {
     "data": {
      "text/plain": [
       "1Story    696\n",
       "2Story    424\n",
       "1.5Fin    152\n",
       "SLvl       65\n",
       "SFoyer     37\n",
       "1.5Unf     14\n",
       "2.5Unf     11\n",
       "2.5Fin      7\n",
       "Name: HouseStyle, dtype: int64"
      ]
     },
     "execution_count": 16,
     "metadata": {},
     "output_type": "execute_result"
    }
   ],
   "source": [
    "df.HouseStyle.value_counts()"
   ]
  },
  {
   "cell_type": "code",
   "execution_count": 17,
   "metadata": {
    "collapsed": false,
    "scrolled": true
   },
   "outputs": [
    {
     "name": "stderr",
     "output_type": "stream",
     "text": [
      "C:\\Users\\ionutiliescu\\Anaconda3\\lib\\site-packages\\ipykernel\\__main__.py:1: SettingWithCopyWarning: \n",
      "A value is trying to be set on a copy of a slice from a DataFrame\n",
      "\n",
      "See the caveats in the documentation: http://pandas.pydata.org/pandas-docs/stable/indexing.html#indexing-view-versus-copy\n",
      "  if __name__ == '__main__':\n",
      "C:\\Users\\ionutiliescu\\Anaconda3\\lib\\site-packages\\ipykernel\\__main__.py:2: SettingWithCopyWarning: \n",
      "A value is trying to be set on a copy of a slice from a DataFrame\n",
      "\n",
      "See the caveats in the documentation: http://pandas.pydata.org/pandas-docs/stable/indexing.html#indexing-view-versus-copy\n",
      "  from ipykernel import kernelapp as app\n",
      "C:\\Users\\ionutiliescu\\Anaconda3\\lib\\site-packages\\ipykernel\\__main__.py:3: SettingWithCopyWarning: \n",
      "A value is trying to be set on a copy of a slice from a DataFrame\n",
      "\n",
      "See the caveats in the documentation: http://pandas.pydata.org/pandas-docs/stable/indexing.html#indexing-view-versus-copy\n",
      "  app.launch_new_instance()\n",
      "C:\\Users\\ionutiliescu\\Anaconda3\\lib\\site-packages\\ipykernel\\__main__.py:4: SettingWithCopyWarning: \n",
      "A value is trying to be set on a copy of a slice from a DataFrame\n",
      "\n",
      "See the caveats in the documentation: http://pandas.pydata.org/pandas-docs/stable/indexing.html#indexing-view-versus-copy\n",
      "C:\\Users\\ionutiliescu\\Anaconda3\\lib\\site-packages\\ipykernel\\__main__.py:5: SettingWithCopyWarning: \n",
      "A value is trying to be set on a copy of a slice from a DataFrame\n",
      "\n",
      "See the caveats in the documentation: http://pandas.pydata.org/pandas-docs/stable/indexing.html#indexing-view-versus-copy\n",
      "C:\\Users\\ionutiliescu\\Anaconda3\\lib\\site-packages\\ipykernel\\__main__.py:6: SettingWithCopyWarning: \n",
      "A value is trying to be set on a copy of a slice from a DataFrame\n",
      "\n",
      "See the caveats in the documentation: http://pandas.pydata.org/pandas-docs/stable/indexing.html#indexing-view-versus-copy\n",
      "C:\\Users\\ionutiliescu\\Anaconda3\\lib\\site-packages\\ipykernel\\__main__.py:7: SettingWithCopyWarning: \n",
      "A value is trying to be set on a copy of a slice from a DataFrame\n",
      "\n",
      "See the caveats in the documentation: http://pandas.pydata.org/pandas-docs/stable/indexing.html#indexing-view-versus-copy\n",
      "C:\\Users\\ionutiliescu\\Anaconda3\\lib\\site-packages\\ipykernel\\__main__.py:8: SettingWithCopyWarning: \n",
      "A value is trying to be set on a copy of a slice from a DataFrame\n",
      "\n",
      "See the caveats in the documentation: http://pandas.pydata.org/pandas-docs/stable/indexing.html#indexing-view-versus-copy\n",
      "C:\\Users\\ionutiliescu\\Anaconda3\\lib\\site-packages\\ipykernel\\__main__.py:10: SettingWithCopyWarning: \n",
      "A value is trying to be set on a copy of a slice from a DataFrame\n",
      "\n",
      "See the caveats in the documentation: http://pandas.pydata.org/pandas-docs/stable/indexing.html#indexing-view-versus-copy\n",
      "C:\\Users\\ionutiliescu\\Anaconda3\\lib\\site-packages\\ipykernel\\__main__.py:11: SettingWithCopyWarning: \n",
      "A value is trying to be set on a copy of a slice from a DataFrame\n",
      "\n",
      "See the caveats in the documentation: http://pandas.pydata.org/pandas-docs/stable/indexing.html#indexing-view-versus-copy\n",
      "C:\\Users\\ionutiliescu\\Anaconda3\\lib\\site-packages\\ipykernel\\__main__.py:12: SettingWithCopyWarning: \n",
      "A value is trying to be set on a copy of a slice from a DataFrame\n",
      "\n",
      "See the caveats in the documentation: http://pandas.pydata.org/pandas-docs/stable/indexing.html#indexing-view-versus-copy\n",
      "C:\\Users\\ionutiliescu\\Anaconda3\\lib\\site-packages\\ipykernel\\__main__.py:13: SettingWithCopyWarning: \n",
      "A value is trying to be set on a copy of a slice from a DataFrame\n",
      "\n",
      "See the caveats in the documentation: http://pandas.pydata.org/pandas-docs/stable/indexing.html#indexing-view-versus-copy\n",
      "C:\\Users\\ionutiliescu\\Anaconda3\\lib\\site-packages\\ipykernel\\__main__.py:14: SettingWithCopyWarning: \n",
      "A value is trying to be set on a copy of a slice from a DataFrame\n",
      "\n",
      "See the caveats in the documentation: http://pandas.pydata.org/pandas-docs/stable/indexing.html#indexing-view-versus-copy\n",
      "C:\\Users\\ionutiliescu\\Anaconda3\\lib\\site-packages\\ipykernel\\__main__.py:15: SettingWithCopyWarning: \n",
      "A value is trying to be set on a copy of a slice from a DataFrame\n",
      "\n",
      "See the caveats in the documentation: http://pandas.pydata.org/pandas-docs/stable/indexing.html#indexing-view-versus-copy\n",
      "C:\\Users\\ionutiliescu\\Anaconda3\\lib\\site-packages\\ipykernel\\__main__.py:16: SettingWithCopyWarning: \n",
      "A value is trying to be set on a copy of a slice from a DataFrame\n",
      "\n",
      "See the caveats in the documentation: http://pandas.pydata.org/pandas-docs/stable/indexing.html#indexing-view-versus-copy\n",
      "C:\\Users\\ionutiliescu\\Anaconda3\\lib\\site-packages\\ipykernel\\__main__.py:17: SettingWithCopyWarning: \n",
      "A value is trying to be set on a copy of a slice from a DataFrame\n",
      "\n",
      "See the caveats in the documentation: http://pandas.pydata.org/pandas-docs/stable/indexing.html#indexing-view-versus-copy\n"
     ]
    }
   ],
   "source": [
    "df.HouseStyle[df.HouseStyle == '1Story'] = 0\n",
    "df.HouseStyle[df.HouseStyle == '1.5Fin'] = 1\n",
    "df.HouseStyle[df.HouseStyle == '1.5Unf'] = 1\n",
    "df.HouseStyle[df.HouseStyle == '2Story'] = 2\n",
    "df.HouseStyle[df.HouseStyle == 'SLvl'] = 2\n",
    "df.HouseStyle[df.HouseStyle == 'SFoyer'] = 2\n",
    "df.HouseStyle[df.HouseStyle == '2.5Unf'] = 3\n",
    "df.HouseStyle[df.HouseStyle == '2.5Fin'] = 3\n",
    "\n",
    "test.HouseStyle[test.HouseStyle == '1Story'] = 0\n",
    "test.HouseStyle[test.HouseStyle == '1.5Fin'] = 1\n",
    "test.HouseStyle[test.HouseStyle == '1.5Unf'] = 1\n",
    "test.HouseStyle[test.HouseStyle == '2Story'] = 2\n",
    "test.HouseStyle[test.HouseStyle == 'SLvl'] = 2\n",
    "test.HouseStyle[test.HouseStyle == 'SFoyer'] = 2\n",
    "test.HouseStyle[test.HouseStyle == '2.5Unf'] = 3\n",
    "test.HouseStyle[test.HouseStyle == '2.5Fin'] = 3"
   ]
  },
  {
   "cell_type": "code",
   "execution_count": 18,
   "metadata": {
    "collapsed": true
   },
   "outputs": [],
   "source": [
    "# add for OneHot\n",
    "hot = ['HouseStyle']"
   ]
  },
  {
   "cell_type": "code",
   "execution_count": 19,
   "metadata": {
    "collapsed": false
   },
   "outputs": [],
   "source": [
    "df.HouseStyle = pd.to_numeric(df.HouseStyle)\n",
    "test.HouseStyle = pd.to_numeric(test.HouseStyle)"
   ]
  },
  {
   "cell_type": "markdown",
   "metadata": {},
   "source": [
    "# MSZoning\n",
    "\n",
    "Clasify in 5 categories:\n",
    "- 0 - Agriculture, Commercial, Industrial\n",
    "- 1 - RL, RP\n",
    "- 2 - RM\n",
    "- 3 - RH\n",
    "- 4 - FV"
   ]
  },
  {
   "cell_type": "code",
   "execution_count": 20,
   "metadata": {
    "collapsed": false
   },
   "outputs": [],
   "source": [
    "# some empty values\n",
    "ind = test[test.MSZoning.isnull()].index.tolist()"
   ]
  },
  {
   "cell_type": "code",
   "execution_count": 21,
   "metadata": {
    "collapsed": false
   },
   "outputs": [],
   "source": [
    "for i in ind:\n",
    "    test.set_value(i,'MSZoning',1)"
   ]
  },
  {
   "cell_type": "code",
   "execution_count": 22,
   "metadata": {
    "collapsed": false
   },
   "outputs": [
    {
     "data": {
      "text/plain": [
       "RL         1100\n",
       "RM          216\n",
       "FV           64\n",
       "RH           16\n",
       "C (all)      10\n",
       "Name: MSZoning, dtype: int64"
      ]
     },
     "execution_count": 22,
     "metadata": {},
     "output_type": "execute_result"
    }
   ],
   "source": [
    "df.MSZoning.value_counts()"
   ]
  },
  {
   "cell_type": "code",
   "execution_count": 23,
   "metadata": {
    "collapsed": false
   },
   "outputs": [
    {
     "data": {
      "text/plain": [
       "RL         1114\n",
       "RM          242\n",
       "FV           74\n",
       "C (all)      15\n",
       "RH           10\n",
       "1             4\n",
       "Name: MSZoning, dtype: int64"
      ]
     },
     "execution_count": 23,
     "metadata": {},
     "output_type": "execute_result"
    }
   ],
   "source": [
    "test.MSZoning.value_counts()"
   ]
  },
  {
   "cell_type": "code",
   "execution_count": 24,
   "metadata": {
    "collapsed": false
   },
   "outputs": [],
   "source": [
    "for i in df.index:\n",
    "    if df.MSZoning[i] == 'C (all)':\n",
    "        df.set_value(i,'MSZoning',0)\n",
    "    elif df.MSZoning[i] == 'RL':\n",
    "        df.set_value(i,'MSZoning',1)\n",
    "    elif df.MSZoning[i] == 'RM':\n",
    "        df.set_value(i,'MSZoning',2)\n",
    "    elif df.MSZoning[i] == 'RH':\n",
    "        df.set_value(i,'MSZoning',3)\n",
    "    elif df.MSZoning[i] == 'FV':\n",
    "        df.set_value(i,'MSZoning',4)"
   ]
  },
  {
   "cell_type": "code",
   "execution_count": 25,
   "metadata": {
    "collapsed": true
   },
   "outputs": [],
   "source": [
    "for i in test.index:\n",
    "    if test.MSZoning[i] == 'C (all)':\n",
    "        test.set_value(i,'MSZoning',0)\n",
    "    elif test.MSZoning[i] == 'RL':\n",
    "        test.set_value(i,'MSZoning',1)\n",
    "    elif test.MSZoning[i] == 'RM':\n",
    "        test.set_value(i,'MSZoning',2)\n",
    "    elif test.MSZoning[i] == 'RH':\n",
    "        test.set_value(i,'MSZoning',3)\n",
    "    elif test.MSZoning[i] == 'FV':\n",
    "        test.set_value(i,'MSZoning',4)"
   ]
  },
  {
   "cell_type": "code",
   "execution_count": 26,
   "metadata": {
    "collapsed": false
   },
   "outputs": [],
   "source": [
    "# add for HotEncoder\n",
    "hot.append('MSZoning')"
   ]
  },
  {
   "cell_type": "markdown",
   "metadata": {},
   "source": [
    "# LotArea\n",
    "\n",
    "Dropping the outlier columns, greater than 60,000. Not goint lower because the test set contains values in those regions."
   ]
  },
  {
   "cell_type": "code",
   "execution_count": 27,
   "metadata": {
    "collapsed": false
   },
   "outputs": [
    {
     "data": {
      "text/plain": [
       "count      1406.000000\n",
       "mean      10162.550498\n",
       "std        8306.491402\n",
       "min        1300.000000\n",
       "25%        7454.750000\n",
       "50%        9338.500000\n",
       "75%       11329.000000\n",
       "max      164660.000000\n",
       "Name: LotArea, dtype: float64"
      ]
     },
     "execution_count": 27,
     "metadata": {},
     "output_type": "execute_result"
    }
   ],
   "source": [
    "df.LotArea.describe()"
   ]
  },
  {
   "cell_type": "code",
   "execution_count": 28,
   "metadata": {
    "collapsed": false
   },
   "outputs": [
    {
     "data": {
      "text/plain": [
       "<matplotlib.axes._subplots.AxesSubplot at 0x267f24fef98>"
      ]
     },
     "execution_count": 28,
     "metadata": {},
     "output_type": "execute_result"
    },
    {
     "data": {
      "image/png": "[encoded data removed]",
      "text/plain": [
       "<matplotlib.figure.Figure at 0x267f2af6fd0>"
      ]
     },
     "metadata": {},
     "output_type": "display_data"
    }
   ],
   "source": [
    "df.LotArea.hist()"
   ]
  },
  {
   "cell_type": "code",
   "execution_count": 29,
   "metadata": {
    "collapsed": false
   },
   "outputs": [],
   "source": [
    "to_drop = df.LotArea[df.LotArea > 60000].keys().tolist()\n",
    "df.drop(to_drop, inplace=True)"
   ]
  },
  {
   "cell_type": "code",
   "execution_count": 30,
   "metadata": {
    "collapsed": true
   },
   "outputs": [],
   "source": [
    "skw = ['LotArea']"
   ]
  },
  {
   "cell_type": "markdown",
   "metadata": {},
   "source": [
    "# Street\n",
    "\n",
    "Heavily skewed, will drop it."
   ]
  },
  {
   "cell_type": "code",
   "execution_count": 31,
   "metadata": {
    "collapsed": false
   },
   "outputs": [],
   "source": [
    "df.drop('Street',axis=1,inplace=True)\n",
    "test.drop('Street',axis=1,inplace=True)"
   ]
  },
  {
   "cell_type": "markdown",
   "metadata": {},
   "source": [
    "# Alley\n",
    "\n",
    "A lot of empty rows, will do more harm than good to the model. Eliminating."
   ]
  },
  {
   "cell_type": "code",
   "execution_count": 32,
   "metadata": {
    "collapsed": false
   },
   "outputs": [],
   "source": [
    "df.drop('Alley',axis=1,inplace=True)\n",
    "test.drop('Alley',axis=1,inplace=True)"
   ]
  },
  {
   "cell_type": "markdown",
   "metadata": {},
   "source": [
    "# LotShape\n",
    "\n",
    "Clasify as 0 - Irregular, 1 - Regular"
   ]
  },
  {
   "cell_type": "code",
   "execution_count": 33,
   "metadata": {
    "collapsed": false,
    "scrolled": true
   },
   "outputs": [
    {
     "name": "stderr",
     "output_type": "stream",
     "text": [
      "C:\\Users\\ionutiliescu\\Anaconda3\\lib\\site-packages\\ipykernel\\__main__.py:1: SettingWithCopyWarning: \n",
      "A value is trying to be set on a copy of a slice from a DataFrame\n",
      "\n",
      "See the caveats in the documentation: http://pandas.pydata.org/pandas-docs/stable/indexing.html#indexing-view-versus-copy\n",
      "  if __name__ == '__main__':\n",
      "C:\\Users\\ionutiliescu\\Anaconda3\\lib\\site-packages\\ipykernel\\__main__.py:2: SettingWithCopyWarning: \n",
      "A value is trying to be set on a copy of a slice from a DataFrame\n",
      "\n",
      "See the caveats in the documentation: http://pandas.pydata.org/pandas-docs/stable/indexing.html#indexing-view-versus-copy\n",
      "  from ipykernel import kernelapp as app\n",
      "C:\\Users\\ionutiliescu\\Anaconda3\\lib\\site-packages\\ipykernel\\__main__.py:3: SettingWithCopyWarning: \n",
      "A value is trying to be set on a copy of a slice from a DataFrame\n",
      "\n",
      "See the caveats in the documentation: http://pandas.pydata.org/pandas-docs/stable/indexing.html#indexing-view-versus-copy\n",
      "  app.launch_new_instance()\n",
      "C:\\Users\\ionutiliescu\\Anaconda3\\lib\\site-packages\\ipykernel\\__main__.py:4: SettingWithCopyWarning: \n",
      "A value is trying to be set on a copy of a slice from a DataFrame\n",
      "\n",
      "See the caveats in the documentation: http://pandas.pydata.org/pandas-docs/stable/indexing.html#indexing-view-versus-copy\n",
      "C:\\Users\\ionutiliescu\\Anaconda3\\lib\\site-packages\\ipykernel\\__main__.py:5: SettingWithCopyWarning: \n",
      "A value is trying to be set on a copy of a slice from a DataFrame\n",
      "\n",
      "See the caveats in the documentation: http://pandas.pydata.org/pandas-docs/stable/indexing.html#indexing-view-versus-copy\n",
      "C:\\Users\\ionutiliescu\\Anaconda3\\lib\\site-packages\\ipykernel\\__main__.py:6: SettingWithCopyWarning: \n",
      "A value is trying to be set on a copy of a slice from a DataFrame\n",
      "\n",
      "See the caveats in the documentation: http://pandas.pydata.org/pandas-docs/stable/indexing.html#indexing-view-versus-copy\n",
      "C:\\Users\\ionutiliescu\\Anaconda3\\lib\\site-packages\\ipykernel\\__main__.py:7: SettingWithCopyWarning: \n",
      "A value is trying to be set on a copy of a slice from a DataFrame\n",
      "\n",
      "See the caveats in the documentation: http://pandas.pydata.org/pandas-docs/stable/indexing.html#indexing-view-versus-copy\n",
      "C:\\Users\\ionutiliescu\\Anaconda3\\lib\\site-packages\\ipykernel\\__main__.py:8: SettingWithCopyWarning: \n",
      "A value is trying to be set on a copy of a slice from a DataFrame\n",
      "\n",
      "See the caveats in the documentation: http://pandas.pydata.org/pandas-docs/stable/indexing.html#indexing-view-versus-copy\n"
     ]
    }
   ],
   "source": [
    "df.LotShape[df.LotShape == 'Reg'] = 1\n",
    "df.LotShape[df.LotShape == 'IR1'] = 0\n",
    "df.LotShape[df.LotShape == 'IR2'] = 0\n",
    "df.LotShape[df.LotShape == 'IR3'] = 0\n",
    "test.LotShape[test.LotShape == 'Reg'] = 1\n",
    "test.LotShape[test.LotShape == 'IR1'] = 0\n",
    "test.LotShape[test.LotShape == 'IR2'] = 0\n",
    "test.LotShape[test.LotShape == 'IR3'] = 0"
   ]
  },
  {
   "cell_type": "markdown",
   "metadata": {},
   "source": [
    "# LandContour\n",
    "\n",
    "Split in 4 categories. Add to OneHot."
   ]
  },
  {
   "cell_type": "code",
   "execution_count": 34,
   "metadata": {
    "collapsed": false
   },
   "outputs": [
    {
     "data": {
      "text/plain": [
       "Lvl    1268\n",
       "Bnk      62\n",
       "HLS      40\n",
       "Low      31\n",
       "Name: LandContour, dtype: int64"
      ]
     },
     "execution_count": 34,
     "metadata": {},
     "output_type": "execute_result"
    }
   ],
   "source": [
    "df.LandContour.value_counts()"
   ]
  },
  {
   "cell_type": "code",
   "execution_count": 35,
   "metadata": {
    "collapsed": false
   },
   "outputs": [],
   "source": [
    "for i in df.index:\n",
    "    if df.LandContour[i] == 'Lvl':\n",
    "        df.set_value(i,'LandContour', 0)\n",
    "    elif df.LandContour[i] == 'Bnk':\n",
    "        df.set_value(i,'LandContour', 1)\n",
    "    elif df.LandContour[i] == 'HLS':\n",
    "        df.set_value(i,'LandContour', 2)\n",
    "    elif df.LandContour[i] == 'Low':\n",
    "        df.set_value(i,'LandContour', 3)"
   ]
  },
  {
   "cell_type": "code",
   "execution_count": 36,
   "metadata": {
    "collapsed": false
   },
   "outputs": [],
   "source": [
    "for i in test.index:\n",
    "    if test.LandContour[i] == 'Lvl':\n",
    "        test.set_value(i,'LandContour', 0)\n",
    "    elif test.LandContour[i] == 'Bnk':\n",
    "        test.set_value(i,'LandContour', 1)\n",
    "    elif test.LandContour[i] == 'HLS':\n",
    "        test.set_value(i,'LandContour', 2)\n",
    "    elif test.LandContour[i] == 'Low':\n",
    "        test.set_value(i,'LandContour', 3)"
   ]
  },
  {
   "cell_type": "code",
   "execution_count": 37,
   "metadata": {
    "collapsed": true
   },
   "outputs": [],
   "source": [
    "hot.append('LandContour')"
   ]
  },
  {
   "cell_type": "markdown",
   "metadata": {},
   "source": [
    "# Utilities\n",
    "\n",
    "Pointless column. Eliminating it"
   ]
  },
  {
   "cell_type": "code",
   "execution_count": 38,
   "metadata": {
    "collapsed": false
   },
   "outputs": [
    {
     "data": {
      "text/plain": [
       "AllPub    1400\n",
       "NoSeWa       1\n",
       "Name: Utilities, dtype: int64"
      ]
     },
     "execution_count": 38,
     "metadata": {},
     "output_type": "execute_result"
    }
   ],
   "source": [
    "df.Utilities.value_counts()"
   ]
  },
  {
   "cell_type": "code",
   "execution_count": 39,
   "metadata": {
    "collapsed": false
   },
   "outputs": [
    {
     "data": {
      "text/plain": [
       "AllPub    1457\n",
       "Name: Utilities, dtype: int64"
      ]
     },
     "execution_count": 39,
     "metadata": {},
     "output_type": "execute_result"
    }
   ],
   "source": [
    "test.Utilities.value_counts()"
   ]
  },
  {
   "cell_type": "code",
   "execution_count": 40,
   "metadata": {
    "collapsed": true
   },
   "outputs": [],
   "source": [
    "df.drop('Utilities',axis=1,inplace=True)\n",
    "test.drop('Utilities',axis=1,inplace=True)"
   ]
  },
  {
   "cell_type": "markdown",
   "metadata": {},
   "source": [
    "# LotConfig\n",
    "\n",
    "4 Categories, add to OneHot"
   ]
  },
  {
   "cell_type": "code",
   "execution_count": 41,
   "metadata": {
    "collapsed": false
   },
   "outputs": [
    {
     "data": {
      "text/plain": [
       "Inside     1013\n",
       "Corner      254\n",
       "CulDSac      84\n",
       "FR2          46\n",
       "FR3           4\n",
       "Name: LotConfig, dtype: int64"
      ]
     },
     "execution_count": 41,
     "metadata": {},
     "output_type": "execute_result"
    }
   ],
   "source": [
    "df.LotConfig.value_counts()"
   ]
  },
  {
   "cell_type": "code",
   "execution_count": 42,
   "metadata": {
    "collapsed": false
   },
   "outputs": [
    {
     "data": {
      "text/plain": [
       "Inside     1081\n",
       "Corner      248\n",
       "CulDSac      82\n",
       "FR2          38\n",
       "FR3          10\n",
       "Name: LotConfig, dtype: int64"
      ]
     },
     "execution_count": 42,
     "metadata": {},
     "output_type": "execute_result"
    }
   ],
   "source": [
    "test.LotConfig.value_counts()"
   ]
  },
  {
   "cell_type": "code",
   "execution_count": 43,
   "metadata": {
    "collapsed": true
   },
   "outputs": [],
   "source": [
    "for i in df.index:\n",
    "    if df.LotConfig[i] == 'Inside':\n",
    "        df.set_value(i,'LotConfig', 0)\n",
    "    elif df.LotConfig[i] == 'Corner':\n",
    "        df.set_value(i,'LotConfig', 1)\n",
    "    elif df.LotConfig[i] == 'CulDSac':\n",
    "        df.set_value(i,'LotConfig', 2)\n",
    "    elif df.LotConfig[i] in ['FR2','FR3']:\n",
    "        df.set_value(i,'LotConfig', 3)"
   ]
  },
  {
   "cell_type": "code",
   "execution_count": 44,
   "metadata": {
    "collapsed": false
   },
   "outputs": [],
   "source": [
    "for i in test.index:\n",
    "    if test.LotConfig[i] == 'Inside':\n",
    "        test.set_value(i,'LotConfig', 0)\n",
    "    elif test.LotConfig[i] == 'Corner':\n",
    "        test.set_value(i,'LotConfig', 1)\n",
    "    elif test.LotConfig[i] == 'CulDSac':\n",
    "        test.set_value(i,'LotConfig', 2)\n",
    "    elif test.LotConfig[i] in ['FR2','FR3']:\n",
    "        test.set_value(i,'LotConfig', 3)"
   ]
  },
  {
   "cell_type": "code",
   "execution_count": 45,
   "metadata": {
    "collapsed": true
   },
   "outputs": [],
   "source": [
    "hot.append('LotConfig')"
   ]
  },
  {
   "cell_type": "markdown",
   "metadata": {},
   "source": [
    "# LandSlope\n",
    "\n",
    "Not helpful, dropping it."
   ]
  },
  {
   "cell_type": "code",
   "execution_count": 46,
   "metadata": {
    "collapsed": false
   },
   "outputs": [
    {
     "data": {
      "text/plain": [
       "Gtl    1332\n",
       "Mod      60\n",
       "Sev       9\n",
       "Name: LandSlope, dtype: int64"
      ]
     },
     "execution_count": 46,
     "metadata": {},
     "output_type": "execute_result"
    }
   ],
   "source": [
    "df.LandSlope.value_counts()"
   ]
  },
  {
   "cell_type": "code",
   "execution_count": 47,
   "metadata": {
    "collapsed": false
   },
   "outputs": [
    {
     "data": {
      "text/plain": [
       "Gtl    1396\n",
       "Mod      60\n",
       "Sev       3\n",
       "Name: LandSlope, dtype: int64"
      ]
     },
     "execution_count": 47,
     "metadata": {},
     "output_type": "execute_result"
    }
   ],
   "source": [
    "test.LandSlope.value_counts()"
   ]
  },
  {
   "cell_type": "code",
   "execution_count": 48,
   "metadata": {
    "collapsed": true
   },
   "outputs": [],
   "source": [
    "df.drop('LandSlope',axis=1,inplace=True)\n",
    "test.drop('LandSlope',axis=1,inplace=True)"
   ]
  },
  {
   "cell_type": "markdown",
   "metadata": {},
   "source": [
    "# Neighborhood\n",
    "\n",
    "LabelEncoder adding for OneHotEncoder at the end."
   ]
  },
  {
   "cell_type": "code",
   "execution_count": 49,
   "metadata": {
    "collapsed": false,
    "scrolled": true
   },
   "outputs": [],
   "source": [
    "encoder = LabelEncoder()"
   ]
  },
  {
   "cell_type": "code",
   "execution_count": 50,
   "metadata": {
    "collapsed": false,
    "scrolled": true
   },
   "outputs": [],
   "source": [
    "# first fitting and transforming the df column\n",
    "df.Neighborhood = encoder.fit_transform(df.Neighborhood)"
   ]
  },
  {
   "cell_type": "code",
   "execution_count": 51,
   "metadata": {
    "collapsed": false
   },
   "outputs": [],
   "source": [
    "# then fitting the test column\n",
    "test.Neighborhood = encoder.transform(test.Neighborhood)"
   ]
  },
  {
   "cell_type": "code",
   "execution_count": 52,
   "metadata": {
    "collapsed": false
   },
   "outputs": [],
   "source": [
    "hot.append('Neighborhood')"
   ]
  },
  {
   "cell_type": "markdown",
   "metadata": {},
   "source": [
    "# Condition1, Condition 2\n",
    "\n",
    "Identified the categories as having the following impact, based on the mean price where they are conditions:\n",
    "- Positive: PosN, RRNn, RRNe, PosA - 2\n",
    "- Neutral: Norm, RRAn - 1\n",
    "- Negative: Feedr, Artery, RRAe - 0\n",
    "\n",
    "Adding the final result to a new column, Conditions."
   ]
  },
  {
   "cell_type": "code",
   "execution_count": 53,
   "metadata": {
    "collapsed": false
   },
   "outputs": [
    {
     "data": {
      "text/plain": [
       "Norm      1205\n",
       "Feedr       80\n",
       "Artery      47\n",
       "RRAn        25\n",
       "PosN        18\n",
       "RRAe        11\n",
       "PosA         8\n",
       "RRNn         5\n",
       "RRNe         2\n",
       "Name: Condition1, dtype: int64"
      ]
     },
     "execution_count": 53,
     "metadata": {},
     "output_type": "execute_result"
    }
   ],
   "source": [
    "df.Condition1.value_counts()"
   ]
  },
  {
   "cell_type": "code",
   "execution_count": 54,
   "metadata": {
    "collapsed": false
   },
   "outputs": [
    {
     "data": {
      "text/plain": [
       "Norm      1387\n",
       "Feedr        6\n",
       "RRNn         2\n",
       "Artery       2\n",
       "PosA         1\n",
       "PosN         1\n",
       "RRAe         1\n",
       "RRAn         1\n",
       "Name: Condition2, dtype: int64"
      ]
     },
     "execution_count": 54,
     "metadata": {},
     "output_type": "execute_result"
    }
   ],
   "source": [
    "df.Condition2.value_counts()"
   ]
  },
  {
   "cell_type": "code",
   "execution_count": 55,
   "metadata": {
    "collapsed": false
   },
   "outputs": [
    {
     "data": {
      "text/html": [
       "<div>\n",
       "<style>\n",
       "    .dataframe thead tr:only-child th {\n",
       "        text-align: right;\n",
       "    }\n",
       "\n",
       "    .dataframe thead th {\n",
       "        text-align: left;\n",
       "    }\n",
       "\n",
       "    .dataframe tbody tr th {\n",
       "        vertical-align: top;\n",
       "    }\n",
       "</style>\n",
       "<table border=\"1\" class=\"dataframe\">\n",
       "  <thead>\n",
       "    <tr style=\"text-align: right;\">\n",
       "      <th></th>\n",
       "      <th>Condition1</th>\n",
       "      <th>Condition2</th>\n",
       "    </tr>\n",
       "  </thead>\n",
       "  <tbody>\n",
       "    <tr>\n",
       "      <th>9</th>\n",
       "      <td>Artery</td>\n",
       "      <td>Artery</td>\n",
       "    </tr>\n",
       "    <tr>\n",
       "      <th>29</th>\n",
       "      <td>Feedr</td>\n",
       "      <td>RRNn</td>\n",
       "    </tr>\n",
       "    <tr>\n",
       "      <th>63</th>\n",
       "      <td>RRAn</td>\n",
       "      <td>Feedr</td>\n",
       "    </tr>\n",
       "    <tr>\n",
       "      <th>88</th>\n",
       "      <td>Feedr</td>\n",
       "      <td>Feedr</td>\n",
       "    </tr>\n",
       "    <tr>\n",
       "      <th>184</th>\n",
       "      <td>RRAn</td>\n",
       "      <td>Feedr</td>\n",
       "    </tr>\n",
       "    <tr>\n",
       "      <th>523</th>\n",
       "      <td>PosN</td>\n",
       "      <td>PosN</td>\n",
       "    </tr>\n",
       "    <tr>\n",
       "      <th>531</th>\n",
       "      <td>RRNn</td>\n",
       "      <td>Feedr</td>\n",
       "    </tr>\n",
       "    <tr>\n",
       "      <th>548</th>\n",
       "      <td>Feedr</td>\n",
       "      <td>RRNn</td>\n",
       "    </tr>\n",
       "    <tr>\n",
       "      <th>583</th>\n",
       "      <td>Artery</td>\n",
       "      <td>PosA</td>\n",
       "    </tr>\n",
       "    <tr>\n",
       "      <th>589</th>\n",
       "      <td>RRAn</td>\n",
       "      <td>Feedr</td>\n",
       "    </tr>\n",
       "    <tr>\n",
       "      <th>974</th>\n",
       "      <td>RRAn</td>\n",
       "      <td>Feedr</td>\n",
       "    </tr>\n",
       "    <tr>\n",
       "      <th>1003</th>\n",
       "      <td>Feedr</td>\n",
       "      <td>RRAn</td>\n",
       "    </tr>\n",
       "    <tr>\n",
       "      <th>1186</th>\n",
       "      <td>Artery</td>\n",
       "      <td>Artery</td>\n",
       "    </tr>\n",
       "    <tr>\n",
       "      <th>1230</th>\n",
       "      <td>Feedr</td>\n",
       "      <td>RRAe</td>\n",
       "    </tr>\n",
       "  </tbody>\n",
       "</table>\n",
       "</div>"
      ],
      "text/plain": [
       "     Condition1 Condition2\n",
       "9        Artery     Artery\n",
       "29        Feedr       RRNn\n",
       "63         RRAn      Feedr\n",
       "88        Feedr      Feedr\n",
       "184        RRAn      Feedr\n",
       "523        PosN       PosN\n",
       "531        RRNn      Feedr\n",
       "548       Feedr       RRNn\n",
       "583      Artery       PosA\n",
       "589        RRAn      Feedr\n",
       "974        RRAn      Feedr\n",
       "1003      Feedr       RRAn\n",
       "1186     Artery     Artery\n",
       "1230      Feedr       RRAe"
      ]
     },
     "execution_count": 55,
     "metadata": {},
     "output_type": "execute_result"
    }
   ],
   "source": [
    "# classifying ones that appear in both columns and are not Norm\n",
    "df[df.Condition2 != 'Norm'][['Condition1', 'Condition2']]\n",
    "\n",
    "# 9 - Neg\n",
    "# 29 - Neg\n",
    "# 63 - Neg\n",
    "# 88 - Neg\n",
    "# 184 - Neg\n",
    "# 523 - Pos\n",
    "# 531 - Normal\n",
    "# 548 - Neg\n",
    "# 583 - Pos\n",
    "# 589 - Neg\n",
    "# 974 - Neg\n",
    "# 1003 - Neg\n",
    "# 1186 - Neg\n",
    "# 1230 - Neg"
   ]
  },
  {
   "cell_type": "code",
   "execution_count": 56,
   "metadata": {
    "collapsed": true
   },
   "outputs": [],
   "source": [
    "# positive and negative categories\n",
    "pos_c = ['PosN', 'RRNn', 'RRNe', 'PosA']\n",
    "neg_c = ['Feedr', 'Artery', 'RRAe']"
   ]
  },
  {
   "cell_type": "code",
   "execution_count": 57,
   "metadata": {
    "collapsed": true
   },
   "outputs": [],
   "source": [
    "# finding the indexes of those in Condition1 column\n",
    "negs = []\n",
    "pos = []\n",
    "for i in df.index:\n",
    "    if df['Condition1'][i] in pos_c:\n",
    "        pos.append(i)\n",
    "    elif df['Condition1'][i] in neg_c:\n",
    "        negs.append(i)"
   ]
  },
  {
   "cell_type": "code",
   "execution_count": 58,
   "metadata": {
    "collapsed": true
   },
   "outputs": [],
   "source": [
    "# adding the extra ones in Condition2 in their corresponding categories\n",
    "negs.append([9,29,63,88,184,548,589,974,1003,1186,1230])\n",
    "pos.append([523,583])"
   ]
  },
  {
   "cell_type": "code",
   "execution_count": 59,
   "metadata": {
    "collapsed": true
   },
   "outputs": [],
   "source": [
    "# creating the new column with Normal as standard\n",
    "df['Conditions'] = 1"
   ]
  },
  {
   "cell_type": "code",
   "execution_count": 60,
   "metadata": {
    "collapsed": false
   },
   "outputs": [],
   "source": [
    "# replacing the corresponding rows with the categories\n",
    "for i in negs:\n",
    "    df.set_value(i,'Conditions',0)\n",
    "    \n",
    "for i in pos:\n",
    "    df.set_value(i,'Conditions',2)"
   ]
  },
  {
   "cell_type": "code",
   "execution_count": 61,
   "metadata": {
    "collapsed": false
   },
   "outputs": [
    {
     "data": {
      "text/plain": [
       "Norm      1251\n",
       "Feedr       83\n",
       "Artery      44\n",
       "RRAn        24\n",
       "PosN        20\n",
       "RRAe        17\n",
       "PosA        12\n",
       "RRNn         4\n",
       "RRNe         4\n",
       "Name: Condition1, dtype: int64"
      ]
     },
     "execution_count": 61,
     "metadata": {},
     "output_type": "execute_result"
    }
   ],
   "source": [
    "# same for test set\n",
    "test.Condition1.value_counts()"
   ]
  },
  {
   "cell_type": "code",
   "execution_count": 62,
   "metadata": {
    "collapsed": false
   },
   "outputs": [
    {
     "data": {
      "text/plain": [
       "Norm      1444\n",
       "Feedr        7\n",
       "PosA         3\n",
       "Artery       3\n",
       "PosN         2\n",
       "Name: Condition2, dtype: int64"
      ]
     },
     "execution_count": 62,
     "metadata": {},
     "output_type": "execute_result"
    }
   ],
   "source": [
    "test.Condition2.value_counts()"
   ]
  },
  {
   "cell_type": "code",
   "execution_count": 63,
   "metadata": {
    "collapsed": false
   },
   "outputs": [
    {
     "data": {
      "text/html": [
       "<div>\n",
       "<style>\n",
       "    .dataframe thead tr:only-child th {\n",
       "        text-align: right;\n",
       "    }\n",
       "\n",
       "    .dataframe thead th {\n",
       "        text-align: left;\n",
       "    }\n",
       "\n",
       "    .dataframe tbody tr th {\n",
       "        vertical-align: top;\n",
       "    }\n",
       "</style>\n",
       "<table border=\"1\" class=\"dataframe\">\n",
       "  <thead>\n",
       "    <tr style=\"text-align: right;\">\n",
       "      <th></th>\n",
       "      <th>Condition1</th>\n",
       "      <th>Condition2</th>\n",
       "    </tr>\n",
       "  </thead>\n",
       "  <tbody>\n",
       "    <tr>\n",
       "      <th>81</th>\n",
       "      <td>Feedr</td>\n",
       "      <td>Feedr</td>\n",
       "    </tr>\n",
       "    <tr>\n",
       "      <th>203</th>\n",
       "      <td>PosA</td>\n",
       "      <td>PosA</td>\n",
       "    </tr>\n",
       "    <tr>\n",
       "      <th>245</th>\n",
       "      <td>PosN</td>\n",
       "      <td>PosN</td>\n",
       "    </tr>\n",
       "    <tr>\n",
       "      <th>486</th>\n",
       "      <td>PosN</td>\n",
       "      <td>PosN</td>\n",
       "    </tr>\n",
       "    <tr>\n",
       "      <th>593</th>\n",
       "      <td>RRAn</td>\n",
       "      <td>Feedr</td>\n",
       "    </tr>\n",
       "    <tr>\n",
       "      <th>650</th>\n",
       "      <td>RRAn</td>\n",
       "      <td>Artery</td>\n",
       "    </tr>\n",
       "    <tr>\n",
       "      <th>653</th>\n",
       "      <td>Feedr</td>\n",
       "      <td>Feedr</td>\n",
       "    </tr>\n",
       "    <tr>\n",
       "      <th>778</th>\n",
       "      <td>Feedr</td>\n",
       "      <td>Artery</td>\n",
       "    </tr>\n",
       "    <tr>\n",
       "      <th>807</th>\n",
       "      <td>PosA</td>\n",
       "      <td>PosA</td>\n",
       "    </tr>\n",
       "    <tr>\n",
       "      <th>940</th>\n",
       "      <td>RRAn</td>\n",
       "      <td>Feedr</td>\n",
       "    </tr>\n",
       "    <tr>\n",
       "      <th>995</th>\n",
       "      <td>RRNn</td>\n",
       "      <td>Artery</td>\n",
       "    </tr>\n",
       "    <tr>\n",
       "      <th>1138</th>\n",
       "      <td>PosA</td>\n",
       "      <td>PosA</td>\n",
       "    </tr>\n",
       "    <tr>\n",
       "      <th>1258</th>\n",
       "      <td>RRAn</td>\n",
       "      <td>Feedr</td>\n",
       "    </tr>\n",
       "    <tr>\n",
       "      <th>1336</th>\n",
       "      <td>RRAn</td>\n",
       "      <td>Feedr</td>\n",
       "    </tr>\n",
       "    <tr>\n",
       "      <th>1342</th>\n",
       "      <td>Feedr</td>\n",
       "      <td>Feedr</td>\n",
       "    </tr>\n",
       "  </tbody>\n",
       "</table>\n",
       "</div>"
      ],
      "text/plain": [
       "     Condition1 Condition2\n",
       "81        Feedr      Feedr\n",
       "203        PosA       PosA\n",
       "245        PosN       PosN\n",
       "486        PosN       PosN\n",
       "593        RRAn      Feedr\n",
       "650        RRAn     Artery\n",
       "653       Feedr      Feedr\n",
       "778       Feedr     Artery\n",
       "807        PosA       PosA\n",
       "940        RRAn      Feedr\n",
       "995        RRNn     Artery\n",
       "1138       PosA       PosA\n",
       "1258       RRAn      Feedr\n",
       "1336       RRAn      Feedr\n",
       "1342      Feedr      Feedr"
      ]
     },
     "execution_count": 63,
     "metadata": {},
     "output_type": "execute_result"
    }
   ],
   "source": [
    "# classifying ones that appear in both columns and are not Norm\n",
    "test[test.Condition2 != 'Norm'][['Condition1', 'Condition2']]\n",
    "\n",
    "# 81 - Neg\n",
    "# 203 - Pos\n",
    "# 245 - Pos\n",
    "# 486 - Pos\n",
    "# 593 - Neg\n",
    "# 650 - Neg\n",
    "# 778 - Neg\n",
    "# 807 - Pos\n",
    "# 940 - Neg\n",
    "# 995 - Neg\n",
    "# 1138 - Pos\n",
    "# 1258 - Neg\n",
    "# 1336 - Neg\n",
    "# 1342 - Neg"
   ]
  },
  {
   "cell_type": "code",
   "execution_count": 64,
   "metadata": {
    "collapsed": true
   },
   "outputs": [],
   "source": [
    "negs = []\n",
    "pos = []\n",
    "for i in test.index:\n",
    "    if test['Condition1'][i] in pos_c:\n",
    "        pos.append(i)\n",
    "    elif test['Condition1'][i] in neg_c:\n",
    "        negs.append(i)"
   ]
  },
  {
   "cell_type": "code",
   "execution_count": 65,
   "metadata": {
    "collapsed": true
   },
   "outputs": [],
   "source": [
    "negs.append([81,593,650,778,940,995,1258,1336,1342])\n",
    "pos.append([203,245,486,807,1138])"
   ]
  },
  {
   "cell_type": "code",
   "execution_count": 66,
   "metadata": {
    "collapsed": true
   },
   "outputs": [],
   "source": [
    "test['Conditions'] = 1"
   ]
  },
  {
   "cell_type": "code",
   "execution_count": 67,
   "metadata": {
    "collapsed": true
   },
   "outputs": [],
   "source": [
    "for i in negs:\n",
    "    test.set_value(i,'Conditions',0)\n",
    "    \n",
    "for i in pos:\n",
    "    test.set_value(i,'Conditions',2)"
   ]
  },
  {
   "cell_type": "code",
   "execution_count": 68,
   "metadata": {
    "collapsed": false
   },
   "outputs": [],
   "source": [
    "# dropping them once done\n",
    "df.drop('Condition1',axis=1,inplace=True)\n",
    "test.drop('Condition1',axis=1,inplace=True)\n",
    "df.drop('Condition2',axis=1,inplace=True)\n",
    "test.drop('Condition2',axis=1,inplace=True)"
   ]
  },
  {
   "cell_type": "markdown",
   "metadata": {},
   "source": [
    "# BldgType\n",
    "\n",
    "Convert to family - 1, not family - 0"
   ]
  },
  {
   "cell_type": "code",
   "execution_count": 69,
   "metadata": {
    "collapsed": false
   },
   "outputs": [
    {
     "data": {
      "text/plain": [
       "1Fam      1164\n",
       "TwnhsE     112\n",
       "Duplex      52\n",
       "Twnhs       43\n",
       "2fmCon      30\n",
       "Name: BldgType, dtype: int64"
      ]
     },
     "execution_count": 69,
     "metadata": {},
     "output_type": "execute_result"
    }
   ],
   "source": [
    "df.BldgType.value_counts()"
   ]
  },
  {
   "cell_type": "code",
   "execution_count": 70,
   "metadata": {
    "collapsed": false
   },
   "outputs": [
    {
     "data": {
      "text/plain": [
       "1Fam      1205\n",
       "TwnhsE     113\n",
       "Duplex      57\n",
       "Twnhs       53\n",
       "2fmCon      31\n",
       "Name: BldgType, dtype: int64"
      ]
     },
     "execution_count": 70,
     "metadata": {},
     "output_type": "execute_result"
    }
   ],
   "source": [
    "test.BldgType.value_counts()"
   ]
  },
  {
   "cell_type": "code",
   "execution_count": 71,
   "metadata": {
    "collapsed": true
   },
   "outputs": [],
   "source": [
    "for i in df.index:\n",
    "    if df.BldgType[i] in ['1Fam', '2fmCon']:\n",
    "        df.set_value(i,'BldgType',1)\n",
    "    else:\n",
    "        df.set_value(i,'BldgType',0)\n",
    "        \n",
    "for i in test.index:\n",
    "    if test.BldgType[i] in ['1Fam', '2fmCon']:\n",
    "        test.set_value(i,'BldgType',1)\n",
    "    else:\n",
    "        test.set_value(i,'BldgType',0)"
   ]
  },
  {
   "cell_type": "markdown",
   "metadata": {},
   "source": [
    "# OverallQual\n",
    "\n",
    "Split in 3: 0: Poor, 1 - Average, 2 - Good"
   ]
  },
  {
   "cell_type": "code",
   "execution_count": 72,
   "metadata": {
    "collapsed": false
   },
   "outputs": [
    {
     "data": {
      "text/plain": [
       "5     396\n",
       "6     373\n",
       "7     315\n",
       "8     149\n",
       "4     116\n",
       "9      23\n",
       "3      20\n",
       "10      4\n",
       "2       3\n",
       "1       2\n",
       "Name: OverallQual, dtype: int64"
      ]
     },
     "execution_count": 72,
     "metadata": {},
     "output_type": "execute_result"
    }
   ],
   "source": [
    "df.OverallQual.value_counts()"
   ]
  },
  {
   "cell_type": "code",
   "execution_count": 73,
   "metadata": {
    "collapsed": true
   },
   "outputs": [],
   "source": [
    "good = [10,9,8,7]\n",
    "average = [6,5,4]\n",
    "bad = [3,2,1]"
   ]
  },
  {
   "cell_type": "code",
   "execution_count": 74,
   "metadata": {
    "collapsed": false
   },
   "outputs": [],
   "source": [
    "# train\n",
    "for i in df.index:\n",
    "    if df['OverallQual'][i] in good:\n",
    "        df.set_value(i,'OverallQual',2)\n",
    "    elif df['OverallQual'][i] in average:\n",
    "        df.set_value(i,'OverallQual',1)\n",
    "    elif df['OverallQual'][i] in bad:\n",
    "        df.set_value(i,'OverallQual',0)"
   ]
  },
  {
   "cell_type": "code",
   "execution_count": 75,
   "metadata": {
    "collapsed": true
   },
   "outputs": [],
   "source": [
    "# test\n",
    "for i in test.index:\n",
    "    if test['OverallQual'][i] in good:\n",
    "        test.set_value(i,'OverallQual',2)\n",
    "    elif test['OverallQual'][i] in average:\n",
    "        test.set_value(i,'OverallQual',1)\n",
    "    elif test['OverallQual'][i] in bad:\n",
    "        test.set_value(i,'OverallQual',0)"
   ]
  },
  {
   "cell_type": "markdown",
   "metadata": {},
   "source": [
    "# OverallCond\n",
    "\n",
    "Split in 3: 0: Poor, 1 - Average, 2 - Good"
   ]
  },
  {
   "cell_type": "code",
   "execution_count": 76,
   "metadata": {
    "collapsed": true
   },
   "outputs": [],
   "source": [
    "# train\n",
    "for i in df.index:\n",
    "    if df['OverallCond'][i] in good:\n",
    "        df.set_value(i,'OverallCond',2)\n",
    "    elif df['OverallCond'][i] in average:\n",
    "        df.set_value(i,'OverallCond',1)\n",
    "    elif df['OverallCond'][i] in bad:\n",
    "        df.set_value(i,'OverallCond',0)\n",
    "        \n",
    "# test\n",
    "for i in test.index:\n",
    "    if test['OverallCond'][i] in good:\n",
    "        test.set_value(i,'OverallCond',2)\n",
    "    elif test['OverallCond'][i] in average:\n",
    "        test.set_value(i,'OverallCond',1)\n",
    "    elif test['OverallCond'][i] in bad:\n",
    "        test.set_value(i,'OverallCond',0)"
   ]
  },
  {
   "cell_type": "markdown",
   "metadata": {},
   "source": [
    "# YearRemodAdd\n",
    "\n",
    "Replacing with 1 - Yes and 0 - No."
   ]
  },
  {
   "cell_type": "code",
   "execution_count": 77,
   "metadata": {
    "collapsed": true
   },
   "outputs": [],
   "source": [
    "for i in df.index:\n",
    "    if df['YearBuilt'][i] == df['YearRemodAdd'][i]:\n",
    "        df.set_value(i,'YearRemodAdd',1)\n",
    "    else:\n",
    "        df.set_value(i,'YearRemodAdd',0)\n",
    "        \n",
    "for i in test.index:\n",
    "    if test['YearBuilt'][i] == test['YearRemodAdd'][i]:\n",
    "        test.set_value(i,'YearRemodAdd',1)\n",
    "    else:\n",
    "        test.set_value(i,'YearRemodAdd',0)"
   ]
  },
  {
   "cell_type": "markdown",
   "metadata": {},
   "source": [
    "# YearBuilt\n",
    "\n",
    "Replacing continous with 6 categories.\n",
    "\n",
    "Add for OneHot Encoder."
   ]
  },
  {
   "cell_type": "code",
   "execution_count": 78,
   "metadata": {
    "collapsed": false
   },
   "outputs": [
    {
     "data": {
      "text/plain": [
       "count    1401.000000\n",
       "mean     1970.191292\n",
       "std        30.034227\n",
       "min      1872.000000\n",
       "25%      1953.000000\n",
       "50%      1972.000000\n",
       "75%      1999.000000\n",
       "max      2009.000000\n",
       "Name: YearBuilt, dtype: float64"
      ]
     },
     "execution_count": 78,
     "metadata": {},
     "output_type": "execute_result"
    }
   ],
   "source": [
    "df.YearBuilt.describe()"
   ]
  },
  {
   "cell_type": "code",
   "execution_count": 79,
   "metadata": {
    "collapsed": false
   },
   "outputs": [
    {
     "data": {
      "text/plain": [
       "<matplotlib.axes._subplots.AxesSubplot at 0x267f256f9b0>"
      ]
     },
     "execution_count": 79,
     "metadata": {},
     "output_type": "execute_result"
    },
    {
     "data": {
      "image/png": "[encoded data removed]",
      "text/plain": [
       "<matplotlib.figure.Figure at 0x267f257b470>"
      ]
     },
     "metadata": {},
     "output_type": "display_data"
    }
   ],
   "source": [
    "df.YearBuilt.hist(bins=6)"
   ]
  },
  {
   "cell_type": "code",
   "execution_count": 80,
   "metadata": {
    "collapsed": false
   },
   "outputs": [
    {
     "data": {
      "text/plain": [
       "count    1459.000000\n",
       "mean     1971.357779\n",
       "std        30.390071\n",
       "min      1879.000000\n",
       "25%      1953.000000\n",
       "50%      1973.000000\n",
       "75%      2001.000000\n",
       "max      2010.000000\n",
       "Name: YearBuilt, dtype: float64"
      ]
     },
     "execution_count": 80,
     "metadata": {},
     "output_type": "execute_result"
    }
   ],
   "source": [
    "test.YearBuilt.describe()"
   ]
  },
  {
   "cell_type": "code",
   "execution_count": 81,
   "metadata": {
    "collapsed": false
   },
   "outputs": [
    {
     "data": {
      "text/plain": [
       "<matplotlib.axes._subplots.AxesSubplot at 0x267f2593ef0>"
      ]
     },
     "execution_count": 81,
     "metadata": {},
     "output_type": "execute_result"
    },
    {
     "data": {
      "image/png": "[encoded data removed]",
      "text/plain": [
       "<matplotlib.figure.Figure at 0x267f261a780>"
      ]
     },
     "metadata": {},
     "output_type": "display_data"
    }
   ],
   "source": [
    "test.YearBuilt.hist()"
   ]
  },
  {
   "cell_type": "code",
   "execution_count": 82,
   "metadata": {
    "collapsed": true
   },
   "outputs": [],
   "source": [
    "# # train\n",
    "# for i in df.index:\n",
    "#     if df['YearBuilt'][i] > 0 and df['YearBuilt'][i] <= 1895:\n",
    "#         df.set_value(i,'YearBuilt', 0)\n",
    "#     elif df['YearBuilt'][i] > 1895 and df['YearBuilt'][i] <= 1918:\n",
    "#         df.set_value(i,'YearBuilt', 1)\n",
    "#     elif df['YearBuilt'][i] > 1918 and df['YearBuilt'][i] <= 1941:\n",
    "#         df.set_value(i,'YearBuilt', 2)\n",
    "#     elif df['YearBuilt'][i] > 1941 and df['YearBuilt'][i] <= 1964:\n",
    "#         df.set_value(i,'YearBuilt', 3)\n",
    "#     elif df['YearBuilt'][i] > 1964 and df['YearBuilt'][i] <= 1987:\n",
    "#         df.set_value(i,'YearBuilt', 4)\n",
    "#     elif df['YearBuilt'][i] > 1987:\n",
    "#         df.set_value(i,'YearBuilt', 5)"
   ]
  },
  {
   "cell_type": "code",
   "execution_count": 83,
   "metadata": {
    "collapsed": true
   },
   "outputs": [],
   "source": [
    "# # test\n",
    "# for i in test.index:\n",
    "#     if test['YearBuilt'][i] > 0 and test['YearBuilt'][i] <= 1895:\n",
    "#         test.set_value(i,'YearBuilt', 0)\n",
    "#     elif test['YearBuilt'][i] > 1895 and test['YearBuilt'][i] <= 1918:\n",
    "#         test.set_value(i,'YearBuilt', 1)\n",
    "#     elif test['YearBuilt'][i] > 1918 and test['YearBuilt'][i] <= 1941:\n",
    "#         test.set_value(i,'YearBuilt', 2)\n",
    "#     elif test['YearBuilt'][i] > 1941 and test['YearBuilt'][i] <= 1964:\n",
    "#         test.set_value(i,'YearBuilt', 3)\n",
    "#     elif test['YearBuilt'][i] > 1964 and test['YearBuilt'][i] <= 1987:\n",
    "#         test.set_value(i,'YearBuilt', 4)\n",
    "#     elif test['YearBuilt'][i] > 1987:\n",
    "#         test.set_value(i,'YearBuilt', 5)"
   ]
  },
  {
   "cell_type": "code",
   "execution_count": 84,
   "metadata": {
    "collapsed": true
   },
   "outputs": [],
   "source": [
    "skw.append('YearBuilt')"
   ]
  },
  {
   "cell_type": "markdown",
   "metadata": {},
   "source": [
    "# RoofStyle\n",
    "\n",
    "3 Categories:\n",
    "- 0 - Gable\n",
    "- 1 - Hip\n",
    "- 2 - Rest"
   ]
  },
  {
   "cell_type": "code",
   "execution_count": 85,
   "metadata": {
    "collapsed": false
   },
   "outputs": [
    {
     "data": {
      "text/plain": [
       "Gable      1118\n",
       "Hip         250\n",
       "Flat         13\n",
       "Gambrel      11\n",
       "Mansard       7\n",
       "Shed          2\n",
       "Name: RoofStyle, dtype: int64"
      ]
     },
     "execution_count": 85,
     "metadata": {},
     "output_type": "execute_result"
    }
   ],
   "source": [
    "df.RoofStyle.value_counts()"
   ]
  },
  {
   "cell_type": "code",
   "execution_count": 86,
   "metadata": {
    "collapsed": false
   },
   "outputs": [
    {
     "data": {
      "text/plain": [
       "Gable      1169\n",
       "Hip         265\n",
       "Gambrel      11\n",
       "Flat          7\n",
       "Mansard       4\n",
       "Shed          3\n",
       "Name: RoofStyle, dtype: int64"
      ]
     },
     "execution_count": 86,
     "metadata": {},
     "output_type": "execute_result"
    }
   ],
   "source": [
    "test.RoofStyle.value_counts()"
   ]
  },
  {
   "cell_type": "code",
   "execution_count": 87,
   "metadata": {
    "collapsed": false
   },
   "outputs": [],
   "source": [
    "for i in df.index:\n",
    "    if df.RoofStyle[i] == 'Gable':\n",
    "        df.set_value(i,'RoofStyle',0)\n",
    "    elif df.RoofStyle[i] == 'Hip':\n",
    "        df.set_value(i,'RoofStyle',1)\n",
    "    else:\n",
    "        df.set_value(i,'RoofStyle',2)"
   ]
  },
  {
   "cell_type": "code",
   "execution_count": 88,
   "metadata": {
    "collapsed": false
   },
   "outputs": [],
   "source": [
    "for i in test.index:\n",
    "    if test.RoofStyle[i] == 'Gable':\n",
    "        test.set_value(i,'RoofStyle',0)\n",
    "    elif test.RoofStyle[i] == 'Hip':\n",
    "        test.set_value(i,'RoofStyle',1)\n",
    "    else:\n",
    "        test.set_value(i,'RoofStyle',2)"
   ]
  },
  {
   "cell_type": "code",
   "execution_count": 89,
   "metadata": {
    "collapsed": true
   },
   "outputs": [],
   "source": [
    "hot.append('RoofStyle')"
   ]
  },
  {
   "cell_type": "markdown",
   "metadata": {},
   "source": [
    "# RoofMatl\n",
    "\n",
    "Very skewed, dropping it."
   ]
  },
  {
   "cell_type": "code",
   "execution_count": 90,
   "metadata": {
    "collapsed": false
   },
   "outputs": [
    {
     "data": {
      "text/plain": [
       "CompShg    1380\n",
       "Tar&Grv      11\n",
       "WdShake       5\n",
       "WdShngl       2\n",
       "Membran       1\n",
       "Roll          1\n",
       "Metal         1\n",
       "Name: RoofMatl, dtype: int64"
      ]
     },
     "execution_count": 90,
     "metadata": {},
     "output_type": "execute_result"
    }
   ],
   "source": [
    "df.RoofMatl.value_counts()"
   ]
  },
  {
   "cell_type": "code",
   "execution_count": 91,
   "metadata": {
    "collapsed": false
   },
   "outputs": [
    {
     "data": {
      "text/plain": [
       "CompShg    1442\n",
       "Tar&Grv      12\n",
       "WdShake       4\n",
       "WdShngl       1\n",
       "Name: RoofMatl, dtype: int64"
      ]
     },
     "execution_count": 91,
     "metadata": {},
     "output_type": "execute_result"
    }
   ],
   "source": [
    "test.RoofMatl.value_counts()"
   ]
  },
  {
   "cell_type": "code",
   "execution_count": 92,
   "metadata": {
    "collapsed": true
   },
   "outputs": [],
   "source": [
    "df.drop('RoofMatl',axis=1,inplace=True)\n",
    "test.drop('RoofMatl',axis=1,inplace=True)"
   ]
  },
  {
   "cell_type": "markdown",
   "metadata": {},
   "source": [
    "# Exterior1st, Exterior2nd\n",
    "\n",
    "Creating and encoding a column combination of the two."
   ]
  },
  {
   "cell_type": "code",
   "execution_count": 93,
   "metadata": {
    "collapsed": false
   },
   "outputs": [
    {
     "data": {
      "text/plain": [
       "Exterior1st\n",
       "AsbShng    107385.550000\n",
       "AsphShn    100000.000000\n",
       "BrkComm     71000.000000\n",
       "BrkFace    182224.468085\n",
       "CBlock     105000.000000\n",
       "CemntBd    195825.153846\n",
       "HdBoard    158287.245455\n",
       "ImStucc    262000.000000\n",
       "MetalSd    147310.022936\n",
       "Plywood    173245.971429\n",
       "Stone      258500.000000\n",
       "Stucco     143420.454545\n",
       "VinylSd    199437.755187\n",
       "Wd Sdng    144681.669951\n",
       "WdShing    141281.280000\n",
       "Name: SalePrice, dtype: float64"
      ]
     },
     "execution_count": 93,
     "metadata": {},
     "output_type": "execute_result"
    }
   ],
   "source": [
    "df['SalePrice'].groupby(df['Exterior1st']).mean()"
   ]
  },
  {
   "cell_type": "code",
   "execution_count": 94,
   "metadata": {
    "collapsed": false
   },
   "outputs": [
    {
     "data": {
      "text/plain": [
       "Exterior2nd\n",
       "AsbShng    114060.550000\n",
       "AsphShn    138000.000000\n",
       "Brk Cmn    126714.285714\n",
       "BrkFace    177845.652174\n",
       "CBlock     105000.000000\n",
       "CmentBd    196370.745098\n",
       "HdBoard    162004.627451\n",
       "ImStucc    197300.000000\n",
       "MetalSd    147634.834906\n",
       "Other      319000.000000\n",
       "Plywood    165906.539568\n",
       "Stone      158224.800000\n",
       "Stucco     146355.583333\n",
       "VinylSd    199852.471338\n",
       "Wd Sdng    145630.538462\n",
       "Wd Shng    144652.777778\n",
       "Name: SalePrice, dtype: float64"
      ]
     },
     "execution_count": 94,
     "metadata": {},
     "output_type": "execute_result"
    }
   ],
   "source": [
    "df['SalePrice'].groupby(df['Exterior2nd']).mean()"
   ]
  },
  {
   "cell_type": "code",
   "execution_count": 95,
   "metadata": {
    "collapsed": true
   },
   "outputs": [],
   "source": [
    "# getting all the combinations\n",
    "combs = []\n",
    "for i in df.index:\n",
    "    combs.append((df.Exterior1st[i], df.Exterior2nd[i]))"
   ]
  },
  {
   "cell_type": "code",
   "execution_count": 96,
   "metadata": {
    "collapsed": false
   },
   "outputs": [],
   "source": [
    "# eliminating duplicates\n",
    "combs = set(combs)"
   ]
  },
  {
   "cell_type": "code",
   "execution_count": 97,
   "metadata": {
    "collapsed": false
   },
   "outputs": [],
   "source": [
    "# different combos from the training set\n",
    "test_diff = []\n",
    "count = 0\n",
    "for i in test.index:\n",
    "    found = 0\n",
    "    for j in combs:\n",
    "        if (test.Exterior1st[i], test.Exterior2nd[i]) == j or (test.Exterior2nd[i], test.Exterior1st[i]) == j:\n",
    "            found = 1\n",
    "    if found == 0:\n",
    "        test_diff.append((test.Exterior1st[i], test.Exterior2nd[i]))\n",
    "        count += 1"
   ]
  },
  {
   "cell_type": "code",
   "execution_count": 98,
   "metadata": {
    "collapsed": false
   },
   "outputs": [],
   "source": [
    "# eliminating duplicates\n",
    "test_diff = set(test_diff)"
   ]
  },
  {
   "cell_type": "code",
   "execution_count": 99,
   "metadata": {
    "collapsed": false
   },
   "outputs": [
    {
     "data": {
      "text/plain": [
       "18"
      ]
     },
     "execution_count": 99,
     "metadata": {},
     "output_type": "execute_result"
    }
   ],
   "source": [
    "# rows with different fields in test set\n",
    "count"
   ]
  },
  {
   "cell_type": "code",
   "execution_count": 100,
   "metadata": {
    "collapsed": true
   },
   "outputs": [],
   "source": [
    "# creating a new column\n",
    "df['Exterior'] = ''"
   ]
  },
  {
   "cell_type": "code",
   "execution_count": 101,
   "metadata": {
    "collapsed": true
   },
   "outputs": [],
   "source": [
    "# adding combinations\n",
    "for i in df.index:\n",
    "    for j in combs:\n",
    "        if (df.Exterior1st[i], df.Exterior2nd[i]) == j or (df.Exterior2nd[i], df.Exterior1st[i]) == j:\n",
    "            df.set_value(i,'Exterior',j)"
   ]
  },
  {
   "cell_type": "code",
   "execution_count": 102,
   "metadata": {
    "collapsed": false,
    "scrolled": true
   },
   "outputs": [],
   "source": [
    "# mode values grouped by combination\n",
    "# chosen mode as it brigns the mean closest to the overall one\n",
    "grp = pd.DataFrame(df.SalePrice.groupby(df.Exterior).agg(lambda x:x.value_counts().index[0]).sort_values(ascending=False))"
   ]
  },
  {
   "cell_type": "code",
   "execution_count": 103,
   "metadata": {
    "collapsed": false,
    "scrolled": true
   },
   "outputs": [],
   "source": [
    "# number of occurances\n",
    "grp2 = pd.DataFrame(df.Exterior.value_counts())"
   ]
  },
  {
   "cell_type": "code",
   "execution_count": 104,
   "metadata": {
    "collapsed": false
   },
   "outputs": [
    {
     "data": {
      "text/html": [
       "<div>\n",
       "<style>\n",
       "    .dataframe thead tr:only-child th {\n",
       "        text-align: right;\n",
       "    }\n",
       "\n",
       "    .dataframe thead th {\n",
       "        text-align: left;\n",
       "    }\n",
       "\n",
       "    .dataframe tbody tr th {\n",
       "        vertical-align: top;\n",
       "    }\n",
       "</style>\n",
       "<table border=\"1\" class=\"dataframe\">\n",
       "  <thead>\n",
       "    <tr style=\"text-align: right;\">\n",
       "      <th></th>\n",
       "      <th>SalePrice</th>\n",
       "      <th>Exterior</th>\n",
       "    </tr>\n",
       "    <tr>\n",
       "      <th>Exterior</th>\n",
       "      <th></th>\n",
       "      <th></th>\n",
       "    </tr>\n",
       "  </thead>\n",
       "  <tbody>\n",
       "    <tr>\n",
       "      <th>(Wd Sdng, Plywood)</th>\n",
       "      <td>345000</td>\n",
       "      <td>10</td>\n",
       "    </tr>\n",
       "    <tr>\n",
       "      <th>(Wd Sdng, ImStucc)</th>\n",
       "      <td>341000</td>\n",
       "      <td>2</td>\n",
       "    </tr>\n",
       "    <tr>\n",
       "      <th>(BrkFace, HdBoard)</th>\n",
       "      <td>335000</td>\n",
       "      <td>3</td>\n",
       "    </tr>\n",
       "    <tr>\n",
       "      <th>(VinylSd, ImStucc)</th>\n",
       "      <td>320000</td>\n",
       "      <td>1</td>\n",
       "    </tr>\n",
       "    <tr>\n",
       "      <th>(VinylSd, Other)</th>\n",
       "      <td>319000</td>\n",
       "      <td>1</td>\n",
       "    </tr>\n",
       "  </tbody>\n",
       "</table>\n",
       "</div>"
      ],
      "text/plain": [
       "                    SalePrice  Exterior\n",
       "Exterior                               \n",
       "(Wd Sdng, Plywood)     345000        10\n",
       "(Wd Sdng, ImStucc)     341000         2\n",
       "(BrkFace, HdBoard)     335000         3\n",
       "(VinylSd, ImStucc)     320000         1\n",
       "(VinylSd, Other)       319000         1"
      ]
     },
     "execution_count": 104,
     "metadata": {},
     "output_type": "execute_result"
    }
   ],
   "source": [
    "# joining them\n",
    "new = grp.join(grp2)\n",
    "new.head()"
   ]
  },
  {
   "cell_type": "code",
   "execution_count": 105,
   "metadata": {
    "collapsed": false,
    "scrolled": true
   },
   "outputs": [
    {
     "data": {
      "text/html": [
       "<div>\n",
       "<style>\n",
       "    .dataframe thead tr:only-child th {\n",
       "        text-align: right;\n",
       "    }\n",
       "\n",
       "    .dataframe thead th {\n",
       "        text-align: left;\n",
       "    }\n",
       "\n",
       "    .dataframe tbody tr th {\n",
       "        vertical-align: top;\n",
       "    }\n",
       "</style>\n",
       "<table border=\"1\" class=\"dataframe\">\n",
       "  <thead>\n",
       "    <tr style=\"text-align: right;\">\n",
       "      <th></th>\n",
       "      <th>SalePrice</th>\n",
       "      <th>Exterior</th>\n",
       "    </tr>\n",
       "  </thead>\n",
       "  <tbody>\n",
       "    <tr>\n",
       "      <th>count</th>\n",
       "      <td>58.000000</td>\n",
       "      <td>58.000000</td>\n",
       "    </tr>\n",
       "    <tr>\n",
       "      <th>mean</th>\n",
       "      <td>166013.068966</td>\n",
       "      <td>24.155172</td>\n",
       "    </tr>\n",
       "    <tr>\n",
       "      <th>std</th>\n",
       "      <td>70394.361420</td>\n",
       "      <td>73.920251</td>\n",
       "    </tr>\n",
       "    <tr>\n",
       "      <th>min</th>\n",
       "      <td>82000.000000</td>\n",
       "      <td>1.000000</td>\n",
       "    </tr>\n",
       "    <tr>\n",
       "      <th>25%</th>\n",
       "      <td>120625.000000</td>\n",
       "      <td>1.000000</td>\n",
       "    </tr>\n",
       "    <tr>\n",
       "      <th>50%</th>\n",
       "      <td>142500.000000</td>\n",
       "      <td>2.000000</td>\n",
       "    </tr>\n",
       "    <tr>\n",
       "      <th>75%</th>\n",
       "      <td>189750.000000</td>\n",
       "      <td>5.750000</td>\n",
       "    </tr>\n",
       "    <tr>\n",
       "      <th>max</th>\n",
       "      <td>345000.000000</td>\n",
       "      <td>469.000000</td>\n",
       "    </tr>\n",
       "  </tbody>\n",
       "</table>\n",
       "</div>"
      ],
      "text/plain": [
       "           SalePrice    Exterior\n",
       "count      58.000000   58.000000\n",
       "mean   166013.068966   24.155172\n",
       "std     70394.361420   73.920251\n",
       "min     82000.000000    1.000000\n",
       "25%    120625.000000    1.000000\n",
       "50%    142500.000000    2.000000\n",
       "75%    189750.000000    5.750000\n",
       "max    345000.000000  469.000000"
      ]
     },
     "execution_count": 105,
     "metadata": {},
     "output_type": "execute_result"
    }
   ],
   "source": [
    "new.describe()"
   ]
  },
  {
   "cell_type": "code",
   "execution_count": 106,
   "metadata": {
    "collapsed": false
   },
   "outputs": [
    {
     "data": {
      "text/plain": [
       "<matplotlib.axes._subplots.AxesSubplot at 0x267f2632c50>"
      ]
     },
     "execution_count": 106,
     "metadata": {},
     "output_type": "execute_result"
    },
    {
     "data": {
      "image/png": "[encoded data removed]",
      "text/plain": [
       "<matplotlib.figure.Figure at 0x267f2627ef0>"
      ]
     },
     "metadata": {},
     "output_type": "display_data"
    }
   ],
   "source": [
    "new.SalePrice.hist(bins=5)"
   ]
  },
  {
   "cell_type": "code",
   "execution_count": 107,
   "metadata": {
    "collapsed": false
   },
   "outputs": [],
   "source": [
    "# value categories split by combinations\n",
    "zeros = new[new.SalePrice <= 134600]['Exterior'].keys().tolist()\n",
    "ones = new[(new.SalePrice > 134600) & (new.SalePrice <= 187200)]['Exterior'].keys().tolist()\n",
    "twos = new[(new.SalePrice > 187200) & (new.SalePrice <= 239800)]['Exterior'].keys().tolist()\n",
    "threes = new[new.SalePrice > 239800]['Exterior'].keys().tolist()"
   ]
  },
  {
   "cell_type": "code",
   "execution_count": 108,
   "metadata": {
    "collapsed": true
   },
   "outputs": [],
   "source": [
    "# replace on training set\n",
    "for i in df.index:\n",
    "    if df.Exterior[i] in zeros:\n",
    "        df.set_value(i,'Exterior',0)\n",
    "    elif df.Exterior[i] in ones:\n",
    "        df.set_value(i,'Exterior',1)\n",
    "    elif df.Exterior[i] in twos:\n",
    "        df.set_value(i,'Exterior',2)\n",
    "    elif df.Exterior[i] in threes:\n",
    "        df.set_value(i,'Exterior',3)"
   ]
  },
  {
   "cell_type": "code",
   "execution_count": 109,
   "metadata": {
    "collapsed": false
   },
   "outputs": [],
   "source": [
    "# same for test set\n",
    "test['Exterior'] = ''\n",
    "\n",
    "# adding combinations\n",
    "for i in test.index:\n",
    "    for j in combs:\n",
    "        if (test.Exterior1st[i], test.Exterior2nd[i]) == j or (test.Exterior2nd[i], test.Exterior1st[i]) == j:\n",
    "            test.set_value(i,'Exterior',j)"
   ]
  },
  {
   "cell_type": "code",
   "execution_count": 110,
   "metadata": {
    "collapsed": false
   },
   "outputs": [],
   "source": [
    "# replace on test set\n",
    "for i in test.index:\n",
    "    if test.Exterior[i] in zeros:\n",
    "        test.set_value(i,'Exterior',0)\n",
    "    elif test.Exterior[i] in ones:\n",
    "        test.set_value(i,'Exterior',1)\n",
    "    elif test.Exterior[i] in twos:\n",
    "        test.set_value(i,'Exterior',2)\n",
    "    elif test.Exterior[i] in threes:\n",
    "        test.set_value(i,'Exterior',3)\n",
    "    else:\n",
    "        test.set_value(i,'Exterior',1)"
   ]
  },
  {
   "cell_type": "code",
   "execution_count": 111,
   "metadata": {
    "collapsed": false
   },
   "outputs": [],
   "source": [
    "# dropping Exterior1st and Exterior2nd\n",
    "df.drop('Exterior1st',axis=1,inplace=True)\n",
    "df.drop('Exterior2nd',axis=1,inplace=True)\n",
    "test.drop('Exterior1st',axis=1,inplace=True)\n",
    "test.drop('Exterior2nd',axis=1,inplace=True)"
   ]
  },
  {
   "cell_type": "markdown",
   "metadata": {},
   "source": [
    "# MasVnrType\n",
    "\n",
    "Classifying BrkCmn, None - 0, BrkFace - 1, Stone - 2"
   ]
  },
  {
   "cell_type": "code",
   "execution_count": 112,
   "metadata": {
    "collapsed": false
   },
   "outputs": [
    {
     "data": {
      "text/plain": [
       "None       853\n",
       "BrkFace    421\n",
       "Stone      106\n",
       "BrkCmn      14\n",
       "Name: MasVnrType, dtype: int64"
      ]
     },
     "execution_count": 112,
     "metadata": {},
     "output_type": "execute_result"
    }
   ],
   "source": [
    "df.MasVnrType.value_counts()"
   ]
  },
  {
   "cell_type": "code",
   "execution_count": 113,
   "metadata": {
    "collapsed": false
   },
   "outputs": [],
   "source": [
    "ind = df.MasVnrType[df.MasVnrType.isnull()].index.tolist()"
   ]
  },
  {
   "cell_type": "code",
   "execution_count": 114,
   "metadata": {
    "collapsed": true
   },
   "outputs": [],
   "source": [
    "for i in ind:\n",
    "    df.set_value(i,'MasVnrType',0)"
   ]
  },
  {
   "cell_type": "code",
   "execution_count": 115,
   "metadata": {
    "collapsed": false
   },
   "outputs": [],
   "source": [
    "ind = test.MasVnrType[test.MasVnrType.isnull()].index.tolist()\n",
    "\n",
    "for i in ind:\n",
    "    test.set_value(i,'MasVnrType',0)"
   ]
  },
  {
   "cell_type": "code",
   "execution_count": 116,
   "metadata": {
    "collapsed": false
   },
   "outputs": [],
   "source": [
    "for i in df.index:\n",
    "    if df.MasVnrType[i] in ['BrkCmn', 'None']:\n",
    "        df.set_value(i,'MasVnrType', 0)\n",
    "    elif df.MasVnrType[i] == 'BrkFace':\n",
    "        df.set_value(i,'MasVnrType', 1)\n",
    "    elif df.MasVnrType[i] == 'Stone':\n",
    "        df.set_value(i,'MasVnrType', 2)"
   ]
  },
  {
   "cell_type": "code",
   "execution_count": 117,
   "metadata": {
    "collapsed": false
   },
   "outputs": [],
   "source": [
    "for i in test.index:\n",
    "    if test.MasVnrType[i] in ['BrkCmn', 'None']:\n",
    "        test.set_value(i,'MasVnrType', 0)\n",
    "    elif test.MasVnrType[i] == 'BrkFace':\n",
    "        test.set_value(i,'MasVnrType', 1)\n",
    "    elif test.MasVnrType[i] == 'Stone':\n",
    "        test.set_value(i,'MasVnrType', 2)"
   ]
  },
  {
   "cell_type": "markdown",
   "metadata": {},
   "source": [
    "# MasVnrArea\n",
    "\n",
    "Appply log to limit skewness."
   ]
  },
  {
   "cell_type": "code",
   "execution_count": 118,
   "metadata": {
    "collapsed": false
   },
   "outputs": [
    {
     "data": {
      "text/plain": [
       "count    1394.00000\n",
       "mean       90.75538\n",
       "std       159.74198\n",
       "min         0.00000\n",
       "25%         0.00000\n",
       "50%         0.00000\n",
       "75%       145.00000\n",
       "max      1600.00000\n",
       "Name: MasVnrArea, dtype: float64"
      ]
     },
     "execution_count": 118,
     "metadata": {},
     "output_type": "execute_result"
    }
   ],
   "source": [
    "df.MasVnrArea.describe()"
   ]
  },
  {
   "cell_type": "code",
   "execution_count": 119,
   "metadata": {
    "collapsed": false
   },
   "outputs": [],
   "source": [
    "ind = df.MasVnrArea[df.MasVnrArea.isnull()].index.tolist()\n",
    "# same empty columns as above\n",
    "for i in ind:\n",
    "    df.set_value(i,'MasVnrArea',0)"
   ]
  },
  {
   "cell_type": "code",
   "execution_count": 120,
   "metadata": {
    "collapsed": true
   },
   "outputs": [],
   "source": [
    "ind = test.MasVnrArea[test.MasVnrArea.isnull()].index.tolist()\n",
    "\n",
    "for i in ind:\n",
    "    test.set_value(i,'MasVnrArea',0)"
   ]
  },
  {
   "cell_type": "code",
   "execution_count": 121,
   "metadata": {
    "collapsed": false
   },
   "outputs": [
    {
     "data": {
      "text/plain": [
       "<matplotlib.axes._subplots.AxesSubplot at 0x267f2735128>"
      ]
     },
     "execution_count": 121,
     "metadata": {},
     "output_type": "execute_result"
    },
    {
     "data": {
      "image/png": "[encoded data removed]",
      "text/plain": [
       "<matplotlib.figure.Figure at 0x267f2725400>"
      ]
     },
     "metadata": {},
     "output_type": "display_data"
    }
   ],
   "source": [
    "df[df.MasVnrArea != 0]['MasVnrArea'].hist()"
   ]
  },
  {
   "cell_type": "code",
   "execution_count": 122,
   "metadata": {
    "collapsed": false,
    "scrolled": true
   },
   "outputs": [
    {
     "data": {
      "text/plain": [
       "297    1600.0\n",
       "115    1129.0\n",
       "70     1115.0\n",
       "808    1047.0\n",
       "981     975.0\n",
       "Name: MasVnrArea, dtype: float64"
      ]
     },
     "execution_count": 122,
     "metadata": {},
     "output_type": "execute_result"
    }
   ],
   "source": [
    "df[df.MasVnrArea != 0]['MasVnrArea'].sort_values(ascending=False).head()"
   ]
  },
  {
   "cell_type": "code",
   "execution_count": 123,
   "metadata": {
    "collapsed": true
   },
   "outputs": [],
   "source": [
    "# drop outlier\n",
    "df.drop(297,inplace=True)"
   ]
  },
  {
   "cell_type": "code",
   "execution_count": 124,
   "metadata": {
    "collapsed": false
   },
   "outputs": [],
   "source": [
    "skw.append('MasVnrArea')"
   ]
  },
  {
   "cell_type": "markdown",
   "metadata": {},
   "source": [
    "# ExterQual\n",
    "\n",
    "Classify as 0 - Poor, 1 - Average, 2 - Good "
   ]
  },
  {
   "cell_type": "code",
   "execution_count": 125,
   "metadata": {
    "collapsed": false
   },
   "outputs": [
    {
     "data": {
      "text/plain": [
       "TA    900\n",
       "Gd    462\n",
       "Ex     24\n",
       "Fa     14\n",
       "Name: ExterQual, dtype: int64"
      ]
     },
     "execution_count": 125,
     "metadata": {},
     "output_type": "execute_result"
    }
   ],
   "source": [
    "df.ExterQual.value_counts()"
   ]
  },
  {
   "cell_type": "code",
   "execution_count": 126,
   "metadata": {
    "collapsed": true
   },
   "outputs": [],
   "source": [
    "# train\n",
    "for i in df.index:\n",
    "    if df.ExterQual[i] in ['Gd', 'Ex']:\n",
    "        df.set_value(i,'ExterQual', 2)\n",
    "    elif df.ExterQual[i] == 'TA':\n",
    "        df.set_value(i,'ExterQual', 1)\n",
    "    elif df.ExterQual[i] in ['Fa', 'Po']:\n",
    "        df.set_value(i,'ExterQual', 0)"
   ]
  },
  {
   "cell_type": "code",
   "execution_count": 127,
   "metadata": {
    "collapsed": false
   },
   "outputs": [],
   "source": [
    "# test\n",
    "for i in test.index:\n",
    "    if test.ExterQual[i] in ['Gd', 'Ex']:\n",
    "        test.set_value(i,'ExterQual', 2)\n",
    "    elif test.ExterQual[i] == 'TA':\n",
    "        test.set_value(i,'ExterQual', 1)\n",
    "    elif test.ExterQual[i] in ['Fa', 'Po']:\n",
    "        test.set_value(i,'ExterQual', 0)"
   ]
  },
  {
   "cell_type": "markdown",
   "metadata": {},
   "source": [
    "# ExterCond\n",
    "\n",
    "Same as above"
   ]
  },
  {
   "cell_type": "code",
   "execution_count": 128,
   "metadata": {
    "collapsed": true
   },
   "outputs": [],
   "source": [
    "# train\n",
    "for i in df.index:\n",
    "    if df.ExterCond[i] in ['Gd', 'Ex']:\n",
    "        df.set_value(i,'ExterCond', 2)\n",
    "    elif df.ExterCond[i] == 'TA':\n",
    "        df.set_value(i,'ExterCond', 1)\n",
    "    elif df.ExterCond[i] in ['Fa', 'Po']:\n",
    "        df.set_value(i,'ExterCond', 0)\n",
    "        \n",
    "# test\n",
    "for i in test.index:\n",
    "    if test.ExterCond[i] in ['Gd', 'Ex']:\n",
    "        test.set_value(i,'ExterCond', 2)\n",
    "    elif test.ExterCond[i] == 'TA':\n",
    "        test.set_value(i,'ExterCond', 1)\n",
    "    elif test.ExterCond[i] in ['Fa', 'Po']:\n",
    "        test.set_value(i,'ExterCond', 0)"
   ]
  },
  {
   "cell_type": "markdown",
   "metadata": {},
   "source": [
    "# Foundation\n",
    "\n",
    "4 categories\n",
    "- 0 - BrkTil\n",
    "- 1 - CBlock\n",
    "- 2 - PConc\n",
    "- 3 - Slab, Stone, Wood\n",
    "\n",
    "Add to hot."
   ]
  },
  {
   "cell_type": "code",
   "execution_count": 129,
   "metadata": {
    "collapsed": false
   },
   "outputs": [
    {
     "data": {
      "text/plain": [
       "CBlock    626\n",
       "PConc     596\n",
       "BrkTil    145\n",
       "Slab       24\n",
       "Stone       6\n",
       "Wood        3\n",
       "Name: Foundation, dtype: int64"
      ]
     },
     "execution_count": 129,
     "metadata": {},
     "output_type": "execute_result"
    }
   ],
   "source": [
    "df.Foundation.value_counts()"
   ]
  },
  {
   "cell_type": "code",
   "execution_count": 130,
   "metadata": {
    "collapsed": true
   },
   "outputs": [],
   "source": [
    "for i in df.index:\n",
    "    if df.Foundation[i] == 'BrkTil':\n",
    "        df.set_value(i,'Foundation',0)\n",
    "    elif df.Foundation[i] == 'CBlock':\n",
    "        df.set_value(i,'Foundation',1)\n",
    "    elif df.Foundation[i] == 'PConc':\n",
    "        df.set_value(i,'Foundation',2)\n",
    "    else:\n",
    "        df.set_value(i,'Foundation',3)"
   ]
  },
  {
   "cell_type": "code",
   "execution_count": 131,
   "metadata": {
    "collapsed": true
   },
   "outputs": [],
   "source": [
    "for i in test.index:\n",
    "    if test.Foundation[i] == 'BrkTil':\n",
    "        test.set_value(i,'Foundation',0)\n",
    "    elif test.Foundation[i] == 'CBlock':\n",
    "        test.set_value(i,'Foundation',1)\n",
    "    elif test.Foundation[i] == 'PConc':\n",
    "        test.set_value(i,'Foundation',2)\n",
    "    else:\n",
    "        test.set_value(i,'Foundation',3)"
   ]
  },
  {
   "cell_type": "code",
   "execution_count": 132,
   "metadata": {
    "collapsed": true
   },
   "outputs": [],
   "source": [
    "hot.append('Foundation')"
   ]
  },
  {
   "cell_type": "markdown",
   "metadata": {},
   "source": [
    "# BsmtQual\n",
    "\n",
    "Create new column, HasBasement.\n",
    "\n",
    "Split this column in 4 categories:\n",
    "0 - NA\n",
    "1 - Po, Fa\n",
    "2 - TA\n",
    "3 - Gd, Ex"
   ]
  },
  {
   "cell_type": "code",
   "execution_count": 133,
   "metadata": {
    "collapsed": false
   },
   "outputs": [
    {
     "data": {
      "text/plain": [
       "TA    646\n",
       "Gd    604\n",
       "Ex     78\n",
       "Fa     35\n",
       "Name: BsmtQual, dtype: int64"
      ]
     },
     "execution_count": 133,
     "metadata": {},
     "output_type": "execute_result"
    }
   ],
   "source": [
    "df.BsmtQual.value_counts()"
   ]
  },
  {
   "cell_type": "code",
   "execution_count": 134,
   "metadata": {
    "collapsed": false
   },
   "outputs": [],
   "source": [
    "# creating new column\n",
    "df['HasBsmt'] = 1"
   ]
  },
  {
   "cell_type": "code",
   "execution_count": 135,
   "metadata": {
    "collapsed": true
   },
   "outputs": [],
   "source": [
    "# empty indexes\n",
    "idx = df.BsmtQual[df.BsmtQual.isnull()].index.tolist()"
   ]
  },
  {
   "cell_type": "code",
   "execution_count": 136,
   "metadata": {
    "collapsed": false
   },
   "outputs": [],
   "source": [
    "# adding the empty ones\n",
    "for i in idx:\n",
    "    df.set_value(i,'HasBsmt',0)"
   ]
  },
  {
   "cell_type": "code",
   "execution_count": 137,
   "metadata": {
    "collapsed": true
   },
   "outputs": [],
   "source": [
    "test['HasBsmt'] = 1\n",
    "# empty indexes\n",
    "idx = test.BsmtQual[test.BsmtQual.isnull()].index.tolist()\n",
    "# adding the empty ones\n",
    "for i in idx:\n",
    "    test.set_value(i,'HasBsmt',0)"
   ]
  },
  {
   "cell_type": "code",
   "execution_count": 138,
   "metadata": {
    "collapsed": false
   },
   "outputs": [],
   "source": [
    "for i in df.index:\n",
    "    if df.BsmtQual[i] in ['Po', 'Fa']:\n",
    "        df.set_value(i,'BsmtQual',1)\n",
    "    elif df.BsmtQual[i] == 'TA':\n",
    "        df.set_value(i,'BsmtQual',2)\n",
    "    elif df.BsmtQual[i] in ['Gd', 'Ex']:\n",
    "        df.set_value(i,'BsmtQual',3)\n",
    "    else:\n",
    "        df.set_value(i,'BsmtQual',0)"
   ]
  },
  {
   "cell_type": "code",
   "execution_count": 139,
   "metadata": {
    "collapsed": true
   },
   "outputs": [],
   "source": [
    "for i in test.index:\n",
    "    if test.BsmtQual[i] in ['Po', 'Fa']:\n",
    "        test.set_value(i,'BsmtQual',1)\n",
    "    elif test.BsmtQual[i] == 'TA':\n",
    "        test.set_value(i,'BsmtQual',2)\n",
    "    elif test.BsmtQual[i] in ['Gd', 'Ex']:\n",
    "        test.set_value(i,'BsmtQual',3)\n",
    "    else:\n",
    "        test.set_value(i,'BsmtQual',0)"
   ]
  },
  {
   "cell_type": "markdown",
   "metadata": {},
   "source": [
    "# BsmtCond\n",
    "\n",
    "Same as above."
   ]
  },
  {
   "cell_type": "code",
   "execution_count": 140,
   "metadata": {
    "collapsed": false
   },
   "outputs": [
    {
     "data": {
      "text/plain": [
       "TA    1254\n",
       "Gd      62\n",
       "Fa      45\n",
       "Po       2\n",
       "Name: BsmtCond, dtype: int64"
      ]
     },
     "execution_count": 140,
     "metadata": {},
     "output_type": "execute_result"
    }
   ],
   "source": [
    "df.BsmtCond.value_counts()"
   ]
  },
  {
   "cell_type": "code",
   "execution_count": 141,
   "metadata": {
    "collapsed": true
   },
   "outputs": [],
   "source": [
    "for i in df.index:\n",
    "    if df.BsmtCond[i] in ['Po', 'Fa']:\n",
    "        df.set_value(i,'BsmtCond',1)\n",
    "    elif df.BsmtCond[i] == 'TA':\n",
    "        df.set_value(i,'BsmtCond',2)\n",
    "    elif df.BsmtCond[i] in ['Gd', 'Ex']:\n",
    "        df.set_value(i,'BsmtCond',3)\n",
    "    else:\n",
    "        df.set_value(i,'BsmtCond',0)\n",
    "        \n",
    "for i in test.index:\n",
    "    if test.BsmtCond[i] in ['Po', 'Fa']:\n",
    "        test.set_value(i,'BsmtCond',1)\n",
    "    elif test.BsmtCond[i] == 'TA':\n",
    "        test.set_value(i,'BsmtCond',2)\n",
    "    elif test.BsmtCond[i] in ['Gd', 'Ex']:\n",
    "        test.set_value(i,'BsmtCond',3)\n",
    "    else:\n",
    "        test.set_value(i,'BsmtCond',0)"
   ]
  },
  {
   "cell_type": "markdown",
   "metadata": {},
   "source": [
    "# BsmtExposure\n",
    "\n",
    "Categorise:\n",
    "- 0 - Gd, Av\n",
    "- 1 - Mn\n",
    "- 2 - No\n",
    "- 3 -NA"
   ]
  },
  {
   "cell_type": "code",
   "execution_count": 142,
   "metadata": {
    "collapsed": false
   },
   "outputs": [
    {
     "data": {
      "text/plain": [
       "No    943\n",
       "Av    206\n",
       "Mn    108\n",
       "Gd    105\n",
       "Name: BsmtExposure, dtype: int64"
      ]
     },
     "execution_count": 142,
     "metadata": {},
     "output_type": "execute_result"
    }
   ],
   "source": [
    "df.BsmtExposure.value_counts()"
   ]
  },
  {
   "cell_type": "code",
   "execution_count": 143,
   "metadata": {
    "collapsed": false
   },
   "outputs": [],
   "source": [
    "for i in df.index:\n",
    "    if df.BsmtExposure[i] in ['Gd', 'Av']:\n",
    "        df.set_value(i,'BsmtExposure',0)\n",
    "    elif df.BsmtExposure[i] == 'Mn':\n",
    "        df.set_value(i,'BsmtExposure',1)\n",
    "    elif df.BsmtExposure[i] == 'No':\n",
    "        df.set_value(i,'BsmtExposure',2)\n",
    "    else:\n",
    "        df.set_value(i,'BsmtExposure',3)\n",
    "        \n",
    "for i in test.index:\n",
    "    if test.BsmtExposure[i] in ['Gd', 'Av']:\n",
    "        test.set_value(i,'BsmtExposure',0)\n",
    "    elif test.BsmtExposure[i] == 'Mn':\n",
    "        test.set_value(i,'BsmtExposure',1)\n",
    "    elif test.BsmtExposure[i] == 'No':\n",
    "        test.set_value(i,'BsmtExposure',2)\n",
    "    else:\n",
    "        test.set_value(i,'BsmtExposure',3)"
   ]
  },
  {
   "cell_type": "code",
   "execution_count": 144,
   "metadata": {
    "collapsed": true
   },
   "outputs": [],
   "source": [
    "hot.append('BsmtExposure')"
   ]
  },
  {
   "cell_type": "markdown",
   "metadata": {},
   "source": [
    "# BsmtFinType1, BsmtFinType2\n",
    "\n",
    "4 Categories:\n",
    "- 0 - NA\n",
    "- 1 - Unf\n",
    "- 2 - BLQ, LwQ \n",
    "- 3 - GLQ, ALQ, Rec"
   ]
  },
  {
   "cell_type": "code",
   "execution_count": 145,
   "metadata": {
    "collapsed": false
   },
   "outputs": [
    {
     "data": {
      "text/plain": [
       "Unf    420\n",
       "GLQ    376\n",
       "ALQ    216\n",
       "BLQ    146\n",
       "Rec    131\n",
       "LwQ     74\n",
       "Name: BsmtFinType1, dtype: int64"
      ]
     },
     "execution_count": 145,
     "metadata": {},
     "output_type": "execute_result"
    }
   ],
   "source": [
    "df.BsmtFinType1.value_counts()"
   ]
  },
  {
   "cell_type": "code",
   "execution_count": 146,
   "metadata": {
    "collapsed": true
   },
   "outputs": [],
   "source": [
    "#Type1\n",
    "for i in df.index:\n",
    "    if df.BsmtFinType1[i] == 'Unf':\n",
    "        df.set_value(i,'BsmtFinType1',1)\n",
    "    elif df.BsmtFinType1[i] in ['BLQ', 'LwQ']:\n",
    "        df.set_value(i,'BsmtFinType1',2)\n",
    "    elif df.BsmtFinType1[i] in ['GLQ', 'ALQ', 'Rec']:\n",
    "        df.set_value(i,'BsmtFinType1',3)\n",
    "    else:\n",
    "        df.set_value(i,'BsmtFinType1',0)\n",
    "        \n",
    "for i in test.index:\n",
    "    if test.BsmtFinType1[i] == 'Unf':\n",
    "        test.set_value(i,'BsmtFinType1',1)\n",
    "    elif test.BsmtFinType1[i] in ['BLQ', 'LwQ']:\n",
    "        test.set_value(i,'BsmtFinType1',2)\n",
    "    elif test.BsmtFinType1[i] in ['GLQ', 'ALQ', 'Rec']:\n",
    "        test.set_value(i,'BsmtFinType1',3)\n",
    "    else:\n",
    "        test.set_value(i,'BsmtFinType1',0)"
   ]
  },
  {
   "cell_type": "code",
   "execution_count": 147,
   "metadata": {
    "collapsed": false
   },
   "outputs": [],
   "source": [
    "# Type2\n",
    "for i in df.index:\n",
    "    if df.BsmtFinType2[i] == 'Unf':\n",
    "        df.set_value(i,'BsmtFinType2',1)\n",
    "    elif df.BsmtFinType2[i] in ['BLQ', 'LwQ']:\n",
    "        df.set_value(i,'BsmtFinType2',2)\n",
    "    elif df.BsmtFinType2[i] in ['GLQ', 'ALQ', 'Rec']:\n",
    "        df.set_value(i,'BsmtFinType2',3)\n",
    "    else:\n",
    "        df.set_value(i,'BsmtFinType2',0)\n",
    "        \n",
    "for i in test.index:\n",
    "    if test.BsmtFinType2[i] == 'Unf':\n",
    "        test.set_value(i,'BsmtFinType2',1)\n",
    "    elif test.BsmtFinType2[i] in ['BLQ', 'LwQ']:\n",
    "        test.set_value(i,'BsmtFinType2',2)\n",
    "    elif test.BsmtFinType2[i] in ['GLQ', 'ALQ', 'Rec']:\n",
    "        test.set_value(i,'BsmtFinType2',3)\n",
    "    else:\n",
    "        test.set_value(i,'BsmtFinType2',0)"
   ]
  },
  {
   "cell_type": "markdown",
   "metadata": {},
   "source": [
    "# BsmtFinSF1, BsmtFinSF2\n",
    "\n",
    "Add for skew."
   ]
  },
  {
   "cell_type": "code",
   "execution_count": 148,
   "metadata": {
    "collapsed": false
   },
   "outputs": [
    {
     "data": {
      "text/plain": [
       "<matplotlib.axes._subplots.AxesSubplot at 0x267f27da518>"
      ]
     },
     "execution_count": 148,
     "metadata": {},
     "output_type": "execute_result"
    },
    {
     "data": {
      "image/png": "[encoded data removed]",
      "text/plain": [
       "<matplotlib.figure.Figure at 0x267f27da898>"
      ]
     },
     "metadata": {},
     "output_type": "display_data"
    }
   ],
   "source": [
    "df.BsmtFinSF1.hist()"
   ]
  },
  {
   "cell_type": "code",
   "execution_count": 149,
   "metadata": {
    "collapsed": false
   },
   "outputs": [
    {
     "data": {
      "text/plain": [
       "<matplotlib.axes._subplots.AxesSubplot at 0x267f283b550>"
      ]
     },
     "execution_count": 149,
     "metadata": {},
     "output_type": "execute_result"
    },
    {
     "data": {
      "image/png": "[encoded data removed]",
      "text/plain": [
       "<matplotlib.figure.Figure at 0x267f2855a90>"
      ]
     },
     "metadata": {},
     "output_type": "display_data"
    }
   ],
   "source": [
    "df.BsmtFinSF2.hist()"
   ]
  },
  {
   "cell_type": "code",
   "execution_count": 150,
   "metadata": {
    "collapsed": false
   },
   "outputs": [
    {
     "name": "stdout",
     "output_type": "stream",
     "text": [
      "---\n"
     ]
    }
   ],
   "source": [
    "# empty value\n",
    "test.set_value(test.BsmtFinSF1[test.BsmtFinSF1.isnull()].index[0],'BsmtFinSF1',0)\n",
    "print('---')"
   ]
  },
  {
   "cell_type": "code",
   "execution_count": 151,
   "metadata": {
    "collapsed": false
   },
   "outputs": [
    {
     "name": "stdout",
     "output_type": "stream",
     "text": [
      "---\n"
     ]
    }
   ],
   "source": [
    "# empty value\n",
    "test.set_value(test.BsmtFinSF2[test.BsmtFinSF2.isnull()].index[0],'BsmtFinSF2',0)\n",
    "print('---')"
   ]
  },
  {
   "cell_type": "code",
   "execution_count": 152,
   "metadata": {
    "collapsed": false
   },
   "outputs": [],
   "source": [
    "skw.append(['BsmtFinSF1', 'BsmtFinSF2'])"
   ]
  },
  {
   "cell_type": "markdown",
   "metadata": {},
   "source": [
    "# BsmtUnfSF\n",
    "\n",
    "This column will be added for skew processing.\n",
    "\n",
    "New column BsmtFinished finished - 1, unfinished - 0"
   ]
  },
  {
   "cell_type": "code",
   "execution_count": 153,
   "metadata": {
    "collapsed": false,
    "scrolled": true
   },
   "outputs": [],
   "source": [
    "no_b = df.HasBsmt[df.HasBsmt == 0].index.tolist()"
   ]
  },
  {
   "cell_type": "code",
   "execution_count": 154,
   "metadata": {
    "collapsed": false,
    "scrolled": true
   },
   "outputs": [],
   "source": [
    "unf = df.BsmtUnfSF[df.BsmtUnfSF == 0].index.tolist()"
   ]
  },
  {
   "cell_type": "code",
   "execution_count": 155,
   "metadata": {
    "collapsed": true
   },
   "outputs": [],
   "source": [
    "df['BsmtFinished'] = 0\n",
    "for i in df.index:\n",
    "    if df.BsmtUnfSF[i] == 0 and i in unf and i not in no_b:\n",
    "        df.set_value(i,'BsmtFinished',1)"
   ]
  },
  {
   "cell_type": "code",
   "execution_count": 156,
   "metadata": {
    "collapsed": false
   },
   "outputs": [
    {
     "data": {
      "text/plain": [
       "<matplotlib.axes._subplots.AxesSubplot at 0x267f2873978>"
      ]
     },
     "execution_count": 156,
     "metadata": {},
     "output_type": "execute_result"
    },
    {
     "data": {
      "image/png": "[encoded data removed]",
      "text/plain": [
       "<matplotlib.figure.Figure at 0x267f2875a58>"
      ]
     },
     "metadata": {},
     "output_type": "display_data"
    }
   ],
   "source": [
    "df.BsmtUnfSF.hist()"
   ]
  },
  {
   "cell_type": "code",
   "execution_count": 157,
   "metadata": {
    "collapsed": false
   },
   "outputs": [],
   "source": [
    "test.set_value(test.BsmtUnfSF[test.BsmtUnfSF.isnull()].index[0],'BsmtUnfSF',0)\n",
    "\n",
    "no_b = test.HasBsmt[test.HasBsmt == 0].index.tolist()\n",
    "unf = test.BsmtUnfSF[test.BsmtUnfSF == 0].index.tolist()\n",
    "\n",
    "test['BsmtFinished'] = 0\n",
    "for i in test.index:\n",
    "    if test.BsmtUnfSF[i] == 0 and i in unf and i not in no_b:\n",
    "        test.set_value(i,'BsmtFinished',1)"
   ]
  },
  {
   "cell_type": "code",
   "execution_count": 158,
   "metadata": {
    "collapsed": false
   },
   "outputs": [],
   "source": [
    "skw.append('BsmtUnfSF')"
   ]
  },
  {
   "cell_type": "markdown",
   "metadata": {},
   "source": [
    "# TotalBsmtSF\n",
    "\n",
    "Dropping outliers.\n",
    "\n",
    "Nothing else to change here, all good."
   ]
  },
  {
   "cell_type": "code",
   "execution_count": 159,
   "metadata": {
    "collapsed": false
   },
   "outputs": [
    {
     "data": {
      "text/plain": [
       "<matplotlib.axes._subplots.AxesSubplot at 0x267f296eb70>"
      ]
     },
     "execution_count": 159,
     "metadata": {},
     "output_type": "execute_result"
    },
    {
     "data": {
      "image/png": "[encoded data removed]",
      "text/plain": [
       "<matplotlib.figure.Figure at 0x267f2973cf8>"
      ]
     },
     "metadata": {},
     "output_type": "display_data"
    }
   ],
   "source": [
    "df.TotalBsmtSF.hist()"
   ]
  },
  {
   "cell_type": "code",
   "execution_count": 160,
   "metadata": {
    "collapsed": false
   },
   "outputs": [],
   "source": [
    "# dropping outliers\n",
    "elim = df[df.TotalBsmtSF > 2300].index.tolist()"
   ]
  },
  {
   "cell_type": "code",
   "execution_count": 161,
   "metadata": {
    "collapsed": true
   },
   "outputs": [],
   "source": [
    "df.drop(elim,inplace=True)"
   ]
  },
  {
   "cell_type": "code",
   "execution_count": 162,
   "metadata": {
    "collapsed": false
   },
   "outputs": [
    {
     "name": "stdout",
     "output_type": "stream",
     "text": [
      "---\n"
     ]
    }
   ],
   "source": [
    "test.set_value(test.TotalBsmtSF[test.TotalBsmtSF.isnull()].index[0],'TotalBsmtSF',0)\n",
    "print('---')"
   ]
  },
  {
   "cell_type": "code",
   "execution_count": 163,
   "metadata": {
    "collapsed": false
   },
   "outputs": [
    {
     "data": {
      "text/plain": [
       "<matplotlib.axes._subplots.AxesSubplot at 0x267f28e0390>"
      ]
     },
     "execution_count": 163,
     "metadata": {},
     "output_type": "execute_result"
    },
    {
     "data": {
      "image/png": "[encoded data removed]",
      "text/plain": [
       "<matplotlib.figure.Figure at 0x267f29f2908>"
      ]
     },
     "metadata": {},
     "output_type": "display_data"
    }
   ],
   "source": [
    "test.TotalBsmtSF.hist()"
   ]
  },
  {
   "cell_type": "markdown",
   "metadata": {},
   "source": [
    "# Heating\n",
    "\n",
    "Dropping this one."
   ]
  },
  {
   "cell_type": "code",
   "execution_count": 164,
   "metadata": {
    "collapsed": false
   },
   "outputs": [
    {
     "data": {
      "text/plain": [
       "GasA     1366\n",
       "GasW       17\n",
       "Grav        7\n",
       "Wall        4\n",
       "OthW        2\n",
       "Floor       1\n",
       "Name: Heating, dtype: int64"
      ]
     },
     "execution_count": 164,
     "metadata": {},
     "output_type": "execute_result"
    }
   ],
   "source": [
    "df.Heating.value_counts()"
   ]
  },
  {
   "cell_type": "code",
   "execution_count": 165,
   "metadata": {
    "collapsed": false
   },
   "outputs": [
    {
     "data": {
      "text/plain": [
       "GasA    1446\n",
       "GasW       9\n",
       "Grav       2\n",
       "Wall       2\n",
       "Name: Heating, dtype: int64"
      ]
     },
     "execution_count": 165,
     "metadata": {},
     "output_type": "execute_result"
    }
   ],
   "source": [
    "test.Heating.value_counts()"
   ]
  },
  {
   "cell_type": "code",
   "execution_count": 166,
   "metadata": {
    "collapsed": false
   },
   "outputs": [],
   "source": [
    "df.drop('Heating', axis=1, inplace=True)\n",
    "test.drop('Heating', axis=1, inplace=True)"
   ]
  },
  {
   "cell_type": "markdown",
   "metadata": {},
   "source": [
    "# HeatingQC\n",
    "\n",
    "Categorise:\n",
    "- 0 - Po, Fa\n",
    "- 1 - TA\n",
    "- 2 - Gd\n",
    "- 3 - Ex"
   ]
  },
  {
   "cell_type": "code",
   "execution_count": 167,
   "metadata": {
    "collapsed": false
   },
   "outputs": [
    {
     "data": {
      "text/plain": [
       "Ex    686\n",
       "TA    423\n",
       "Gd    238\n",
       "Fa     49\n",
       "Po      1\n",
       "Name: HeatingQC, dtype: int64"
      ]
     },
     "execution_count": 167,
     "metadata": {},
     "output_type": "execute_result"
    }
   ],
   "source": [
    "df.HeatingQC.value_counts()"
   ]
  },
  {
   "cell_type": "code",
   "execution_count": 168,
   "metadata": {
    "collapsed": false
   },
   "outputs": [],
   "source": [
    "for i in df.index:\n",
    "    if df.HeatingQC[i] in ['Po', 'Fa']:\n",
    "        df.set_value(i,'HeatingQC',0)\n",
    "    elif df.HeatingQC[i] == 'TA':\n",
    "        df.set_value(i,'HeatingQC',1)\n",
    "    elif df.HeatingQC[i] == 'Gd':\n",
    "        df.set_value(i,'HeatingQC',2)\n",
    "    elif df.HeatingQC[i] == 'Ex':\n",
    "        df.set_value(i,'HeatingQC',3)"
   ]
  },
  {
   "cell_type": "code",
   "execution_count": 169,
   "metadata": {
    "collapsed": false
   },
   "outputs": [],
   "source": [
    "for i in test.index:\n",
    "    if test.HeatingQC[i] in ['Po', 'Fa']:\n",
    "        test.set_value(i,'HeatingQC',0)\n",
    "    elif test.HeatingQC[i] == 'TA':\n",
    "        test.set_value(i,'HeatingQC',1)\n",
    "    elif test.HeatingQC[i] == 'Gd':\n",
    "        test.set_value(i,'HeatingQC',2)\n",
    "    elif test.HeatingQC[i] == 'Ex':\n",
    "        test.set_value(i,'HeatingQC',3)"
   ]
  },
  {
   "cell_type": "markdown",
   "metadata": {},
   "source": [
    "# CentralAir\n",
    "\n",
    "Encode."
   ]
  },
  {
   "cell_type": "code",
   "execution_count": 170,
   "metadata": {
    "collapsed": false
   },
   "outputs": [],
   "source": [
    "encoder = LabelEncoder()\n",
    "\n",
    "# train\n",
    "df.CentralAir = encoder.fit_transform(df.CentralAir)\n",
    "# test\n",
    "test.CentralAir = encoder.transform(test.CentralAir)"
   ]
  },
  {
   "cell_type": "markdown",
   "metadata": {},
   "source": [
    "# Electrical\n",
    "\n",
    "Categorise:\n",
    "- 0 - Mix, FuseP, FuseF\n",
    "- 1 - FuseA\n",
    "- 2 - SBrkr"
   ]
  },
  {
   "cell_type": "code",
   "execution_count": 171,
   "metadata": {
    "collapsed": false
   },
   "outputs": [
    {
     "data": {
      "text/plain": [
       "SBrkr    1271\n",
       "FuseA      94\n",
       "FuseF      27\n",
       "FuseP       3\n",
       "Mix         1\n",
       "Name: Electrical, dtype: int64"
      ]
     },
     "execution_count": 171,
     "metadata": {},
     "output_type": "execute_result"
    }
   ],
   "source": [
    "df.Electrical.value_counts()"
   ]
  },
  {
   "cell_type": "code",
   "execution_count": 172,
   "metadata": {
    "collapsed": false
   },
   "outputs": [
    {
     "data": {
      "text/plain": [
       "SBrkr    1337\n",
       "FuseA      94\n",
       "FuseF      23\n",
       "FuseP       5\n",
       "Name: Electrical, dtype: int64"
      ]
     },
     "execution_count": 172,
     "metadata": {},
     "output_type": "execute_result"
    }
   ],
   "source": [
    "test.Electrical.value_counts()"
   ]
  },
  {
   "cell_type": "code",
   "execution_count": 173,
   "metadata": {
    "collapsed": false
   },
   "outputs": [],
   "source": [
    "for i in df.index:\n",
    "    if df.Electrical[i] in ['Mix','FuseP','FuseF']:\n",
    "        df.set_value(i,'Electrical',0)\n",
    "    elif df.Electrical[i] == 'FuseA':\n",
    "        df.set_value(i,'Electrical',1)\n",
    "    elif df.Electrical[i] == 'SBrkr':\n",
    "        df.set_value(i,'Electrical',2)"
   ]
  },
  {
   "cell_type": "code",
   "execution_count": 174,
   "metadata": {
    "collapsed": true
   },
   "outputs": [],
   "source": [
    "for i in test.index:\n",
    "    if test.Electrical[i] in ['Mix','FuseP','FuseF']:\n",
    "        test.set_value(i,'Electrical',0)\n",
    "    elif test.Electrical[i] == 'FuseA':\n",
    "        test.set_value(i,'Electrical',1)\n",
    "    elif test.Electrical[i] == 'SBrkr':\n",
    "        test.set_value(i,'Electrical',2)"
   ]
  },
  {
   "cell_type": "code",
   "execution_count": 175,
   "metadata": {
    "collapsed": false
   },
   "outputs": [
    {
     "name": "stdout",
     "output_type": "stream",
     "text": [
      "---\n"
     ]
    }
   ],
   "source": [
    "df.set_value(df.Electrical[df.Electrical.isnull()].index[0],'Electrical',2)\n",
    "print('---')"
   ]
  },
  {
   "cell_type": "code",
   "execution_count": 176,
   "metadata": {
    "collapsed": true
   },
   "outputs": [],
   "source": [
    "hot.append('Electrical')"
   ]
  },
  {
   "cell_type": "markdown",
   "metadata": {},
   "source": [
    "# 1stFlrSF\n",
    "\n",
    "Add for skew.\n",
    "\n",
    "Removed outliers."
   ]
  },
  {
   "cell_type": "code",
   "execution_count": 177,
   "metadata": {
    "collapsed": false
   },
   "outputs": [
    {
     "data": {
      "text/plain": [
       "<matplotlib.axes._subplots.AxesSubplot at 0x267f29937b8>"
      ]
     },
     "execution_count": 177,
     "metadata": {},
     "output_type": "execute_result"
    },
    {
     "data": {
      "image/png": "[encoded data removed]",
      "text/plain": [
       "<matplotlib.figure.Figure at 0x267f2966860>"
      ]
     },
     "metadata": {},
     "output_type": "display_data"
    }
   ],
   "source": [
    "df['1stFlrSF'].hist()"
   ]
  },
  {
   "cell_type": "code",
   "execution_count": 178,
   "metadata": {
    "collapsed": false
   },
   "outputs": [],
   "source": [
    "outs = df[df['1stFlrSF'] > 2300].index.tolist()"
   ]
  },
  {
   "cell_type": "code",
   "execution_count": 179,
   "metadata": {
    "collapsed": false
   },
   "outputs": [],
   "source": [
    "df.drop(outs,inplace=True)"
   ]
  },
  {
   "cell_type": "code",
   "execution_count": 180,
   "metadata": {
    "collapsed": false
   },
   "outputs": [
    {
     "data": {
      "text/plain": [
       "<matplotlib.axes._subplots.AxesSubplot at 0x267f3f2cf60>"
      ]
     },
     "execution_count": 180,
     "metadata": {},
     "output_type": "execute_result"
    },
    {
     "data": {
      "image/png": "[encoded data removed]",
      "text/plain": [
       "<matplotlib.figure.Figure at 0x267f3ea8160>"
      ]
     },
     "metadata": {},
     "output_type": "display_data"
    }
   ],
   "source": [
    "test['1stFlrSF'].hist()"
   ]
  },
  {
   "cell_type": "code",
   "execution_count": 181,
   "metadata": {
    "collapsed": false
   },
   "outputs": [],
   "source": [
    "skw.append('1stFlrSF')"
   ]
  },
  {
   "cell_type": "markdown",
   "metadata": {},
   "source": [
    "# 2ndFlrSF\n",
    "\n",
    "This should be fine as is."
   ]
  },
  {
   "cell_type": "code",
   "execution_count": 182,
   "metadata": {
    "collapsed": false
   },
   "outputs": [
    {
     "data": {
      "text/plain": [
       "<matplotlib.axes._subplots.AxesSubplot at 0x267f3fca320>"
      ]
     },
     "execution_count": 182,
     "metadata": {},
     "output_type": "execute_result"
    },
    {
     "data": {
      "image/png": "[encoded data removed]",
      "text/plain": [
       "<matplotlib.figure.Figure at 0x267f3fd5630>"
      ]
     },
     "metadata": {},
     "output_type": "display_data"
    }
   ],
   "source": [
    "df['2ndFlrSF'].hist()"
   ]
  },
  {
   "cell_type": "code",
   "execution_count": 183,
   "metadata": {
    "collapsed": false
   },
   "outputs": [
    {
     "data": {
      "text/plain": [
       "<matplotlib.axes._subplots.AxesSubplot at 0x267f4034da0>"
      ]
     },
     "execution_count": 183,
     "metadata": {},
     "output_type": "execute_result"
    },
    {
     "data": {
      "image/png": "[encoded data removed]",
      "text/plain": [
       "<matplotlib.figure.Figure at 0x267f4068eb8>"
      ]
     },
     "metadata": {},
     "output_type": "display_data"
    }
   ],
   "source": [
    "test['2ndFlrSF'].hist()"
   ]
  },
  {
   "cell_type": "markdown",
   "metadata": {},
   "source": [
    "# LowQualFinSF\n",
    "\n",
    "Dropping this one."
   ]
  },
  {
   "cell_type": "code",
   "execution_count": 184,
   "metadata": {
    "collapsed": false,
    "scrolled": true
   },
   "outputs": [
    {
     "data": {
      "text/plain": [
       "0      1370\n",
       "80        3\n",
       "360       2\n",
       "371       1\n",
       "53        1\n",
       "120       1\n",
       "144       1\n",
       "156       1\n",
       "205       1\n",
       "232       1\n",
       "234       1\n",
       "528       1\n",
       "515       1\n",
       "390       1\n",
       "392       1\n",
       "397       1\n",
       "420       1\n",
       "473       1\n",
       "479       1\n",
       "481       1\n",
       "513       1\n",
       "514       1\n",
       "384       1\n",
       "Name: LowQualFinSF, dtype: int64"
      ]
     },
     "execution_count": 184,
     "metadata": {},
     "output_type": "execute_result"
    }
   ],
   "source": [
    "df.LowQualFinSF.value_counts()"
   ]
  },
  {
   "cell_type": "code",
   "execution_count": 185,
   "metadata": {
    "collapsed": false
   },
   "outputs": [],
   "source": [
    "df.drop('LowQualFinSF', axis=1,inplace=True)\n",
    "test.drop('LowQualFinSF', axis=1,inplace=True)"
   ]
  },
  {
   "cell_type": "markdown",
   "metadata": {},
   "source": [
    "# GrLivArea"
   ]
  },
  {
   "cell_type": "code",
   "execution_count": 186,
   "metadata": {
    "collapsed": false
   },
   "outputs": [
    {
     "data": {
      "text/plain": [
       "<matplotlib.axes._subplots.AxesSubplot at 0x267f41094e0>"
      ]
     },
     "execution_count": 186,
     "metadata": {},
     "output_type": "execute_result"
    },
    {
     "data": {
      "image/png": "[encoded data removed]",
      "text/plain": [
       "<matplotlib.figure.Figure at 0x267f4054da0>"
      ]
     },
     "metadata": {},
     "output_type": "display_data"
    }
   ],
   "source": [
    "df.GrLivArea.hist()"
   ]
  },
  {
   "cell_type": "code",
   "execution_count": 187,
   "metadata": {
    "collapsed": false
   },
   "outputs": [
    {
     "data": {
      "text/plain": [
       "<matplotlib.axes._subplots.AxesSubplot at 0x267f4122320>"
      ]
     },
     "execution_count": 187,
     "metadata": {},
     "output_type": "execute_result"
    },
    {
     "data": {
      "image/png": "[encoded data removed]",
      "text/plain": [
       "<matplotlib.figure.Figure at 0x267f4180da0>"
      ]
     },
     "metadata": {},
     "output_type": "display_data"
    }
   ],
   "source": [
    "test.GrLivArea.hist()"
   ]
  },
  {
   "cell_type": "code",
   "execution_count": 188,
   "metadata": {
    "collapsed": false
   },
   "outputs": [],
   "source": [
    "skw.append('GrLivArea')"
   ]
  },
  {
   "cell_type": "markdown",
   "metadata": {},
   "source": [
    "# BsmtFullBath\n",
    "\n",
    "3 as 2, outlier may influence model \n",
    "\n",
    "Add to OneHot"
   ]
  },
  {
   "cell_type": "code",
   "execution_count": 189,
   "metadata": {
    "collapsed": false,
    "scrolled": true
   },
   "outputs": [
    {
     "data": {
      "text/plain": [
       "0    839\n",
       "1    544\n",
       "2     11\n",
       "3      1\n",
       "Name: BsmtFullBath, dtype: int64"
      ]
     },
     "execution_count": 189,
     "metadata": {},
     "output_type": "execute_result"
    }
   ],
   "source": [
    "df.BsmtFullBath.value_counts()"
   ]
  },
  {
   "cell_type": "code",
   "execution_count": 190,
   "metadata": {
    "collapsed": false
   },
   "outputs": [
    {
     "data": {
      "text/plain": [
       "0.0    849\n",
       "1.0    584\n",
       "2.0     23\n",
       "3.0      1\n",
       "Name: BsmtFullBath, dtype: int64"
      ]
     },
     "execution_count": 190,
     "metadata": {},
     "output_type": "execute_result"
    }
   ],
   "source": [
    "test.BsmtFullBath.value_counts()"
   ]
  },
  {
   "cell_type": "code",
   "execution_count": 191,
   "metadata": {
    "collapsed": false
   },
   "outputs": [
    {
     "name": "stdout",
     "output_type": "stream",
     "text": [
      "---\n"
     ]
    }
   ],
   "source": [
    "# 3 to 2\n",
    "df.set_value(df.BsmtFullBath[df.BsmtFullBath == 3].index[0],'BsmtFullBath',2)\n",
    "test.set_value(test.BsmtFullBath[test.BsmtFullBath == 3].index[0],'BsmtFullBath',2)\n",
    "print('---')"
   ]
  },
  {
   "cell_type": "code",
   "execution_count": 192,
   "metadata": {
    "collapsed": false
   },
   "outputs": [],
   "source": [
    "# filling in some empty values\n",
    "ind = test.BsmtFullBath[test.BsmtFullBath.isnull()].index.tolist()\n",
    "\n",
    "for i in ind:\n",
    "    test.set_value(i,'BsmtFullBath',0)"
   ]
  },
  {
   "cell_type": "markdown",
   "metadata": {},
   "source": [
    "# BsmtHalfBath\n",
    "\n",
    "Moving 2s to 1s.\n",
    "\n",
    "Merging half bath/2 with full bath.\n",
    "\n",
    "Dropping BsmtHalfBath and BsmtFullBath"
   ]
  },
  {
   "cell_type": "code",
   "execution_count": 193,
   "metadata": {
    "collapsed": false
   },
   "outputs": [
    {
     "data": {
      "text/plain": [
       "0    1316\n",
       "1      77\n",
       "2       2\n",
       "Name: BsmtHalfBath, dtype: int64"
      ]
     },
     "execution_count": 193,
     "metadata": {},
     "output_type": "execute_result"
    }
   ],
   "source": [
    "df.BsmtHalfBath.value_counts()"
   ]
  },
  {
   "cell_type": "code",
   "execution_count": 194,
   "metadata": {
    "collapsed": false
   },
   "outputs": [
    {
     "data": {
      "text/plain": [
       "0.0    1364\n",
       "1.0      91\n",
       "2.0       2\n",
       "Name: BsmtHalfBath, dtype: int64"
      ]
     },
     "execution_count": 194,
     "metadata": {},
     "output_type": "execute_result"
    }
   ],
   "source": [
    "test.BsmtHalfBath.value_counts()"
   ]
  },
  {
   "cell_type": "code",
   "execution_count": 195,
   "metadata": {
    "collapsed": false
   },
   "outputs": [
    {
     "name": "stdout",
     "output_type": "stream",
     "text": [
      "---\n"
     ]
    }
   ],
   "source": [
    "# 2 to 1\n",
    "df.set_value(df.BsmtHalfBath[df.BsmtHalfBath == 2].index[0],'BsmtHalfBath',1)\n",
    "test.set_value(test.BsmtHalfBath[test.BsmtHalfBath == 2].index[0],'BsmtHalfBath',1)\n",
    "df.set_value(df.BsmtHalfBath[df.BsmtHalfBath == 2].index[0],'BsmtHalfBath',1)\n",
    "test.set_value(test.BsmtHalfBath[test.BsmtHalfBath == 2].index[0],'BsmtHalfBath',1)\n",
    "print('---')"
   ]
  },
  {
   "cell_type": "code",
   "execution_count": 196,
   "metadata": {
    "collapsed": false
   },
   "outputs": [],
   "source": [
    "# filling in some nulls\n",
    "ind = test.BsmtHalfBath[test.BsmtHalfBath.isnull()].index.tolist()\n",
    "\n",
    "for i in ind:\n",
    "    test.set_value(i,'BsmtHalfBath',0)"
   ]
  },
  {
   "cell_type": "code",
   "execution_count": 197,
   "metadata": {
    "collapsed": false
   },
   "outputs": [],
   "source": [
    "df['BsmtBath'] = df['BsmtHalfBath']/2 + df['BsmtFullBath']\n",
    "test['BsmtBath'] = test['BsmtHalfBath']/2 + test['BsmtFullBath']"
   ]
  },
  {
   "cell_type": "code",
   "execution_count": 198,
   "metadata": {
    "collapsed": false
   },
   "outputs": [],
   "source": [
    "df.drop('BsmtHalfBath',axis=1,inplace=True)\n",
    "df.drop('BsmtFullBath',axis=1,inplace=True)\n",
    "test.drop('BsmtHalfBath',axis=1,inplace=True)\n",
    "test.drop('BsmtFullBath',axis=1,inplace=True)"
   ]
  },
  {
   "cell_type": "markdown",
   "metadata": {},
   "source": [
    "# FullBath & HalfBath\n",
    "\n",
    "Creating new column Bath, drop  FullBath, HalfBath.\n",
    "\n",
    "Better correlation"
   ]
  },
  {
   "cell_type": "code",
   "execution_count": 199,
   "metadata": {
    "collapsed": false
   },
   "outputs": [
    {
     "data": {
      "text/plain": [
       "2    720\n",
       "1    647\n",
       "3     20\n",
       "0      8\n",
       "Name: FullBath, dtype: int64"
      ]
     },
     "execution_count": 199,
     "metadata": {},
     "output_type": "execute_result"
    }
   ],
   "source": [
    "df.FullBath.value_counts()"
   ]
  },
  {
   "cell_type": "code",
   "execution_count": 200,
   "metadata": {
    "collapsed": false
   },
   "outputs": [
    {
     "data": {
      "text/plain": [
       "2    762\n",
       "1    659\n",
       "3     31\n",
       "4      4\n",
       "0      3\n",
       "Name: FullBath, dtype: int64"
      ]
     },
     "execution_count": 200,
     "metadata": {},
     "output_type": "execute_result"
    }
   ],
   "source": [
    "test.FullBath.value_counts()"
   ]
  },
  {
   "cell_type": "code",
   "execution_count": 201,
   "metadata": {
    "collapsed": false
   },
   "outputs": [
    {
     "data": {
      "text/plain": [
       "0    887\n",
       "1    496\n",
       "2     12\n",
       "Name: HalfBath, dtype: int64"
      ]
     },
     "execution_count": 201,
     "metadata": {},
     "output_type": "execute_result"
    }
   ],
   "source": [
    "df.HalfBath.value_counts()"
   ]
  },
  {
   "cell_type": "code",
   "execution_count": 202,
   "metadata": {
    "collapsed": false
   },
   "outputs": [
    {
     "data": {
      "text/plain": [
       "0    921\n",
       "1    525\n",
       "2     13\n",
       "Name: HalfBath, dtype: int64"
      ]
     },
     "execution_count": 202,
     "metadata": {},
     "output_type": "execute_result"
    }
   ],
   "source": [
    "test.HalfBath.value_counts()"
   ]
  },
  {
   "cell_type": "code",
   "execution_count": 203,
   "metadata": {
    "collapsed": false
   },
   "outputs": [
    {
     "data": {
      "text/plain": [
       "0.58121588706825211"
      ]
     },
     "execution_count": 203,
     "metadata": {},
     "output_type": "execute_result"
    }
   ],
   "source": [
    "# correlations before\n",
    "df.corr()['FullBath']['SalePrice']"
   ]
  },
  {
   "cell_type": "code",
   "execution_count": 204,
   "metadata": {
    "collapsed": false
   },
   "outputs": [
    {
     "data": {
      "text/plain": [
       "0.29273051189572391"
      ]
     },
     "execution_count": 204,
     "metadata": {},
     "output_type": "execute_result"
    }
   ],
   "source": [
    "df.corr()['HalfBath']['SalePrice']"
   ]
  },
  {
   "cell_type": "code",
   "execution_count": 205,
   "metadata": {
    "collapsed": true
   },
   "outputs": [],
   "source": [
    "df['Bath'] = df['HalfBath']/2 + df['FullBath']\n",
    "test['Bath'] = test['HalfBath']/2 + test['FullBath']"
   ]
  },
  {
   "cell_type": "code",
   "execution_count": 206,
   "metadata": {
    "collapsed": false
   },
   "outputs": [
    {
     "data": {
      "text/plain": [
       "0.62154750388745117"
      ]
     },
     "execution_count": 206,
     "metadata": {},
     "output_type": "execute_result"
    }
   ],
   "source": [
    "# correlation after\n",
    "df.corr()['Bath']['SalePrice']"
   ]
  },
  {
   "cell_type": "code",
   "execution_count": 207,
   "metadata": {
    "collapsed": true
   },
   "outputs": [],
   "source": [
    "# drop FullBath and HalfBath\n",
    "df.drop('FullBath',axis=1,inplace=True)\n",
    "df.drop('HalfBath',axis=1,inplace=True)\n",
    "test.drop('FullBath',axis=1,inplace=True)\n",
    "test.drop('HalfBath',axis=1,inplace=True)"
   ]
  },
  {
   "cell_type": "markdown",
   "metadata": {},
   "source": [
    "# BedroomAbvGr\n",
    "\n",
    "8 beds to 6 beds"
   ]
  },
  {
   "cell_type": "code",
   "execution_count": 208,
   "metadata": {
    "collapsed": false
   },
   "outputs": [
    {
     "data": {
      "text/plain": [
       "3    782\n",
       "2    342\n",
       "4    191\n",
       "1     46\n",
       "5     21\n",
       "6      7\n",
       "0      5\n",
       "8      1\n",
       "Name: BedroomAbvGr, dtype: int64"
      ]
     },
     "execution_count": 208,
     "metadata": {},
     "output_type": "execute_result"
    }
   ],
   "source": [
    "df.BedroomAbvGr.value_counts()"
   ]
  },
  {
   "cell_type": "code",
   "execution_count": 209,
   "metadata": {
    "collapsed": false
   },
   "outputs": [
    {
     "data": {
      "text/plain": [
       "3    792\n",
       "2    384\n",
       "4    187\n",
       "1     53\n",
       "5     27\n",
       "6     14\n",
       "0      2\n",
       "Name: BedroomAbvGr, dtype: int64"
      ]
     },
     "execution_count": 209,
     "metadata": {},
     "output_type": "execute_result"
    }
   ],
   "source": [
    "test.BedroomAbvGr.value_counts()"
   ]
  },
  {
   "cell_type": "code",
   "execution_count": 210,
   "metadata": {
    "collapsed": false
   },
   "outputs": [
    {
     "name": "stdout",
     "output_type": "stream",
     "text": [
      "---\n"
     ]
    }
   ],
   "source": [
    "df.set_value(df.BedroomAbvGr[df.BedroomAbvGr == 8].index[0],'BedroomAbvGr',6)\n",
    "print('---')"
   ]
  },
  {
   "cell_type": "markdown",
   "metadata": {},
   "source": [
    "# Kitchen\n",
    "\n",
    "0 to 1"
   ]
  },
  {
   "cell_type": "code",
   "execution_count": 211,
   "metadata": {
    "collapsed": false
   },
   "outputs": [
    {
     "data": {
      "text/plain": [
       "1    1328\n",
       "2      64\n",
       "3       2\n",
       "0       1\n",
       "Name: KitchenAbvGr, dtype: int64"
      ]
     },
     "execution_count": 211,
     "metadata": {},
     "output_type": "execute_result"
    }
   ],
   "source": [
    "df.KitchenAbvGr.value_counts()"
   ]
  },
  {
   "cell_type": "code",
   "execution_count": 212,
   "metadata": {
    "collapsed": false
   },
   "outputs": [
    {
     "data": {
      "text/plain": [
       "1    1393\n",
       "2      64\n",
       "0       2\n",
       "Name: KitchenAbvGr, dtype: int64"
      ]
     },
     "execution_count": 212,
     "metadata": {},
     "output_type": "execute_result"
    }
   ],
   "source": [
    "test.KitchenAbvGr.value_counts()"
   ]
  },
  {
   "cell_type": "code",
   "execution_count": 213,
   "metadata": {
    "collapsed": false
   },
   "outputs": [
    {
     "name": "stdout",
     "output_type": "stream",
     "text": [
      "---\n"
     ]
    }
   ],
   "source": [
    "df.set_value(df[df.KitchenAbvGr == 0].index[0],'KitchenAbvGr',1)\n",
    "print('---')"
   ]
  },
  {
   "cell_type": "markdown",
   "metadata": {},
   "source": [
    "# KitchenQual"
   ]
  },
  {
   "cell_type": "code",
   "execution_count": 214,
   "metadata": {
    "collapsed": false
   },
   "outputs": [
    {
     "data": {
      "text/plain": [
       "TA    731\n",
       "Gd    562\n",
       "Ex     63\n",
       "Fa     39\n",
       "Name: KitchenQual, dtype: int64"
      ]
     },
     "execution_count": 214,
     "metadata": {},
     "output_type": "execute_result"
    }
   ],
   "source": [
    "df.KitchenQual.value_counts()"
   ]
  },
  {
   "cell_type": "code",
   "execution_count": 215,
   "metadata": {
    "collapsed": false
   },
   "outputs": [
    {
     "data": {
      "text/plain": [
       "TA    757\n",
       "Gd    565\n",
       "Ex    105\n",
       "Fa     31\n",
       "Name: KitchenQual, dtype: int64"
      ]
     },
     "execution_count": 215,
     "metadata": {},
     "output_type": "execute_result"
    }
   ],
   "source": [
    "test.KitchenQual.value_counts()"
   ]
  },
  {
   "cell_type": "code",
   "execution_count": 216,
   "metadata": {
    "collapsed": true
   },
   "outputs": [],
   "source": [
    "for i in df.index:\n",
    "    if df.KitchenQual[i] in ['Ex','Gd']:\n",
    "        df.set_value(i,'KitchenQual',2)\n",
    "    elif df.KitchenQual[i] == 'TA':\n",
    "        df.set_value(i,'KitchenQual',1)\n",
    "    else:\n",
    "        df.set_value(i,'KitchenQual',0)"
   ]
  },
  {
   "cell_type": "code",
   "execution_count": 217,
   "metadata": {
    "collapsed": true
   },
   "outputs": [],
   "source": [
    "for i in test.index:\n",
    "    if test.KitchenQual[i] in ['Ex','Gd']:\n",
    "        test.set_value(i,'KitchenQual',2)\n",
    "    elif test.KitchenQual[i] == 'TA':\n",
    "        test.set_value(i,'KitchenQual',1)\n",
    "    else:\n",
    "        test.set_value(i,'KitchenQual',0)"
   ]
  },
  {
   "cell_type": "markdown",
   "metadata": {},
   "source": [
    "# TotRmsAbvGrd\n",
    "\n",
    "Leaving it as is for now."
   ]
  },
  {
   "cell_type": "code",
   "execution_count": 218,
   "metadata": {
    "collapsed": false
   },
   "outputs": [
    {
     "data": {
      "text/plain": [
       "6     400\n",
       "7     315\n",
       "5     271\n",
       "8     177\n",
       "4      97\n",
       "9      66\n",
       "10     32\n",
       "3      17\n",
       "11     11\n",
       "12      7\n",
       "14      1\n",
       "2       1\n",
       "Name: TotRmsAbvGrd, dtype: int64"
      ]
     },
     "execution_count": 218,
     "metadata": {},
     "output_type": "execute_result"
    }
   ],
   "source": [
    "df.TotRmsAbvGrd.value_counts()"
   ]
  },
  {
   "cell_type": "code",
   "execution_count": 219,
   "metadata": {
    "collapsed": false,
    "scrolled": true
   },
   "outputs": [
    {
     "data": {
      "text/plain": [
       "6     442\n",
       "7     320\n",
       "5     308\n",
       "8     160\n",
       "4      99\n",
       "9      68\n",
       "10     33\n",
       "11     14\n",
       "3       8\n",
       "12      5\n",
       "15      1\n",
       "13      1\n",
       "Name: TotRmsAbvGrd, dtype: int64"
      ]
     },
     "execution_count": 219,
     "metadata": {},
     "output_type": "execute_result"
    }
   ],
   "source": [
    "test.TotRmsAbvGrd.value_counts()"
   ]
  },
  {
   "cell_type": "code",
   "execution_count": 220,
   "metadata": {
    "collapsed": true
   },
   "outputs": [],
   "source": [
    "hot.append('TotRmsAbvGrd')"
   ]
  },
  {
   "cell_type": "markdown",
   "metadata": {},
   "source": [
    "# Functional\n",
    "\n",
    "Categorise:\n",
    "- 2 - Maj1, Maj2, Sev, Sal\n",
    "- 1 - Min1, Min2, Mod\n",
    "- 0 - Typ"
   ]
  },
  {
   "cell_type": "code",
   "execution_count": 221,
   "metadata": {
    "collapsed": false
   },
   "outputs": [
    {
     "data": {
      "text/plain": [
       "Typ     1297\n",
       "Min2      34\n",
       "Min1      31\n",
       "Mod       14\n",
       "Maj1      13\n",
       "Maj2       5\n",
       "Sev        1\n",
       "Name: Functional, dtype: int64"
      ]
     },
     "execution_count": 221,
     "metadata": {},
     "output_type": "execute_result"
    }
   ],
   "source": [
    "df.Functional.value_counts()"
   ]
  },
  {
   "cell_type": "code",
   "execution_count": 222,
   "metadata": {
    "collapsed": false
   },
   "outputs": [
    {
     "data": {
      "text/plain": [
       "Typ     1357\n",
       "Min2      36\n",
       "Min1      34\n",
       "Mod       20\n",
       "Maj1       5\n",
       "Maj2       4\n",
       "Sev        1\n",
       "Name: Functional, dtype: int64"
      ]
     },
     "execution_count": 222,
     "metadata": {},
     "output_type": "execute_result"
    }
   ],
   "source": [
    "test.Functional.value_counts()"
   ]
  },
  {
   "cell_type": "code",
   "execution_count": 223,
   "metadata": {
    "collapsed": false
   },
   "outputs": [],
   "source": [
    "for i in df.index:\n",
    "    if df.Functional[i] == 'Typ':\n",
    "        df.set_value(i,'Functional',0)\n",
    "    elif df.Functional[i] in ['Min1','Min2','Mod']:\n",
    "        df.set_value(i,'Functional',1)\n",
    "    elif df.Functional[i] in ['Maj1','Maj2','Sal','Sev']:\n",
    "        df.set_value(i,'Functional',2)"
   ]
  },
  {
   "cell_type": "code",
   "execution_count": 224,
   "metadata": {
    "collapsed": true
   },
   "outputs": [],
   "source": [
    "for i in test.index:\n",
    "    if test.Functional[i] == 'Typ':\n",
    "        test.set_value(i,'Functional',0)\n",
    "    elif test.Functional[i] in ['Min1','Min2','Mod']:\n",
    "        test.set_value(i,'Functional',1)\n",
    "    elif test.Functional[i] in ['Maj1','Maj2','Sal','Sev']:\n",
    "        test.set_value(i,'Functional',2)"
   ]
  },
  {
   "cell_type": "code",
   "execution_count": 225,
   "metadata": {
    "collapsed": false,
    "scrolled": true
   },
   "outputs": [],
   "source": [
    "# empty values\n",
    "ind = test.Functional[test.Functional.isnull()].index.tolist()\n",
    "\n",
    "for i in ind:\n",
    "    test.set_value(i,'Functional',0)"
   ]
  },
  {
   "cell_type": "code",
   "execution_count": 226,
   "metadata": {
    "collapsed": true
   },
   "outputs": [],
   "source": [
    "hot.append('Functional')"
   ]
  },
  {
   "cell_type": "markdown",
   "metadata": {},
   "source": [
    "# Fireplaces\n",
    "\n",
    "Moving 3 and 4 to 2 category\n",
    "\n",
    "Add to OneHot"
   ]
  },
  {
   "cell_type": "code",
   "execution_count": 227,
   "metadata": {
    "collapsed": false
   },
   "outputs": [
    {
     "data": {
      "text/plain": [
       "0    690\n",
       "1    606\n",
       "2     96\n",
       "3      3\n",
       "Name: Fireplaces, dtype: int64"
      ]
     },
     "execution_count": 227,
     "metadata": {},
     "output_type": "execute_result"
    }
   ],
   "source": [
    "df.Fireplaces.value_counts()"
   ]
  },
  {
   "cell_type": "code",
   "execution_count": 228,
   "metadata": {
    "collapsed": false
   },
   "outputs": [
    {
     "data": {
      "text/plain": [
       "0    730\n",
       "1    618\n",
       "2    104\n",
       "3      6\n",
       "4      1\n",
       "Name: Fireplaces, dtype: int64"
      ]
     },
     "execution_count": 228,
     "metadata": {},
     "output_type": "execute_result"
    }
   ],
   "source": [
    "test.Fireplaces.value_counts()"
   ]
  },
  {
   "cell_type": "code",
   "execution_count": 229,
   "metadata": {
    "collapsed": false
   },
   "outputs": [],
   "source": [
    "for i in df.index:\n",
    "    if df.Fireplaces[i] == 3:\n",
    "        df.set_value(i,'Fireplaces',2)\n",
    "\n",
    "for i in test.index:\n",
    "    if test.Fireplaces[i] in [3,4]:\n",
    "        test.set_value(i,'Fireplaces',2)"
   ]
  },
  {
   "cell_type": "code",
   "execution_count": 230,
   "metadata": {
    "collapsed": true
   },
   "outputs": [],
   "source": [
    "hot.append('Fireplaces')"
   ]
  },
  {
   "cell_type": "markdown",
   "metadata": {},
   "source": [
    "# FireplaceQu"
   ]
  },
  {
   "cell_type": "code",
   "execution_count": 231,
   "metadata": {
    "collapsed": false
   },
   "outputs": [
    {
     "data": {
      "text/plain": [
       "Gd    336\n",
       "TA    302\n",
       "Fa     33\n",
       "Po     20\n",
       "Ex     14\n",
       "Name: FireplaceQu, dtype: int64"
      ]
     },
     "execution_count": 231,
     "metadata": {},
     "output_type": "execute_result"
    }
   ],
   "source": [
    "df.FireplaceQu.value_counts()"
   ]
  },
  {
   "cell_type": "code",
   "execution_count": 232,
   "metadata": {
    "collapsed": false
   },
   "outputs": [
    {
     "data": {
      "text/plain": [
       "Gd    364\n",
       "TA    279\n",
       "Fa     41\n",
       "Po     26\n",
       "Ex     19\n",
       "Name: FireplaceQu, dtype: int64"
      ]
     },
     "execution_count": 232,
     "metadata": {},
     "output_type": "execute_result"
    }
   ],
   "source": [
    "test.FireplaceQu.value_counts()"
   ]
  },
  {
   "cell_type": "code",
   "execution_count": 233,
   "metadata": {
    "collapsed": true
   },
   "outputs": [],
   "source": [
    "for i in df.index:\n",
    "    if df.FireplaceQu[i] in ['Ex','Gd']:\n",
    "        df.set_value(i,'FireplaceQu',3)\n",
    "    elif df.FireplaceQu[i] == 'TA':\n",
    "        df.set_value(i,'FireplaceQu',2)\n",
    "    elif df.FireplaceQu[i] in ['Po','Fa']:\n",
    "        df.set_value(i,'FireplaceQu',1)\n",
    "    else:\n",
    "        df.set_value(i,'FireplaceQu',0)"
   ]
  },
  {
   "cell_type": "code",
   "execution_count": 234,
   "metadata": {
    "collapsed": true
   },
   "outputs": [],
   "source": [
    "for i in test.index:\n",
    "    if test.FireplaceQu[i] in ['Ex','Gd']:\n",
    "        test.set_value(i,'FireplaceQu',3)\n",
    "    elif test.FireplaceQu[i] == 'TA':\n",
    "        test.set_value(i,'FireplaceQu',2)\n",
    "    elif test.FireplaceQu[i] in ['Po','Fa']:\n",
    "        test.set_value(i,'FireplaceQu',1)\n",
    "    else:\n",
    "        test.set_value(i,'FireplaceQu',0)"
   ]
  },
  {
   "cell_type": "markdown",
   "metadata": {},
   "source": [
    "# GarageType\n",
    "\n",
    "Will split into Attached - 1, Detached - 2, no garage - 0"
   ]
  },
  {
   "cell_type": "code",
   "execution_count": 235,
   "metadata": {
    "collapsed": false
   },
   "outputs": [
    {
     "data": {
      "text/plain": [
       "Attchd     823\n",
       "Detchd     385\n",
       "BuiltIn     73\n",
       "Basment     18\n",
       "CarPort      9\n",
       "2Types       6\n",
       "Name: GarageType, dtype: int64"
      ]
     },
     "execution_count": 235,
     "metadata": {},
     "output_type": "execute_result"
    }
   ],
   "source": [
    "df.GarageType.value_counts()"
   ]
  },
  {
   "cell_type": "code",
   "execution_count": 236,
   "metadata": {
    "collapsed": false
   },
   "outputs": [
    {
     "data": {
      "text/plain": [
       "Attchd     853\n",
       "Detchd     392\n",
       "BuiltIn     98\n",
       "Basment     17\n",
       "2Types      17\n",
       "CarPort      6\n",
       "Name: GarageType, dtype: int64"
      ]
     },
     "execution_count": 236,
     "metadata": {},
     "output_type": "execute_result"
    }
   ],
   "source": [
    "test.GarageType.value_counts()"
   ]
  },
  {
   "cell_type": "code",
   "execution_count": 237,
   "metadata": {
    "collapsed": true
   },
   "outputs": [],
   "source": [
    "for i in df.index:\n",
    "    if df.GarageType[i] in ['Attchd', 'BuiltIn', 'Basment']:\n",
    "        df.set_value(i,'GarageType',1)\n",
    "    elif df.GarageType[i] in ['Detchd', 'CarPort', '2Types']:\n",
    "        df.set_value(i,'GarageType',2)\n",
    "    else:\n",
    "        df.set_value(i,'GarageType',0)"
   ]
  },
  {
   "cell_type": "code",
   "execution_count": 238,
   "metadata": {
    "collapsed": true
   },
   "outputs": [],
   "source": [
    "for i in test.index:\n",
    "    if test.GarageType[i] in ['Attchd', 'BuiltIn', 'Basment']:\n",
    "        test.set_value(i,'GarageType',1)\n",
    "    elif test.GarageType[i] in ['Detchd', 'CarPort', '2Types']:\n",
    "        test.set_value(i,'GarageType',2)\n",
    "    else:\n",
    "        test.set_value(i,'GarageType',0)"
   ]
  },
  {
   "cell_type": "markdown",
   "metadata": {},
   "source": [
    "# GarageYrBlt\n",
    "\n",
    "Add for skew, one year in test set is off."
   ]
  },
  {
   "cell_type": "code",
   "execution_count": 239,
   "metadata": {
    "collapsed": false
   },
   "outputs": [
    {
     "data": {
      "text/plain": [
       "count    1314.000000\n",
       "mean     1977.512177\n",
       "std        24.651390\n",
       "min      1900.000000\n",
       "25%      1960.000000\n",
       "50%      1978.000000\n",
       "75%      2001.000000\n",
       "max      2010.000000\n",
       "Name: GarageYrBlt, dtype: float64"
      ]
     },
     "execution_count": 239,
     "metadata": {},
     "output_type": "execute_result"
    }
   ],
   "source": [
    "df.GarageYrBlt.describe()"
   ]
  },
  {
   "cell_type": "code",
   "execution_count": 240,
   "metadata": {
    "collapsed": false
   },
   "outputs": [
    {
     "data": {
      "text/plain": [
       "<matplotlib.axes._subplots.AxesSubplot at 0x267f41f8e10>"
      ]
     },
     "execution_count": 240,
     "metadata": {},
     "output_type": "execute_result"
    },
    {
     "data": {
      "image/png": "[encoded data removed]",
      "text/plain": [
       "<matplotlib.figure.Figure at 0x267f4222470>"
      ]
     },
     "metadata": {},
     "output_type": "display_data"
    }
   ],
   "source": [
    "df.GarageYrBlt.hist(bins=5)"
   ]
  },
  {
   "cell_type": "code",
   "execution_count": 241,
   "metadata": {
    "collapsed": false
   },
   "outputs": [
    {
     "data": {
      "text/plain": [
       "count    1381.000000\n",
       "mean     1977.721217\n",
       "std        26.431175\n",
       "min      1895.000000\n",
       "25%      1959.000000\n",
       "50%      1979.000000\n",
       "75%      2002.000000\n",
       "max      2207.000000\n",
       "Name: GarageYrBlt, dtype: float64"
      ]
     },
     "execution_count": 241,
     "metadata": {},
     "output_type": "execute_result"
    }
   ],
   "source": [
    "test.GarageYrBlt.describe()"
   ]
  },
  {
   "cell_type": "code",
   "execution_count": 242,
   "metadata": {
    "collapsed": false
   },
   "outputs": [
    {
     "name": "stdout",
     "output_type": "stream",
     "text": [
      "---\n"
     ]
    }
   ],
   "source": [
    "# assume they meant 2007 instead of 2207\n",
    "test.set_value(test.GarageYrBlt[test.GarageYrBlt > 2010].index[0],'GarageYrBlt', 2007)\n",
    "print('---')"
   ]
  },
  {
   "cell_type": "code",
   "execution_count": 243,
   "metadata": {
    "collapsed": false,
    "scrolled": true
   },
   "outputs": [],
   "source": [
    "# empty values as 0\n",
    "df.GarageYrBlt = df.GarageYrBlt.apply(lambda x: np.nan_to_num(x))\n",
    "test.GarageYrBlt = test.GarageYrBlt.apply(lambda x: np.nan_to_num(x))"
   ]
  },
  {
   "cell_type": "code",
   "execution_count": 244,
   "metadata": {
    "collapsed": true
   },
   "outputs": [],
   "source": [
    "skw.append('GarageYrBlt')"
   ]
  },
  {
   "cell_type": "markdown",
   "metadata": {},
   "source": [
    "# GarageFinish\n",
    "\n",
    "Categorise"
   ]
  },
  {
   "cell_type": "code",
   "execution_count": 245,
   "metadata": {
    "collapsed": false
   },
   "outputs": [
    {
     "data": {
      "text/plain": [
       "Unf    600\n",
       "RFn    408\n",
       "Fin    306\n",
       "Name: GarageFinish, dtype: int64"
      ]
     },
     "execution_count": 245,
     "metadata": {},
     "output_type": "execute_result"
    }
   ],
   "source": [
    "df.GarageFinish.value_counts()"
   ]
  },
  {
   "cell_type": "code",
   "execution_count": 246,
   "metadata": {
    "collapsed": false
   },
   "outputs": [
    {
     "data": {
      "text/plain": [
       "Unf    625\n",
       "RFn    389\n",
       "Fin    367\n",
       "Name: GarageFinish, dtype: int64"
      ]
     },
     "execution_count": 246,
     "metadata": {},
     "output_type": "execute_result"
    }
   ],
   "source": [
    "test.GarageFinish.value_counts()"
   ]
  },
  {
   "cell_type": "code",
   "execution_count": 247,
   "metadata": {
    "collapsed": true
   },
   "outputs": [],
   "source": [
    "for i in df.index:\n",
    "    if df.GarageFinish[i] == 'Unf':\n",
    "        df.set_value(i,'GarageFinish',0)\n",
    "    elif df.GarageFinish[i] == 'RFn':\n",
    "        df.set_value(i,'GarageFinish',1)\n",
    "    elif df.GarageFinish[i] == 'Fin':\n",
    "        df.set_value(i,'GarageFinish',2)\n",
    "    else:\n",
    "        df.set_value(i,'GarageFinish',3)"
   ]
  },
  {
   "cell_type": "code",
   "execution_count": 248,
   "metadata": {
    "collapsed": true
   },
   "outputs": [],
   "source": [
    "for i in test.index:\n",
    "    if test.GarageFinish[i] == 'Unf':\n",
    "        test.set_value(i,'GarageFinish',0)\n",
    "    elif test.GarageFinish[i] == 'RFn':\n",
    "        test.set_value(i,'GarageFinish',1)\n",
    "    elif test.GarageFinish[i] == 'Fin':\n",
    "        test.set_value(i,'GarageFinish',2)\n",
    "    else:\n",
    "        test.set_value(i,'GarageFinish',3)"
   ]
  },
  {
   "cell_type": "code",
   "execution_count": 249,
   "metadata": {
    "collapsed": true
   },
   "outputs": [],
   "source": [
    "hot.append('GarageFinish')"
   ]
  },
  {
   "cell_type": "markdown",
   "metadata": {},
   "source": [
    "# GarageCars, GarageArea\n",
    "\n",
    "As those two are higly correlated, will only keep the one highest correlated with SalePrice.\n",
    "\n",
    "That is GarageCars"
   ]
  },
  {
   "cell_type": "code",
   "execution_count": 250,
   "metadata": {
    "collapsed": false
   },
   "outputs": [
    {
     "data": {
      "text/plain": [
       "0.88318781722899942"
      ]
     },
     "execution_count": 250,
     "metadata": {},
     "output_type": "execute_result"
    }
   ],
   "source": [
    "df.corr()['GarageCars']['GarageArea']"
   ]
  },
  {
   "cell_type": "code",
   "execution_count": 251,
   "metadata": {
    "collapsed": false
   },
   "outputs": [
    {
     "data": {
      "text/plain": [
       "0.63449852305598187"
      ]
     },
     "execution_count": 251,
     "metadata": {},
     "output_type": "execute_result"
    }
   ],
   "source": [
    "df.corr()['GarageCars']['SalePrice']"
   ]
  },
  {
   "cell_type": "code",
   "execution_count": 252,
   "metadata": {
    "collapsed": false
   },
   "outputs": [
    {
     "data": {
      "text/plain": [
       "0.6185415928399659"
      ]
     },
     "execution_count": 252,
     "metadata": {},
     "output_type": "execute_result"
    }
   ],
   "source": [
    "df.corr()['GarageArea']['SalePrice']"
   ]
  },
  {
   "cell_type": "code",
   "execution_count": 253,
   "metadata": {
    "collapsed": false
   },
   "outputs": [],
   "source": [
    "df.drop('GarageArea',axis=1,inplace=True)\n",
    "test.drop('GarageArea',axis=1,inplace=True)"
   ]
  },
  {
   "cell_type": "code",
   "execution_count": 254,
   "metadata": {
    "collapsed": false
   },
   "outputs": [
    {
     "data": {
      "text/plain": [
       "2    810\n",
       "1    369\n",
       "3    130\n",
       "0     81\n",
       "4      5\n",
       "Name: GarageCars, dtype: int64"
      ]
     },
     "execution_count": 254,
     "metadata": {},
     "output_type": "execute_result"
    }
   ],
   "source": [
    "df.GarageCars.value_counts()"
   ]
  },
  {
   "cell_type": "code",
   "execution_count": 255,
   "metadata": {
    "collapsed": false
   },
   "outputs": [
    {
     "data": {
      "text/plain": [
       "2.0    770\n",
       "1.0    407\n",
       "3.0    193\n",
       "0.0     76\n",
       "4.0     11\n",
       "5.0      1\n",
       "Name: GarageCars, dtype: int64"
      ]
     },
     "execution_count": 255,
     "metadata": {},
     "output_type": "execute_result"
    }
   ],
   "source": [
    "test.GarageCars.value_counts()"
   ]
  },
  {
   "cell_type": "code",
   "execution_count": 256,
   "metadata": {
    "collapsed": false
   },
   "outputs": [
    {
     "name": "stdout",
     "output_type": "stream",
     "text": [
      "---\n"
     ]
    }
   ],
   "source": [
    "# moving from 5 to 4\n",
    "test.set_value(test.GarageCars[test.GarageCars == 5].index[0],'GarageCars',4)\n",
    "print('---')"
   ]
  },
  {
   "cell_type": "code",
   "execution_count": 257,
   "metadata": {
    "collapsed": false
   },
   "outputs": [
    {
     "name": "stdout",
     "output_type": "stream",
     "text": [
      "---\n"
     ]
    }
   ],
   "source": [
    "# filling empty column\n",
    "test.set_value(test.GarageCars[test.GarageCars.isnull()].index[0],'GarageCars',0)\n",
    "print('---')"
   ]
  },
  {
   "cell_type": "code",
   "execution_count": 258,
   "metadata": {
    "collapsed": true
   },
   "outputs": [],
   "source": [
    "hot.append('GarageCars')"
   ]
  },
  {
   "cell_type": "markdown",
   "metadata": {},
   "source": [
    "# GarageQual\n",
    "\n",
    "Categorising:\n",
    "- 0 - No garage\n",
    "- 1 - Fa, Po\n",
    "- 2 - TA\n",
    "- 3 - Gd, Ex"
   ]
  },
  {
   "cell_type": "code",
   "execution_count": 259,
   "metadata": {
    "collapsed": false
   },
   "outputs": [
    {
     "data": {
      "text/plain": [
       "TA    1247\n",
       "Fa      48\n",
       "Gd      14\n",
       "Po       3\n",
       "Ex       2\n",
       "Name: GarageQual, dtype: int64"
      ]
     },
     "execution_count": 259,
     "metadata": {},
     "output_type": "execute_result"
    }
   ],
   "source": [
    "df.GarageQual.value_counts()"
   ]
  },
  {
   "cell_type": "code",
   "execution_count": 260,
   "metadata": {
    "collapsed": false
   },
   "outputs": [
    {
     "data": {
      "text/plain": [
       "TA    1293\n",
       "Fa      76\n",
       "Gd      10\n",
       "Po       2\n",
       "Name: GarageQual, dtype: int64"
      ]
     },
     "execution_count": 260,
     "metadata": {},
     "output_type": "execute_result"
    }
   ],
   "source": [
    "test.GarageQual.value_counts()"
   ]
  },
  {
   "cell_type": "code",
   "execution_count": 261,
   "metadata": {
    "collapsed": true
   },
   "outputs": [],
   "source": [
    "for i in df.index:\n",
    "    if df.GarageQual[i] in ['Gd', 'Ex']:\n",
    "        df.set_value(i,'GarageQual',3)\n",
    "    elif df.GarageQual[i] == 'TA':\n",
    "        df.set_value(i,'GarageQual',2)\n",
    "    elif df.GarageQual[i] in ['Fa', 'Po']:\n",
    "        df.set_value(i,'GarageQual',1)\n",
    "    else:\n",
    "        df.set_value(i,'GarageQual',0)"
   ]
  },
  {
   "cell_type": "code",
   "execution_count": 262,
   "metadata": {
    "collapsed": true
   },
   "outputs": [],
   "source": [
    "for i in test.index:\n",
    "    if test.GarageQual[i] in ['Gd', 'Ex']:\n",
    "        test.set_value(i,'GarageQual',3)\n",
    "    elif test.GarageQual[i] == 'TA':\n",
    "        test.set_value(i,'GarageQual',2)\n",
    "    elif test.GarageQual[i] in ['Fa', 'Po']:\n",
    "        test.set_value(i,'GarageQual',1)\n",
    "    else:\n",
    "        test.set_value(i,'GarageQual',0)"
   ]
  },
  {
   "cell_type": "code",
   "execution_count": 263,
   "metadata": {
    "collapsed": true
   },
   "outputs": [],
   "source": [
    "hot.append('GarageQual')"
   ]
  },
  {
   "cell_type": "markdown",
   "metadata": {},
   "source": [
    "# GarageCond\n",
    "\n",
    "Same as above"
   ]
  },
  {
   "cell_type": "code",
   "execution_count": 264,
   "metadata": {
    "collapsed": false
   },
   "outputs": [
    {
     "data": {
      "text/plain": [
       "TA    1261\n",
       "Fa      35\n",
       "Gd       9\n",
       "Po       7\n",
       "Ex       2\n",
       "Name: GarageCond, dtype: int64"
      ]
     },
     "execution_count": 264,
     "metadata": {},
     "output_type": "execute_result"
    }
   ],
   "source": [
    "df.GarageCond.value_counts()"
   ]
  },
  {
   "cell_type": "code",
   "execution_count": 265,
   "metadata": {
    "collapsed": false
   },
   "outputs": [
    {
     "data": {
      "text/plain": [
       "TA    1328\n",
       "Fa      39\n",
       "Po       7\n",
       "Gd       6\n",
       "Ex       1\n",
       "Name: GarageCond, dtype: int64"
      ]
     },
     "execution_count": 265,
     "metadata": {},
     "output_type": "execute_result"
    }
   ],
   "source": [
    "test.GarageCond.value_counts()"
   ]
  },
  {
   "cell_type": "code",
   "execution_count": 266,
   "metadata": {
    "collapsed": true
   },
   "outputs": [],
   "source": [
    "# train\n",
    "for i in df.index:\n",
    "    if df.GarageCond[i] in ['Gd', 'Ex']:\n",
    "        df.set_value(i,'GarageCond',3)\n",
    "    elif df.GarageCond[i] == 'TA':\n",
    "        df.set_value(i,'GarageCond',2)\n",
    "    elif df.GarageCond[i] in ['Fa', 'Po']:\n",
    "        df.set_value(i,'GarageCond',1)\n",
    "    else:\n",
    "        df.set_value(i,'GarageCond',0)\n",
    "        \n",
    "# test\n",
    "for i in test.index:\n",
    "    if test.GarageCond[i] in ['Gd', 'Ex']:\n",
    "        test.set_value(i,'GarageCond',3)\n",
    "    elif test.GarageCond[i] == 'TA':\n",
    "        test.set_value(i,'GarageCond',2)\n",
    "    elif test.GarageCond[i] in ['Fa', 'Po']:\n",
    "        test.set_value(i,'GarageCond',1)\n",
    "    else:\n",
    "        test.set_value(i,'GarageCond',0)"
   ]
  },
  {
   "cell_type": "code",
   "execution_count": 267,
   "metadata": {
    "collapsed": true
   },
   "outputs": [],
   "source": [
    "hot.append('GarageCond')"
   ]
  },
  {
   "cell_type": "markdown",
   "metadata": {},
   "source": [
    "# PavedDrive\n",
    "1 - Yes, 0 - No"
   ]
  },
  {
   "cell_type": "code",
   "execution_count": 268,
   "metadata": {
    "collapsed": false
   },
   "outputs": [
    {
     "data": {
      "text/plain": [
       "Y    1275\n",
       "N      90\n",
       "P      30\n",
       "Name: PavedDrive, dtype: int64"
      ]
     },
     "execution_count": 268,
     "metadata": {},
     "output_type": "execute_result"
    }
   ],
   "source": [
    "df.PavedDrive.value_counts()"
   ]
  },
  {
   "cell_type": "code",
   "execution_count": 269,
   "metadata": {
    "collapsed": false
   },
   "outputs": [
    {
     "data": {
      "text/plain": [
       "Y    1301\n",
       "N     126\n",
       "P      32\n",
       "Name: PavedDrive, dtype: int64"
      ]
     },
     "execution_count": 269,
     "metadata": {},
     "output_type": "execute_result"
    }
   ],
   "source": [
    "test.PavedDrive.value_counts()"
   ]
  },
  {
   "cell_type": "code",
   "execution_count": 270,
   "metadata": {
    "collapsed": true
   },
   "outputs": [],
   "source": [
    "# train\n",
    "for i in df.index:\n",
    "    if df.PavedDrive[i] == 'Y':\n",
    "        df.set_value(i,'PavedDrive',1)\n",
    "    else:\n",
    "        df.set_value(i,'PavedDrive',0)\n",
    "        \n",
    "# test\n",
    "for i in test.index:\n",
    "    if test.PavedDrive[i] == 'Y':\n",
    "        test.set_value(i,'PavedDrive',1)\n",
    "    else:\n",
    "        test.set_value(i,'PavedDrive',0)"
   ]
  },
  {
   "cell_type": "markdown",
   "metadata": {},
   "source": [
    "# OpenPorchSF, EnclosedPorch, 3SsnPorch, ScreenPorch, WoodDeckSF\n",
    "\n",
    "Join those together as follows:\n",
    "- For each row, calculate the total sum of the above and put it in a new column, PorchSF\n",
    "- For each row, calculate the maxium value out of the columns selected, except for WoodDeckSF (correclation is much better without it), and put in under a new column, PorchType\n",
    "\n",
    "Binarise OpenPorchSF, EnclosedPorch"
   ]
  },
  {
   "cell_type": "code",
   "execution_count": 271,
   "metadata": {
    "collapsed": true
   },
   "outputs": [],
   "source": [
    "# WoodDeckSF\n",
    "# train\n",
    "wood_tr = {'id':[]}\n",
    "for i in df.index:\n",
    "    if df.WoodDeckSF[i] > 0:\n",
    "        wood_tr['id'].append(i)\n",
    "        \n",
    "wood_tr['class'] = 5\n",
    "wood_tr['name'] = 'WoodDeckSF'\n",
    "\n",
    "# test\n",
    "wood_ts = {'id':[]}\n",
    "for i in df.index:\n",
    "    if df.WoodDeckSF[i] > 0:\n",
    "        wood_ts['id'].append(i)\n",
    "        \n",
    "wood_ts['class'] = 5\n",
    "wood_ts['name'] = 'WoodDeckSF'"
   ]
  },
  {
   "cell_type": "code",
   "execution_count": 272,
   "metadata": {
    "collapsed": false,
    "scrolled": true
   },
   "outputs": [],
   "source": [
    "# OpenPorchSF\n",
    "# train\n",
    "open_tr = {'id':[]}\n",
    "for i in df.index:\n",
    "    if df.OpenPorchSF[i] > 0:\n",
    "        open_tr['id'].append(i)\n",
    "\n",
    "open_tr['class'] = 0\n",
    "open_tr['name'] = 'OpenPorchSF'\n",
    "\n",
    "# test\n",
    "open_ts = {'id':[]}\n",
    "for i in test.index:\n",
    "    if test.OpenPorchSF[i] > 0:\n",
    "        open_ts['id'].append(i)\n",
    "\n",
    "open_ts['class'] = 0\n",
    "open_ts['name'] = 'OpenPorchSF'"
   ]
  },
  {
   "cell_type": "code",
   "execution_count": 273,
   "metadata": {
    "collapsed": false
   },
   "outputs": [],
   "source": [
    "# EnclosedPorch\n",
    "# train\n",
    "encl_tr = {'id':[]}\n",
    "for i in df.index:\n",
    "    if df.EnclosedPorch[i] > 0:\n",
    "        encl_tr['id'].append(i)\n",
    "        \n",
    "encl_tr['class'] = 1\n",
    "encl_tr['name'] = 'EnclosedPorch'\n",
    "        \n",
    "# test\n",
    "encl_ts = {'id':[]}\n",
    "for i in test.index:\n",
    "    if test.EnclosedPorch[i] > 0:\n",
    "        encl_ts['id'].append(i)\n",
    "        \n",
    "encl_ts['class'] = 1\n",
    "encl_ts['name'] = 'EnclosedPorch'"
   ]
  },
  {
   "cell_type": "code",
   "execution_count": 274,
   "metadata": {
    "collapsed": false
   },
   "outputs": [],
   "source": [
    "# 3SsnPorch\n",
    "# train\n",
    "sn3_tr = {'id':[]}\n",
    "for i in df.index:\n",
    "    if df['3SsnPorch'][i] > 0:\n",
    "        sn3_tr['id'].append(i)\n",
    "        \n",
    "sn3_tr['class'] = 2\n",
    "sn3_tr['name'] = '3SsnPorch'\n",
    "        \n",
    "# test\n",
    "sn3_ts = {'id':[]}\n",
    "for i in test.index:\n",
    "    if test['3SsnPorch'][i] > 0:\n",
    "        sn3_ts['id'].append(i)\n",
    "        \n",
    "sn3_ts['class'] = 2\n",
    "sn3_ts['name'] = '3SsnPorch'"
   ]
  },
  {
   "cell_type": "code",
   "execution_count": 275,
   "metadata": {
    "collapsed": false
   },
   "outputs": [],
   "source": [
    "# ScreenPorch\n",
    "# train\n",
    "scp_tr = {'id':[]}\n",
    "for i in df.index:\n",
    "    if df['ScreenPorch'][i] > 0:\n",
    "        scp_tr['id'].append(i)\n",
    "        \n",
    "scp_tr['class'] = 3\n",
    "scp_tr['name'] = 'ScreenPorch'\n",
    "        \n",
    "# test\n",
    "scp_ts = {'id':[]}\n",
    "for i in test.index:\n",
    "    if test['ScreenPorch'][i] > 0:\n",
    "        scp_ts['id'].append(i)\n",
    "\n",
    "scp_ts['class'] = 3\n",
    "scp_ts['name'] = 'ScreenPorch'"
   ]
  },
  {
   "cell_type": "code",
   "execution_count": 276,
   "metadata": {
    "collapsed": false
   },
   "outputs": [],
   "source": [
    "df['PorchSF'] = 0\n",
    "df['PorchType'] = 4"
   ]
  },
  {
   "cell_type": "code",
   "execution_count": 277,
   "metadata": {
    "collapsed": false
   },
   "outputs": [],
   "source": [
    "k = [open_tr,encl_tr,sn3_tr,scp_tr,wood_tr]\n",
    "for i in df.index:\n",
    "    f = [0] * 5\n",
    "    v_max = 0\n",
    "    name = ''\n",
    "    s = 0\n",
    "    if i in open_tr['id']:\n",
    "        f[0] = 1\n",
    "    if i in encl_tr['id']:\n",
    "        f[1] = 1\n",
    "    if i in sn3_tr['id']:\n",
    "        f[2] = 1\n",
    "    if i in scp_tr['id']:\n",
    "        f[3] = 1\n",
    "    if i in wood_tr['id']:\n",
    "        f[4] = 1\n",
    "    if sum(f) > 1:\n",
    "        for j in range(0,4):\n",
    "            if f[j] != 0 and df[k[j]['name']][i] > v_max:\n",
    "                v_max = df[k[j]['name']][i]\n",
    "                name = k[j]['class']\n",
    "        for j in range(0,5):      \n",
    "            s += df[k[j]['name']][i]\n",
    "        df.set_value(i,'PorchSF',s)\n",
    "        df.set_value(i,'PorchType',name)\n",
    "    else:\n",
    "        for w,z in enumerate(f):\n",
    "            if f[w] == 1:\n",
    "                df.set_value(i,'PorchSF',df[k[w]['name']][i])\n",
    "                df.set_value(i,'PorchType',k[w]['class'])"
   ]
  },
  {
   "cell_type": "code",
   "execution_count": 278,
   "metadata": {
    "collapsed": true
   },
   "outputs": [],
   "source": [
    "test['PorchSF'] = 0\n",
    "test['PorchType'] = 4"
   ]
  },
  {
   "cell_type": "code",
   "execution_count": 279,
   "metadata": {
    "collapsed": false
   },
   "outputs": [],
   "source": [
    "k = [open_ts,encl_ts,sn3_ts,scp_ts,wood_ts]\n",
    "for i in test.index:\n",
    "    f = [0] * 5\n",
    "    v_max = 0\n",
    "    name = ''\n",
    "    s = 0\n",
    "    if i in open_ts['id']:\n",
    "        f[0] = 1\n",
    "    if i in encl_ts['id']:\n",
    "        f[1] = 1\n",
    "    if i in sn3_ts['id']:\n",
    "        f[2] = 1\n",
    "    if i in scp_ts['id']:\n",
    "        f[3] = 1\n",
    "    if i in wood_ts['id']:\n",
    "        f[4] = 1\n",
    "    if sum(f) > 1:\n",
    "        for j in range(0,4):\n",
    "            if f[j] != 0 and test[k[j]['name']][i] > v_max:\n",
    "                v_max = test[k[j]['name']][i]\n",
    "                name = k[j]['class']\n",
    "        for j in range(0,5):      \n",
    "            s += test[k[j]['name']][i]\n",
    "        test.set_value(i,'PorchSF',s)\n",
    "        test.set_value(i,'PorchType',name)\n",
    "    else:\n",
    "        for w,z in enumerate(f):\n",
    "            if f[w] == 1:\n",
    "                test.set_value(i,'PorchSF',test[k[w]['name']][i])\n",
    "                test.set_value(i,'PorchType',k[w]['class'])"
   ]
  },
  {
   "cell_type": "code",
   "execution_count": 280,
   "metadata": {
    "collapsed": false
   },
   "outputs": [
    {
     "data": {
      "text/plain": [
       "0.3736702490745869"
      ]
     },
     "execution_count": 280,
     "metadata": {},
     "output_type": "execute_result"
    }
   ],
   "source": [
    "df.corr()['PorchSF']['SalePrice']"
   ]
  },
  {
   "cell_type": "code",
   "execution_count": 281,
   "metadata": {
    "collapsed": false
   },
   "outputs": [
    {
     "data": {
      "text/plain": [
       "-0.3189582689408299"
      ]
     },
     "execution_count": 281,
     "metadata": {},
     "output_type": "execute_result"
    }
   ],
   "source": [
    "df.corr()['PorchType']['SalePrice']"
   ]
  },
  {
   "cell_type": "code",
   "execution_count": 282,
   "metadata": {
    "collapsed": true
   },
   "outputs": [],
   "source": [
    "df.OpenPorchSF = df.OpenPorchSF.apply(lambda x: 0 if x == 0 else 1)\n",
    "df.EnclosedPorch = df.EnclosedPorch.apply(lambda x: 0 if x == 0 else 1)\n",
    "test.OpenPorchSF = df.OpenPorchSF.apply(lambda x: 0 if x == 0 else 1)\n",
    "test.EnclosedPorch = df.EnclosedPorch.apply(lambda x: 0 if x == 0 else 1)"
   ]
  },
  {
   "cell_type": "code",
   "execution_count": 283,
   "metadata": {
    "collapsed": false
   },
   "outputs": [],
   "source": [
    "# some empty ones I missed\n",
    "ind = test.OpenPorchSF[test.OpenPorchSF.isnull()].index.tolist()\n",
    "for i in ind:\n",
    "    test.set_value(i,'OpenPorchSF',0)"
   ]
  },
  {
   "cell_type": "code",
   "execution_count": 284,
   "metadata": {
    "collapsed": false
   },
   "outputs": [],
   "source": [
    "ind = test.EnclosedPorch[test.EnclosedPorch.isnull()].index.tolist()\n",
    "for i in ind:\n",
    "    test.set_value(i,'EnclosedPorch',0)"
   ]
  },
  {
   "cell_type": "code",
   "execution_count": 285,
   "metadata": {
    "collapsed": true
   },
   "outputs": [],
   "source": [
    "hot.append('PorchType')"
   ]
  },
  {
   "cell_type": "markdown",
   "metadata": {},
   "source": [
    "# PoolArea, PoolQC\n",
    "\n",
    "Dropping those two."
   ]
  },
  {
   "cell_type": "code",
   "execution_count": 286,
   "metadata": {
    "collapsed": false,
    "scrolled": true
   },
   "outputs": [
    {
     "data": {
      "text/plain": [
       "0      1390\n",
       "738       1\n",
       "648       1\n",
       "576       1\n",
       "519       1\n",
       "512       1\n",
       "Name: PoolArea, dtype: int64"
      ]
     },
     "execution_count": 286,
     "metadata": {},
     "output_type": "execute_result"
    }
   ],
   "source": [
    "df.PoolArea.value_counts()"
   ]
  },
  {
   "cell_type": "code",
   "execution_count": 287,
   "metadata": {
    "collapsed": false
   },
   "outputs": [
    {
     "data": {
      "text/plain": [
       "Fa    2\n",
       "Gd    2\n",
       "Ex    1\n",
       "Name: PoolQC, dtype: int64"
      ]
     },
     "execution_count": 287,
     "metadata": {},
     "output_type": "execute_result"
    }
   ],
   "source": [
    "df.PoolQC.value_counts()"
   ]
  },
  {
   "cell_type": "code",
   "execution_count": 288,
   "metadata": {
    "collapsed": false
   },
   "outputs": [],
   "source": [
    "df.drop(['PoolArea','PoolQC'],axis=1,inplace=True)\n",
    "test.drop(['PoolArea','PoolQC'],axis=1,inplace=True)"
   ]
  },
  {
   "cell_type": "markdown",
   "metadata": {},
   "source": [
    "# Fence\n",
    "1 - has fence, 0 - no fence"
   ]
  },
  {
   "cell_type": "code",
   "execution_count": 289,
   "metadata": {
    "collapsed": false
   },
   "outputs": [
    {
     "data": {
      "text/plain": [
       "MnPrv    155\n",
       "GdPrv     58\n",
       "GdWo      53\n",
       "MnWw      11\n",
       "Name: Fence, dtype: int64"
      ]
     },
     "execution_count": 289,
     "metadata": {},
     "output_type": "execute_result"
    }
   ],
   "source": [
    "df.Fence.value_counts()"
   ]
  },
  {
   "cell_type": "code",
   "execution_count": 290,
   "metadata": {
    "collapsed": false
   },
   "outputs": [
    {
     "data": {
      "text/plain": [
       "MnPrv    172\n",
       "GdPrv     59\n",
       "GdWo      58\n",
       "MnWw       1\n",
       "Name: Fence, dtype: int64"
      ]
     },
     "execution_count": 290,
     "metadata": {},
     "output_type": "execute_result"
    }
   ],
   "source": [
    "test.Fence.value_counts()"
   ]
  },
  {
   "cell_type": "code",
   "execution_count": 291,
   "metadata": {
    "collapsed": false
   },
   "outputs": [],
   "source": [
    "df.Fence = df.Fence.apply(lambda x: 1 if x in ['GdPrv','MnPrv','GdWo','MnWw'] else 0)\n",
    "test.Fence = test.Fence.apply(lambda x: 1 if x in ['GdPrv','MnPrv','GdWo','MnWw'] else 0)"
   ]
  },
  {
   "cell_type": "code",
   "execution_count": 292,
   "metadata": {
    "collapsed": false
   },
   "outputs": [
    {
     "data": {
      "text/plain": [
       "0    1169\n",
       "1     290\n",
       "Name: Fence, dtype: int64"
      ]
     },
     "execution_count": 292,
     "metadata": {},
     "output_type": "execute_result"
    }
   ],
   "source": [
    "test.Fence.value_counts()"
   ]
  },
  {
   "cell_type": "markdown",
   "metadata": {},
   "source": [
    "# MiscFeature\n",
    "\n",
    "Dropping it."
   ]
  },
  {
   "cell_type": "code",
   "execution_count": 293,
   "metadata": {
    "collapsed": false
   },
   "outputs": [
    {
     "data": {
      "text/plain": [
       "Shed    47\n",
       "Gar2     2\n",
       "Othr     2\n",
       "TenC     1\n",
       "Name: MiscFeature, dtype: int64"
      ]
     },
     "execution_count": 293,
     "metadata": {},
     "output_type": "execute_result"
    }
   ],
   "source": [
    "df.MiscFeature.value_counts()"
   ]
  },
  {
   "cell_type": "code",
   "execution_count": 294,
   "metadata": {
    "collapsed": false
   },
   "outputs": [
    {
     "data": {
      "text/plain": [
       "Shed    46\n",
       "Gar2     3\n",
       "Othr     2\n",
       "Name: MiscFeature, dtype: int64"
      ]
     },
     "execution_count": 294,
     "metadata": {},
     "output_type": "execute_result"
    }
   ],
   "source": [
    "test.MiscFeature.value_counts()"
   ]
  },
  {
   "cell_type": "code",
   "execution_count": 295,
   "metadata": {
    "collapsed": true
   },
   "outputs": [],
   "source": [
    "df.drop('MiscFeature',axis=1,inplace=True)\n",
    "test.drop('MiscFeature',axis=1,inplace=True)"
   ]
  },
  {
   "cell_type": "markdown",
   "metadata": {},
   "source": [
    "# MiscVal\n",
    "Dropping it."
   ]
  },
  {
   "cell_type": "code",
   "execution_count": 296,
   "metadata": {
    "collapsed": false,
    "scrolled": true
   },
   "outputs": [
    {
     "data": {
      "text/plain": [
       "<matplotlib.axes._subplots.AxesSubplot at 0x267f42ba940>"
      ]
     },
     "execution_count": 296,
     "metadata": {},
     "output_type": "execute_result"
    },
    {
     "data": {
      "image/png": "[encoded data removed]",
      "text/plain": [
       "<matplotlib.figure.Figure at 0x267f42a69b0>"
      ]
     },
     "metadata": {},
     "output_type": "display_data"
    }
   ],
   "source": [
    "df.MiscVal.hist()"
   ]
  },
  {
   "cell_type": "code",
   "execution_count": 297,
   "metadata": {
    "collapsed": true
   },
   "outputs": [],
   "source": [
    "df.drop('MiscVal',axis=1,inplace=True)\n",
    "test.drop('MiscVal',axis=1,inplace=True)"
   ]
  },
  {
   "cell_type": "markdown",
   "metadata": {},
   "source": [
    "# MoSold\n",
    "\n",
    "Leave as is, apply OneHot."
   ]
  },
  {
   "cell_type": "code",
   "execution_count": 298,
   "metadata": {
    "collapsed": false
   },
   "outputs": [
    {
     "data": {
      "text/plain": [
       "6     242\n",
       "7     221\n",
       "5     199\n",
       "4     137\n",
       "8     119\n",
       "3      99\n",
       "10     81\n",
       "11     74\n",
       "9      60\n",
       "12     58\n",
       "1      53\n",
       "2      52\n",
       "Name: MoSold, dtype: int64"
      ]
     },
     "execution_count": 298,
     "metadata": {},
     "output_type": "execute_result"
    }
   ],
   "source": [
    "df.MoSold.value_counts()"
   ]
  },
  {
   "cell_type": "code",
   "execution_count": 299,
   "metadata": {
    "collapsed": false
   },
   "outputs": [
    {
     "data": {
      "text/plain": [
       "<matplotlib.axes._subplots.AxesSubplot at 0x267f434f0f0>"
      ]
     },
     "execution_count": 299,
     "metadata": {},
     "output_type": "execute_result"
    },
    {
     "data": {
      "image/png": "[encoded data removed]",
      "text/plain": [
       "<matplotlib.figure.Figure at 0x267f4203ac8>"
      ]
     },
     "metadata": {},
     "output_type": "display_data"
    }
   ],
   "source": [
    "df.MoSold.hist()"
   ]
  },
  {
   "cell_type": "code",
   "execution_count": 300,
   "metadata": {
    "collapsed": true
   },
   "outputs": [],
   "source": [
    "hot.append('MoSold')"
   ]
  },
  {
   "cell_type": "markdown",
   "metadata": {},
   "source": [
    "# YrSold\n",
    "\n",
    "Encode."
   ]
  },
  {
   "cell_type": "code",
   "execution_count": 301,
   "metadata": {
    "collapsed": false
   },
   "outputs": [
    {
     "data": {
      "text/plain": [
       "2009    323\n",
       "2007    310\n",
       "2006    301\n",
       "2008    292\n",
       "2010    169\n",
       "Name: YrSold, dtype: int64"
      ]
     },
     "execution_count": 301,
     "metadata": {},
     "output_type": "execute_result"
    }
   ],
   "source": [
    "df.YrSold.value_counts()"
   ]
  },
  {
   "cell_type": "code",
   "execution_count": 302,
   "metadata": {
    "collapsed": false
   },
   "outputs": [
    {
     "data": {
      "text/plain": [
       "2007    363\n",
       "2008    318\n",
       "2009    309\n",
       "2006    305\n",
       "2010    164\n",
       "Name: YrSold, dtype: int64"
      ]
     },
     "execution_count": 302,
     "metadata": {},
     "output_type": "execute_result"
    }
   ],
   "source": [
    "test.YrSold.value_counts()"
   ]
  },
  {
   "cell_type": "code",
   "execution_count": 303,
   "metadata": {
    "collapsed": false
   },
   "outputs": [],
   "source": [
    "encoder = LabelEncoder()"
   ]
  },
  {
   "cell_type": "code",
   "execution_count": 304,
   "metadata": {
    "collapsed": true
   },
   "outputs": [],
   "source": [
    "df.YrSold = encoder.fit_transform(df.YrSold)"
   ]
  },
  {
   "cell_type": "code",
   "execution_count": 305,
   "metadata": {
    "collapsed": false
   },
   "outputs": [],
   "source": [
    "test.YrSold = encoder.transform(test.YrSold)"
   ]
  },
  {
   "cell_type": "markdown",
   "metadata": {},
   "source": [
    "# SaleType\n",
    "\n",
    "Categorising:\n",
    "- 0 - WD, CWD, VWD\n",
    "- 1 - New\n",
    "- 2 - COD\n",
    "- 3 - Con, ConLw, ConLI, ConLD, Oth"
   ]
  },
  {
   "cell_type": "code",
   "execution_count": 306,
   "metadata": {
    "collapsed": false
   },
   "outputs": [
    {
     "data": {
      "text/plain": [
       "WD       1235\n",
       "New        91\n",
       "COD        42\n",
       "ConLD       9\n",
       "ConLw       5\n",
       "CWD         4\n",
       "ConLI       4\n",
       "Oth         3\n",
       "Con         2\n",
       "Name: SaleType, dtype: int64"
      ]
     },
     "execution_count": 306,
     "metadata": {},
     "output_type": "execute_result"
    }
   ],
   "source": [
    "df.SaleType.value_counts()"
   ]
  },
  {
   "cell_type": "code",
   "execution_count": 307,
   "metadata": {
    "collapsed": true
   },
   "outputs": [],
   "source": [
    "for i in df.index:\n",
    "    if df.SaleType[i] in ['WD','CWD','VWD']:\n",
    "        df.set_value(i,'SaleType',0)\n",
    "    elif df.SaleType[i] in ['Con','ConLw','ConLI','ConLD','Oth']:\n",
    "        df.set_value(i,'SaleType',1)\n",
    "    elif df.SaleType[i] == 'New':\n",
    "        df.set_value(i,'SaleType',2)\n",
    "    elif df.SaleType[i] == 'COD':\n",
    "        df.set_value(i,'SaleType',3)"
   ]
  },
  {
   "cell_type": "code",
   "execution_count": 308,
   "metadata": {
    "collapsed": true
   },
   "outputs": [],
   "source": [
    "for i in test.index:\n",
    "    if test.SaleType[i] in ['WD','CWD','VWD']:\n",
    "        test.set_value(i,'SaleType',0)\n",
    "    elif test.SaleType[i] in ['Con','ConLw','ConLI','ConLD','Oth']:\n",
    "        test.set_value(i,'SaleType',1)\n",
    "    elif test.SaleType[i] == 'New':\n",
    "        test.set_value(i,'SaleType',2)\n",
    "    elif test.SaleType[i] == 'COD':\n",
    "        test.set_value(i,'SaleType',3)"
   ]
  },
  {
   "cell_type": "code",
   "execution_count": 309,
   "metadata": {
    "collapsed": false
   },
   "outputs": [
    {
     "name": "stdout",
     "output_type": "stream",
     "text": [
      "---\n"
     ]
    }
   ],
   "source": [
    "# missed one row\n",
    "test.set_value(test.SaleType[test.SaleType.isnull()].index[0],'SaleType',0)\n",
    "print('---')"
   ]
  },
  {
   "cell_type": "code",
   "execution_count": 310,
   "metadata": {
    "collapsed": false
   },
   "outputs": [],
   "source": [
    "hot.append('SaleType')"
   ]
  },
  {
   "cell_type": "markdown",
   "metadata": {},
   "source": [
    "# SaleCondition\n",
    "\n",
    "Encode"
   ]
  },
  {
   "cell_type": "code",
   "execution_count": 311,
   "metadata": {
    "collapsed": false
   },
   "outputs": [
    {
     "data": {
      "text/plain": [
       "Normal     1168\n",
       "Abnorml      99\n",
       "Partial      94\n",
       "Family       20\n",
       "Alloca       10\n",
       "AdjLand       4\n",
       "Name: SaleCondition, dtype: int64"
      ]
     },
     "execution_count": 311,
     "metadata": {},
     "output_type": "execute_result"
    }
   ],
   "source": [
    "df.SaleCondition.value_counts()"
   ]
  },
  {
   "cell_type": "code",
   "execution_count": 312,
   "metadata": {
    "collapsed": false
   },
   "outputs": [
    {
     "data": {
      "text/plain": [
       "Normal     1204\n",
       "Partial     120\n",
       "Abnorml      89\n",
       "Family       26\n",
       "Alloca       12\n",
       "AdjLand       8\n",
       "Name: SaleCondition, dtype: int64"
      ]
     },
     "execution_count": 312,
     "metadata": {},
     "output_type": "execute_result"
    }
   ],
   "source": [
    "test.SaleCondition.value_counts()"
   ]
  },
  {
   "cell_type": "code",
   "execution_count": 313,
   "metadata": {
    "collapsed": true
   },
   "outputs": [],
   "source": [
    "encoder = LabelEncoder()"
   ]
  },
  {
   "cell_type": "code",
   "execution_count": 314,
   "metadata": {
    "collapsed": true
   },
   "outputs": [],
   "source": [
    "df.SaleCondition = encoder.fit_transform(df.SaleCondition)"
   ]
  },
  {
   "cell_type": "code",
   "execution_count": 315,
   "metadata": {
    "collapsed": true
   },
   "outputs": [],
   "source": [
    "test.SaleCondition = encoder.transform(test.SaleCondition)"
   ]
  },
  {
   "cell_type": "markdown",
   "metadata": {},
   "source": [
    "# All to numerical"
   ]
  },
  {
   "cell_type": "code",
   "execution_count": 316,
   "metadata": {
    "collapsed": false
   },
   "outputs": [],
   "source": [
    "df = df.apply(pd.to_numeric)\n",
    "test = test.apply(pd.to_numeric)"
   ]
  },
  {
   "cell_type": "markdown",
   "metadata": {},
   "source": [
    "# LotFrontage\n",
    "\n",
    "Use Linear Regression to predict values"
   ]
  },
  {
   "cell_type": "code",
   "execution_count": 317,
   "metadata": {
    "collapsed": false
   },
   "outputs": [
    {
     "name": "stdout",
     "output_type": "stream",
     "text": [
      "Mean squared error:  20.1615767304\n"
     ]
    }
   ],
   "source": [
    "# use values mostly correlated with LotFrontage for X\n",
    "X = df[~df.LotFrontage.isnull()][['LotArea','BldgType','1stFlrSF','GrLivArea','TotRmsAbvGrd']].values\n",
    "y = df[~df.LotFrontage.isnull()]['LotFrontage'].values\n",
    "\n",
    "from sklearn.model_selection import train_test_split\n",
    "X_train, X_test, y_train, y_test = train_test_split(X, y, test_size=0.25, random_state=42)\n",
    "\n",
    "from sklearn.linear_model import LinearRegression\n",
    "regr = LinearRegression()\n",
    "regr.fit(X_train,y_train)\n",
    "prd = regr.predict(X_test)\n",
    "print('Mean squared error: ',mean_squared_error(y_test,prd)**0.5)\n",
    "\n",
    "to_pred = df[df.LotFrontage.isnull()][['LotArea','BldgType','1stFlrSF','GrLivArea','TotRmsAbvGrd']].values\n",
    "predictions = regr.predict(to_pred)\n",
    "idx = df[df.LotFrontage.isnull()].index.tolist()\n",
    "\n",
    "x = 0\n",
    "for i in idx:\n",
    "    df.set_value(i,'LotFrontage',round(predictions[x]))\n",
    "    x += 1"
   ]
  },
  {
   "cell_type": "code",
   "execution_count": 318,
   "metadata": {
    "collapsed": false
   },
   "outputs": [
    {
     "name": "stdout",
     "output_type": "stream",
     "text": [
      "Mean squared error:  14.381201339\n"
     ]
    }
   ],
   "source": [
    "# same for test\n",
    "X = test[~test.LotFrontage.isnull()][['LotArea','BldgType','1stFlrSF','GrLivArea','TotRmsAbvGrd']].values\n",
    "y = test[~test.LotFrontage.isnull()]['LotFrontage'].values\n",
    "\n",
    "from sklearn.model_selection import train_test_split\n",
    "X_train, X_test, y_train, y_test = train_test_split(X, y, test_size=0.25, random_state=42)\n",
    "\n",
    "from sklearn.linear_model import LinearRegression\n",
    "regr = LinearRegression()\n",
    "regr.fit(X_train,y_train)\n",
    "prd = regr.predict(X_test)\n",
    "print('Mean squared error: ',mean_squared_error(y_test,prd)**0.5)\n",
    "\n",
    "to_pred = test[test.LotFrontage.isnull()][['LotArea','BldgType','1stFlrSF','GrLivArea','TotRmsAbvGrd']].values\n",
    "predictions = regr.predict(to_pred)\n",
    "idx = test[test.LotFrontage.isnull()].index.tolist()\n",
    "\n",
    "x = 0\n",
    "for i in idx:\n",
    "    test.set_value(i,'LotFrontage',round(predictions[x]))\n",
    "    x += 1"
   ]
  },
  {
   "cell_type": "markdown",
   "metadata": {},
   "source": [
    "# Id\n",
    "Dropping it."
   ]
  },
  {
   "cell_type": "code",
   "execution_count": 319,
   "metadata": {
    "collapsed": false
   },
   "outputs": [],
   "source": [
    "df.drop('Id',axis=1,inplace=True)\n",
    "test.drop('Id',axis=1,inplace=True)"
   ]
  },
  {
   "cell_type": "code",
   "execution_count": 320,
   "metadata": {
    "collapsed": true
   },
   "outputs": [],
   "source": [
    "test_c = test.copy()\n",
    "df_c = df.copy()"
   ]
  },
  {
   "cell_type": "markdown",
   "metadata": {},
   "source": [
    "# Normalising data"
   ]
  },
  {
   "cell_type": "code",
   "execution_count": 321,
   "metadata": {
    "collapsed": true
   },
   "outputs": [],
   "source": [
    "from scipy.stats import skew"
   ]
  },
  {
   "cell_type": "code",
   "execution_count": 322,
   "metadata": {
    "collapsed": false
   },
   "outputs": [
    {
     "data": {
      "text/plain": [
       "['LotArea',\n",
       " 'YearBuilt',\n",
       " 'MasVnrArea',\n",
       " ['BsmtFinSF1', 'BsmtFinSF2'],\n",
       " 'BsmtUnfSF',\n",
       " '1stFlrSF',\n",
       " 'GrLivArea',\n",
       " 'GarageYrBlt']"
      ]
     },
     "execution_count": 322,
     "metadata": {},
     "output_type": "execute_result"
    }
   ],
   "source": [
    "skw"
   ]
  },
  {
   "cell_type": "markdown",
   "metadata": {},
   "source": [
    "# LotArea"
   ]
  },
  {
   "cell_type": "code",
   "execution_count": 323,
   "metadata": {
    "collapsed": false
   },
   "outputs": [
    {
     "name": "stdout",
     "output_type": "stream",
     "text": [
      "Train:  3.1696323249967993\n",
      "Test:  3.1120129397218648\n"
     ]
    }
   ],
   "source": [
    "print('Train: ',skew(df.LotArea))\n",
    "print('Test: ',skew(test.LotArea))"
   ]
  },
  {
   "cell_type": "code",
   "execution_count": 324,
   "metadata": {
    "collapsed": false
   },
   "outputs": [
    {
     "name": "stdout",
     "output_type": "stream",
     "text": [
      "New skew:  -0.8881699376425515\n"
     ]
    },
    {
     "data": {
      "image/png": "[encoded data removed]",
      "text/plain": [
       "<matplotlib.figure.Figure at 0x267f43d4240>"
      ]
     },
     "metadata": {},
     "output_type": "display_data"
    }
   ],
   "source": [
    "(np.log1p(df.LotArea)).hist()\n",
    "print('New skew: ',skew(np.log1p(df.LotArea)))"
   ]
  },
  {
   "cell_type": "code",
   "execution_count": 325,
   "metadata": {
    "collapsed": false
   },
   "outputs": [
    {
     "name": "stdout",
     "output_type": "stream",
     "text": [
      "New skew:  -0.9146563131349216\n"
     ]
    },
    {
     "data": {
      "image/png": "[encoded data removed]",
      "text/plain": [
       "<matplotlib.figure.Figure at 0x267f55fba20>"
      ]
     },
     "metadata": {},
     "output_type": "display_data"
    }
   ],
   "source": [
    "(np.log1p(test.LotArea)).hist()\n",
    "print('New skew: ',skew(np.log1p(test.LotArea)))"
   ]
  },
  {
   "cell_type": "code",
   "execution_count": 326,
   "metadata": {
    "collapsed": true
   },
   "outputs": [],
   "source": [
    "df.LotArea = np.log1p(df.LotArea)\n",
    "test.LotArea = np.log1p(test.LotArea)"
   ]
  },
  {
   "cell_type": "markdown",
   "metadata": {},
   "source": [
    "# YearBuilt\n",
    "Could not imporve. Try after feature scalling."
   ]
  },
  {
   "cell_type": "code",
   "execution_count": 327,
   "metadata": {
    "collapsed": false
   },
   "outputs": [
    {
     "name": "stdout",
     "output_type": "stream",
     "text": [
      "Train:  -0.5748629980669073\n",
      "Test:  -0.5870522646411185\n"
     ]
    }
   ],
   "source": [
    "print('Train: ',skew(df.YearBuilt))\n",
    "print('Test: ',skew(test.YearBuilt))"
   ]
  },
  {
   "cell_type": "code",
   "execution_count": 328,
   "metadata": {
    "collapsed": false
   },
   "outputs": [
    {
     "name": "stdout",
     "output_type": "stream",
     "text": [
      "New skew:  -0.5887742357149371\n"
     ]
    },
    {
     "data": {
      "image/png": "[encoded data removed]",
      "text/plain": [
       "<matplotlib.figure.Figure at 0x267f5689c50>"
      ]
     },
     "metadata": {},
     "output_type": "display_data"
    }
   ],
   "source": [
    "(np.sqrt(df.YearBuilt)).hist()\n",
    "print('New skew: ',skew(np.sqrt(df.YearBuilt)))"
   ]
  },
  {
   "cell_type": "markdown",
   "metadata": {},
   "source": [
    "# MasVnrArea"
   ]
  },
  {
   "cell_type": "code",
   "execution_count": 329,
   "metadata": {
    "collapsed": false
   },
   "outputs": [
    {
     "name": "stdout",
     "output_type": "stream",
     "text": [
      "Train:  2.384597144647883\n",
      "Test:  2.5469466160213945\n"
     ]
    }
   ],
   "source": [
    "print('Train: ',skew(df.MasVnrArea))\n",
    "print('Test: ',skew(test.MasVnrArea))"
   ]
  },
  {
   "cell_type": "code",
   "execution_count": 330,
   "metadata": {
    "collapsed": false
   },
   "outputs": [
    {
     "name": "stdout",
     "output_type": "stream",
     "text": [
      "New skew:  0.5655311599456638\n"
     ]
    },
    {
     "data": {
      "image/png": "[encoded data removed]",
      "text/plain": [
       "<matplotlib.figure.Figure at 0x267f5725ba8>"
      ]
     },
     "metadata": {},
     "output_type": "display_data"
    }
   ],
   "source": [
    "(np.log1p(df.MasVnrArea)).hist()\n",
    "print('New skew: ',skew(np.log1p(df.MasVnrArea)))"
   ]
  },
  {
   "cell_type": "code",
   "execution_count": 331,
   "metadata": {
    "collapsed": false
   },
   "outputs": [
    {
     "name": "stdout",
     "output_type": "stream",
     "text": [
      "New skew:  0.5714782662502237\n"
     ]
    },
    {
     "data": {
      "image/png": "[encoded data removed]",
      "text/plain": [
       "<matplotlib.figure.Figure at 0x267f43e5fd0>"
      ]
     },
     "metadata": {},
     "output_type": "display_data"
    }
   ],
   "source": [
    "(np.log1p(test.MasVnrArea)).hist()\n",
    "print('New skew: ',skew(np.log1p(test.MasVnrArea)))"
   ]
  },
  {
   "cell_type": "code",
   "execution_count": 332,
   "metadata": {
    "collapsed": true
   },
   "outputs": [],
   "source": [
    "df.MasVnrArea = np.log1p(df.MasVnrArea)\n",
    "test.MasVnrArea = np.log1p(test.MasVnrArea)"
   ]
  },
  {
   "cell_type": "markdown",
   "metadata": {},
   "source": [
    "# BsmtFinSF1\n",
    "Correlation would go down, not pursuing it."
   ]
  },
  {
   "cell_type": "code",
   "execution_count": 333,
   "metadata": {
    "collapsed": false
   },
   "outputs": [
    {
     "name": "stdout",
     "output_type": "stream",
     "text": [
      "Train:  0.6788797826916182\n",
      "Test:  1.16513022863211\n"
     ]
    }
   ],
   "source": [
    "print('Train: ',skew(df.BsmtFinSF1))\n",
    "print('Test: ',skew(test.BsmtFinSF1))"
   ]
  },
  {
   "cell_type": "code",
   "execution_count": 334,
   "metadata": {
    "collapsed": false
   },
   "outputs": [
    {
     "name": "stdout",
     "output_type": "stream",
     "text": [
      "New skew:  -0.10122850136655251\n"
     ]
    },
    {
     "data": {
      "image/png": "[encoded data removed]",
      "text/plain": [
       "<matplotlib.figure.Figure at 0x267f584c4a8>"
      ]
     },
     "metadata": {},
     "output_type": "display_data"
    }
   ],
   "source": [
    "(np.sqrt(df.BsmtFinSF1)).hist()\n",
    "print('New skew: ',skew(np.sqrt(df.BsmtFinSF1)))"
   ]
  },
  {
   "cell_type": "code",
   "execution_count": 335,
   "metadata": {
    "collapsed": false
   },
   "outputs": [
    {
     "name": "stdout",
     "output_type": "stream",
     "text": [
      "New skew:  0.007072900988264235\n"
     ]
    },
    {
     "data": {
      "image/png": "[encoded data removed]",
      "text/plain": [
       "<matplotlib.figure.Figure at 0x267f5749f98>"
      ]
     },
     "metadata": {},
     "output_type": "display_data"
    }
   ],
   "source": [
    "(np.sqrt(test.BsmtFinSF1)).hist()\n",
    "print('New skew: ',skew(np.sqrt(test.BsmtFinSF1)))"
   ]
  },
  {
   "cell_type": "markdown",
   "metadata": {},
   "source": [
    "# BsmtFinSF2"
   ]
  },
  {
   "cell_type": "code",
   "execution_count": 336,
   "metadata": {
    "collapsed": false
   },
   "outputs": [
    {
     "name": "stdout",
     "output_type": "stream",
     "text": [
      "Train:  4.254964632944027\n",
      "Test:  4.038796149891652\n"
     ]
    }
   ],
   "source": [
    "print('Train: ',skew(df.BsmtFinSF2))\n",
    "print('Test: ',skew(test.BsmtFinSF2))"
   ]
  },
  {
   "cell_type": "code",
   "execution_count": 337,
   "metadata": {
    "collapsed": false
   },
   "outputs": [
    {
     "name": "stdout",
     "output_type": "stream",
     "text": [
      "New skew:  2.5066105976740176\n"
     ]
    },
    {
     "data": {
      "image/png": "[encoded data removed]",
      "text/plain": [
       "<matplotlib.figure.Figure at 0x267f4363c50>"
      ]
     },
     "metadata": {},
     "output_type": "display_data"
    }
   ],
   "source": [
    "(np.log1p(df.BsmtFinSF2)).hist()\n",
    "print('New skew: ',skew(np.log1p(df.BsmtFinSF2)))"
   ]
  },
  {
   "cell_type": "code",
   "execution_count": 338,
   "metadata": {
    "collapsed": false
   },
   "outputs": [
    {
     "name": "stdout",
     "output_type": "stream",
     "text": [
      "New skew:  2.406091440236281\n"
     ]
    },
    {
     "data": {
      "image/png": "[encoded data removed]",
      "text/plain": [
       "<matplotlib.figure.Figure at 0x267f5737e10>"
      ]
     },
     "metadata": {},
     "output_type": "display_data"
    }
   ],
   "source": [
    "(np.log1p(test.BsmtFinSF2)).hist()\n",
    "print('New skew: ',skew(np.log1p(test.BsmtFinSF2)))"
   ]
  },
  {
   "cell_type": "code",
   "execution_count": 339,
   "metadata": {
    "collapsed": true
   },
   "outputs": [],
   "source": [
    "df.BsmtFinSF2 = np.log1p(df.BsmtFinSF2)\n",
    "test.BmstFinSF2 = np.log1p(test.BsmtFinSF2)"
   ]
  },
  {
   "cell_type": "markdown",
   "metadata": {},
   "source": [
    "# BsmtUnfSF"
   ]
  },
  {
   "cell_type": "code",
   "execution_count": 340,
   "metadata": {
    "collapsed": false
   },
   "outputs": [
    {
     "name": "stdout",
     "output_type": "stream",
     "text": [
      "Train:  0.8204806112660593\n",
      "Test:  0.91897718414123\n"
     ]
    }
   ],
   "source": [
    "print('Train: ',skew(df.BsmtUnfSF))\n",
    "print('Test: ',skew(test.BsmtUnfSF))"
   ]
  },
  {
   "cell_type": "code",
   "execution_count": 341,
   "metadata": {
    "collapsed": false
   },
   "outputs": [
    {
     "name": "stdout",
     "output_type": "stream",
     "text": [
      "New skew:  -0.297761924115109\n"
     ]
    },
    {
     "data": {
      "image/png": "[encoded data removed]",
      "text/plain": [
       "<matplotlib.figure.Figure at 0x267f5769da0>"
      ]
     },
     "metadata": {},
     "output_type": "display_data"
    }
   ],
   "source": [
    "(np.sqrt(df.BsmtUnfSF)).hist()\n",
    "print('New skew: ',skew(np.sqrt(df.BsmtUnfSF)))"
   ]
  },
  {
   "cell_type": "code",
   "execution_count": 342,
   "metadata": {
    "collapsed": false
   },
   "outputs": [
    {
     "name": "stdout",
     "output_type": "stream",
     "text": [
      "New skew:  -0.2300898971674989\n"
     ]
    },
    {
     "data": {
      "image/png": "[encoded data removed]",
      "text/plain": [
       "<matplotlib.figure.Figure at 0x267f577af98>"
      ]
     },
     "metadata": {},
     "output_type": "display_data"
    }
   ],
   "source": [
    "(np.sqrt(test.BsmtUnfSF)).hist()\n",
    "print('New skew: ',skew(np.sqrt(test.BsmtUnfSF)))"
   ]
  },
  {
   "cell_type": "code",
   "execution_count": 343,
   "metadata": {
    "collapsed": true
   },
   "outputs": [],
   "source": [
    "df.BsmtUnfSF = np.log1p(df.BsmtUnfSF)\n",
    "test.BsmtUnfSF = np.log1p(test.BsmtUnfSF)"
   ]
  },
  {
   "cell_type": "markdown",
   "metadata": {},
   "source": [
    "# 1stFlrSF"
   ]
  },
  {
   "cell_type": "code",
   "execution_count": 344,
   "metadata": {
    "collapsed": false
   },
   "outputs": [
    {
     "name": "stdout",
     "output_type": "stream",
     "text": [
      "Train:  0.6107011334539136\n",
      "Test:  1.5565921331805221\n"
     ]
    }
   ],
   "source": [
    "print('Train: ',skew(df['1stFlrSF']))\n",
    "print('Test: ',skew(test['1stFlrSF']))"
   ]
  },
  {
   "cell_type": "code",
   "execution_count": 345,
   "metadata": {
    "collapsed": false
   },
   "outputs": [
    {
     "name": "stdout",
     "output_type": "stream",
     "text": [
      "New skew:  0.2650001969474222\n"
     ]
    },
    {
     "data": {
      "image/png": "[encoded data removed]",
      "text/plain": [
       "<matplotlib.figure.Figure at 0x267f55b6c88>"
      ]
     },
     "metadata": {},
     "output_type": "display_data"
    }
   ],
   "source": [
    "(np.sqrt(df['1stFlrSF'])).hist()\n",
    "print('New skew: ',skew(np.sqrt(df['1stFlrSF'])))"
   ]
  },
  {
   "cell_type": "code",
   "execution_count": 346,
   "metadata": {
    "collapsed": false
   },
   "outputs": [
    {
     "name": "stdout",
     "output_type": "stream",
     "text": [
      "New skew:  0.6474388808541657\n"
     ]
    },
    {
     "data": {
      "image/png": "[encoded data removed]",
      "text/plain": [
       "<matplotlib.figure.Figure at 0x267f592f4e0>"
      ]
     },
     "metadata": {},
     "output_type": "display_data"
    }
   ],
   "source": [
    "(np.sqrt(test['1stFlrSF'])).hist()\n",
    "print('New skew: ',skew(np.sqrt(test['1stFlrSF'])))"
   ]
  },
  {
   "cell_type": "code",
   "execution_count": 347,
   "metadata": {
    "collapsed": true
   },
   "outputs": [],
   "source": [
    "df['1stFlrSF'] = np.sqrt(df['1stFlrSF'])\n",
    "test['1stFlrSF'] = np.sqrt(test['1stFlrSF'])"
   ]
  },
  {
   "cell_type": "markdown",
   "metadata": {},
   "source": [
    "# GrLivArea"
   ]
  },
  {
   "cell_type": "code",
   "execution_count": 348,
   "metadata": {
    "collapsed": false
   },
   "outputs": [
    {
     "name": "stdout",
     "output_type": "stream",
     "text": [
      "Train:  0.6929780670269671\n",
      "Test:  1.1292399136457285\n"
     ]
    }
   ],
   "source": [
    "print('Train: ',skew(df.GrLivArea))\n",
    "print('Test: ',skew(test.GrLivArea))"
   ]
  },
  {
   "cell_type": "code",
   "execution_count": 349,
   "metadata": {
    "collapsed": false
   },
   "outputs": [
    {
     "name": "stdout",
     "output_type": "stream",
     "text": [
      "New skew:  0.2572502737981118\n"
     ]
    },
    {
     "data": {
      "image/png": "[encoded data removed]",
      "text/plain": [
       "<matplotlib.figure.Figure at 0x267f59a4898>"
      ]
     },
     "metadata": {},
     "output_type": "display_data"
    }
   ],
   "source": [
    "(np.sqrt(df.GrLivArea)).hist()\n",
    "print('New skew: ',skew(np.sqrt(df.GrLivArea)))"
   ]
  },
  {
   "cell_type": "code",
   "execution_count": 350,
   "metadata": {
    "collapsed": false
   },
   "outputs": [
    {
     "name": "stdout",
     "output_type": "stream",
     "text": [
      "New skew:  0.53727442202444\n"
     ]
    },
    {
     "data": {
      "image/png": "[encoded data removed]",
      "text/plain": [
       "<matplotlib.figure.Figure at 0x267f5a4c908>"
      ]
     },
     "metadata": {},
     "output_type": "display_data"
    }
   ],
   "source": [
    "(np.sqrt(test.GrLivArea)).hist()\n",
    "print('New skew: ',skew(np.sqrt(test.GrLivArea)))"
   ]
  },
  {
   "cell_type": "code",
   "execution_count": 351,
   "metadata": {
    "collapsed": false
   },
   "outputs": [],
   "source": [
    "df.GrLivArea = np.sqrt(df.GrLivArea)\n",
    "test.GrLivArea = np.sqrt(test.GrLivArea)"
   ]
  },
  {
   "cell_type": "markdown",
   "metadata": {},
   "source": [
    "# GarageYrBlt\n",
    "Try after feature scalling."
   ]
  },
  {
   "cell_type": "code",
   "execution_count": 352,
   "metadata": {
    "collapsed": false
   },
   "outputs": [
    {
     "name": "stdout",
     "output_type": "stream",
     "text": [
      "Train:  -3.7623928907030537\n",
      "Test:  -3.9492256344097445\n"
     ]
    }
   ],
   "source": [
    "print('Train: ',skew(df.GarageYrBlt))\n",
    "print('Test: ',skew(test.GarageYrBlt))"
   ]
  },
  {
   "cell_type": "code",
   "execution_count": 353,
   "metadata": {
    "collapsed": false
   },
   "outputs": [
    {
     "name": "stdout",
     "output_type": "stream",
     "text": [
      "New skew:  -3.775109931295346\n"
     ]
    },
    {
     "data": {
      "image/png": "[encoded data removed]",
      "text/plain": [
       "<matplotlib.figure.Figure at 0x267f5ac7b38>"
      ]
     },
     "metadata": {},
     "output_type": "display_data"
    }
   ],
   "source": [
    "(np.sqrt(df.GarageYrBlt)).hist()\n",
    "print('New skew: ',skew(np.sqrt(df.GarageYrBlt)))"
   ]
  },
  {
   "cell_type": "markdown",
   "metadata": {},
   "source": [
    "# Checking for highly correlated columns\n",
    "Will leave those in for now and get back after the model was run to try with them adjusted."
   ]
  },
  {
   "cell_type": "code",
   "execution_count": 354,
   "metadata": {
    "collapsed": false
   },
   "outputs": [],
   "source": [
    "# looking for highly correlated columns\n",
    "high_corr = []\n",
    "for i in df.corr():\n",
    "    for j in df.corr():\n",
    "        if df.corr()[i][j] > 0.85 and i != j:\n",
    "            if (i,j) in high_corr or (j,i) in high_corr:\n",
    "                continue\n",
    "            else:\n",
    "                high_corr.append((i,j))"
   ]
  },
  {
   "cell_type": "code",
   "execution_count": 355,
   "metadata": {
    "collapsed": false
   },
   "outputs": [
    {
     "name": "stdout",
     "output_type": "stream",
     "text": [
      "MasVnrType - MasVnrArea = 0.874853072478\n",
      "BsmtFinType2 - BsmtFinSF2 = 0.905543595359\n",
      "Fireplaces - FireplaceQu = 0.860327922952\n",
      "GarageYrBlt - GarageQual = 0.910393851309\n",
      "GarageYrBlt - GarageCond = 0.926405046902\n",
      "GarageQual - GarageCond = 0.924481196603\n"
     ]
    }
   ],
   "source": [
    "for i,j in high_corr:\n",
    "    print(i,'-',j,'=',df.corr()[i][j])"
   ]
  },
  {
   "cell_type": "code",
   "execution_count": 683,
   "metadata": {
    "collapsed": false
   },
   "outputs": [],
   "source": [
    "add_f = df.corr()['SalePrice'].sort_values(ascending=False).head(11).keys().tolist()[1:]"
   ]
  },
  {
   "cell_type": "code",
   "execution_count": 685,
   "metadata": {
    "collapsed": false
   },
   "outputs": [],
   "source": [
    "for j,i in enumerate(add_f):\n",
    "    df[i+'_2'] = df[i] ** 2\n",
    "    df[i+'_3'] = df[i] ** 3\n",
    "    df[i+'_sqrt'] = df[i] ** 0.5"
   ]
  },
  {
   "cell_type": "code",
   "execution_count": 686,
   "metadata": {
    "collapsed": true
   },
   "outputs": [],
   "source": [
    "for j,i in enumerate(add_f):\n",
    "    test[i+'_2'] = test[i] ** 2\n",
    "    test[i+'_3'] = test[i] ** 3\n",
    "    test[i+'_sqrt'] = test[i] ** 0.5"
   ]
  },
  {
   "cell_type": "markdown",
   "metadata": {},
   "source": [
    "# OneHotEncoder\n",
    "Will try first without and then with this applied. Writting the code so it's here when needed."
   ]
  },
  {
   "cell_type": "code",
   "execution_count": 786,
   "metadata": {
    "collapsed": true
   },
   "outputs": [],
   "source": [
    "df_c = df.copy()\n",
    "df_c.drop('SalePrice',axis=1,inplace=True)"
   ]
  },
  {
   "cell_type": "code",
   "execution_count": 357,
   "metadata": {
    "collapsed": false
   },
   "outputs": [],
   "source": [
    "cols = []\n",
    "for i,j in enumerate(df_c.columns.tolist()):\n",
    "    cols.append((i,j))"
   ]
  },
  {
   "cell_type": "code",
   "execution_count": 358,
   "metadata": {
    "collapsed": false
   },
   "outputs": [],
   "source": [
    "for i,w in enumerate(hot):\n",
    "    for j,k in cols:\n",
    "        if w == k:\n",
    "            hot[i] = (j,w)           "
   ]
  },
  {
   "cell_type": "code",
   "execution_count": 359,
   "metadata": {
    "collapsed": false
   },
   "outputs": [],
   "source": [
    "# arranging them in order\n",
    "gh = hot[0]\n",
    "for i in range(1,5):\n",
    "    hot[i-1] = hot[i] \n",
    "hot[4] = gh"
   ]
  },
  {
   "cell_type": "code",
   "execution_count": 360,
   "metadata": {
    "collapsed": false
   },
   "outputs": [],
   "source": [
    "ar = hot[-3]\n",
    "for i in range(17,19):\n",
    "    hot[i-1] = hot[i]\n",
    "hot[-1] = ar"
   ]
  },
  {
   "cell_type": "code",
   "execution_count": 787,
   "metadata": {
    "collapsed": false
   },
   "outputs": [],
   "source": [
    "X = df_c.values"
   ]
  },
  {
   "cell_type": "code",
   "execution_count": 788,
   "metadata": {
    "collapsed": false
   },
   "outputs": [],
   "source": [
    "shpr = X.shape[1]"
   ]
  },
  {
   "cell_type": "code",
   "execution_count": 789,
   "metadata": {
    "collapsed": false
   },
   "outputs": [],
   "source": [
    "# training set\n",
    "for i,j in hot:\n",
    "    shp = X.shape[1] - shpr\n",
    "    hot_encoder = OneHotEncoder(categorical_features=[i+shp])\n",
    "    X = hot_encoder.fit_transform(X).toarray()\n",
    "    X = X[:,1:]"
   ]
  },
  {
   "cell_type": "code",
   "execution_count": 790,
   "metadata": {
    "collapsed": true
   },
   "outputs": [],
   "source": [
    "tst = test.copy()"
   ]
  },
  {
   "cell_type": "code",
   "execution_count": 791,
   "metadata": {
    "collapsed": true
   },
   "outputs": [],
   "source": [
    "tst = test.values"
   ]
  },
  {
   "cell_type": "code",
   "execution_count": 792,
   "metadata": {
    "collapsed": false
   },
   "outputs": [],
   "source": [
    "# test prediction set\n",
    "shpr = tst.shape[1]\n",
    "for i,j in hot:\n",
    "    shp = tst.shape[1] - shpr\n",
    "    hot_encoder = OneHotEncoder(categorical_features=[i+shp])\n",
    "    tst = hot_encoder.fit_transform(tst).toarray()\n",
    "    tst = tst[:,1:]"
   ]
  },
  {
   "cell_type": "markdown",
   "metadata": {},
   "source": [
    "# Feature scalling"
   ]
  },
  {
   "cell_type": "code",
   "execution_count": 793,
   "metadata": {
    "collapsed": true
   },
   "outputs": [],
   "source": [
    "y = df.SalePrice.values"
   ]
  },
  {
   "cell_type": "code",
   "execution_count": 794,
   "metadata": {
    "collapsed": true
   },
   "outputs": [],
   "source": [
    "# splitting the train and test sets\n",
    "from sklearn.model_selection import train_test_split\n",
    "X_train, X_test, y_train, y_test = train_test_split(X, y, test_size=0.25, random_state=0)"
   ]
  },
  {
   "cell_type": "code",
   "execution_count": 795,
   "metadata": {
    "collapsed": false
   },
   "outputs": [],
   "source": [
    "# feature scaling\n",
    "from sklearn.preprocessing import StandardScaler\n",
    "sc_X = StandardScaler()\n",
    "X_train = sc_X.fit_transform(X_train)\n",
    "X_test = sc_X.transform(X_test)\n",
    "tst = sc_X.transform(tst)"
   ]
  },
  {
   "cell_type": "code",
   "execution_count": 796,
   "metadata": {
    "collapsed": false,
    "scrolled": true
   },
   "outputs": [
    {
     "data": {
      "text/plain": [
       "array([ 0.14896227,  0.0488045 ,  0.04673099,  0.03301393,  0.02852652,\n",
       "        0.02533779,  0.02024466,  0.01968181,  0.01606881,  0.01416208,\n",
       "        0.01355815,  0.01320322,  0.01247028,  0.01229493,  0.01170785,\n",
       "        0.01128343,  0.01097608,  0.01094711,  0.01063981,  0.01023108,\n",
       "        0.01020232,  0.01005841,  0.00962569,  0.0093714 ,  0.00914548,\n",
       "        0.00900148,  0.00875581,  0.00870841,  0.00838053,  0.00823521,\n",
       "        0.00816475,  0.00807088,  0.00790852,  0.00768683,  0.00768149,\n",
       "        0.00757944,  0.00743743,  0.0073665 ,  0.00729482,  0.00718155,\n",
       "        0.00709162,  0.00697122,  0.00684717,  0.00679541,  0.00661481,\n",
       "        0.00656621,  0.00652526,  0.00638293,  0.00628623,  0.00623458,\n",
       "        0.00614528,  0.00606453,  0.00596344,  0.00594411,  0.00571776,\n",
       "        0.005678  ,  0.00558914,  0.00557233,  0.00546379,  0.00529836,\n",
       "        0.00523679,  0.00516899,  0.00515892,  0.00503698,  0.00498721,\n",
       "        0.00492536,  0.0048419 ,  0.00478467,  0.00466994,  0.00462651,\n",
       "        0.00458872,  0.00454435,  0.00449347,  0.00441294,  0.00435373,\n",
       "        0.00420558,  0.00417381,  0.00410401,  0.0039816 ,  0.00393323,\n",
       "        0.00380635,  0.00370957,  0.00365381,  0.00359804,  0.00353161,\n",
       "        0.00346619,  0.00336632,  0.00330871,  0.00324919,  0.00308992,\n",
       "        0.00301521,  0.00301285,  0.00293477,  0.00283664,  0.00277381,\n",
       "        0.00269761,  0.00253405,  0.00249034,  0.00239132,  0.00236947,\n",
       "        0.00227069,  0.00217972,  0.00213656,  0.00203289,  0.0019502 ,\n",
       "        0.00184086,  0.00180461,  0.00172472,  0.00164164,  0.0014685 ,\n",
       "        0.00142201,  0.00128731,  0.00117806,  0.00101425,  0.00094483,\n",
       "        0.00092201])"
      ]
     },
     "execution_count": 796,
     "metadata": {},
     "output_type": "execute_result"
    }
   ],
   "source": [
    "from sklearn.decomposition import PCA\n",
    "# leave it as None initially to explore the variance first, then change to the choosen number from explained_variance\n",
    "pca = PCA(n_components=116)\n",
    "\n",
    "# fitting and transforming the training set and transforming the test set\n",
    "X_train = pca.fit_transform(X_train)\n",
    "X_test = pca.transform(X_test)\n",
    "tst = pca.transform(tst)\n",
    "\n",
    "# cumulated explained vairance of the principal components\n",
    "explained_variance = pca.explained_variance_ratio_\n",
    "explained_variance"
   ]
  },
  {
   "cell_type": "code",
   "execution_count": 797,
   "metadata": {
    "collapsed": false
   },
   "outputs": [
    {
     "data": {
      "text/plain": [
       "0.9903377556180268"
      ]
     },
     "execution_count": 797,
     "metadata": {},
     "output_type": "execute_result"
    }
   ],
   "source": [
    "sum(explained_variance.tolist()[0:116])"
   ]
  },
  {
   "cell_type": "code",
   "execution_count": 798,
   "metadata": {
    "collapsed": false
   },
   "outputs": [
    {
     "data": {
      "text/plain": [
       "116"
      ]
     },
     "execution_count": 798,
     "metadata": {},
     "output_type": "execute_result"
    }
   ],
   "source": [
    "len(explained_variance)"
   ]
  },
  {
   "cell_type": "code",
   "execution_count": 799,
   "metadata": {
    "collapsed": false,
    "scrolled": true
   },
   "outputs": [
    {
     "name": "stdout",
     "output_type": "stream",
     "text": [
      "ElasticNet: 0.892361 (0.018535)\n",
      "Lasso: 0.892773 (0.021243)\n",
      "RF: 0.840843 (0.029299)\n"
     ]
    },
    {
     "data": {
      "text/plain": [
       "[<matplotlib.text.Text at 0x267f9afe780>,\n",
       " <matplotlib.text.Text at 0x267f9e72550>,\n",
       " <matplotlib.text.Text at 0x267f9edc080>]"
      ]
     },
     "execution_count": 799,
     "metadata": {},
     "output_type": "execute_result"
    },
    {
     "data": {
      "image/png": "[encoded data removed]",
      "text/plain": [
       "<matplotlib.figure.Figure at 0x267f9acbeb8>"
      ]
     },
     "metadata": {},
     "output_type": "display_data"
    }
   ],
   "source": [
    "# importing libraries\n",
    "\n",
    "from sklearn.linear_model import ElasticNet as EN\n",
    "from sklearn.linear_model import Lasso as LS\n",
    "from sklearn.ensemble import RandomForestRegressor as RF\n",
    "\n",
    "# cross validation\n",
    "\n",
    "algorithms = []\n",
    "\n",
    "algorithms.append(('ElasticNet', EN()))\n",
    "algorithms.append(('Lasso', LS()))\n",
    "algorithms.append(('RF', RF()))\n",
    "\n",
    "results = []\n",
    "names = []\n",
    "scoring = 'r2'\n",
    "\n",
    "for name, model in algorithms:\n",
    "    cv_results = cross_val_score(model, X_train, y_train, cv=10, scoring=scoring)\n",
    "    results.append(cv_results)\n",
    "    names.append(name)\n",
    "    msg = '%s: %f (%f)' %(name, cv_results.mean(), cv_results.std())\n",
    "    print(msg)\n",
    "    \n",
    "fig = plt.figure(figsize=(22,5))\n",
    "fig.suptitle('Algorithm Comparison')\n",
    "ax = fig.add_subplot(111)\n",
    "plt.boxplot(results)\n",
    "ax.set_xticklabels(names)"
   ]
  },
  {
   "cell_type": "code",
   "execution_count": 800,
   "metadata": {
    "collapsed": true
   },
   "outputs": [],
   "source": [
    "regressor = EN(alpha=1, max_iter=50000)"
   ]
  },
  {
   "cell_type": "code",
   "execution_count": 801,
   "metadata": {
    "collapsed": false
   },
   "outputs": [
    {
     "data": {
      "text/plain": [
       "ElasticNet(alpha=1, copy_X=True, fit_intercept=True, l1_ratio=0.5,\n",
       "      max_iter=50000, normalize=False, positive=False, precompute=False,\n",
       "      random_state=None, selection='cyclic', tol=0.0001, warm_start=False)"
      ]
     },
     "execution_count": 801,
     "metadata": {},
     "output_type": "execute_result"
    }
   ],
   "source": [
    "regressor.fit(X_train,y_train)"
   ]
  },
  {
   "cell_type": "code",
   "execution_count": 802,
   "metadata": {
    "collapsed": true
   },
   "outputs": [],
   "source": [
    "prediction = regressor.predict(X_test)"
   ]
  },
  {
   "cell_type": "code",
   "execution_count": 803,
   "metadata": {
    "collapsed": false
   },
   "outputs": [
    {
     "data": {
      "text/plain": [
       "19429.643333586642"
      ]
     },
     "execution_count": 803,
     "metadata": {},
     "output_type": "execute_result"
    }
   ],
   "source": [
    "mean_squared_error(y_test,prediction)**0.5"
   ]
  },
  {
   "cell_type": "code",
   "execution_count": 804,
   "metadata": {
    "collapsed": false
   },
   "outputs": [],
   "source": [
    "pred = regressor.predict(tst)"
   ]
  },
  {
   "cell_type": "code",
   "execution_count": 805,
   "metadata": {
    "collapsed": false
   },
   "outputs": [
    {
     "data": {
      "text/plain": [
       "array([ 117160.19898704,  164237.74630845,  181196.03835393, ...,\n",
       "        165505.46807686,  124008.83531911,  229613.64947826])"
      ]
     },
     "execution_count": 805,
     "metadata": {},
     "output_type": "execute_result"
    }
   ],
   "source": [
    "pred"
   ]
  },
  {
   "cell_type": "code",
   "execution_count": null,
   "metadata": {
    "collapsed": false
   },
   "outputs": [],
   "source": []
  },
  {
   "cell_type": "code",
   "execution_count": null,
   "metadata": {
    "collapsed": true
   },
   "outputs": [],
   "source": []
  },
  {
   "cell_type": "code",
   "execution_count": 807,
   "metadata": {
    "collapsed": false
   },
   "outputs": [],
   "source": [
    "# # exporting the final result\n",
    "import csv\n",
    "with open('output.csv','w') as resultFile:\n",
    "     wr = csv.writer(resultFile, dialect='excel')\n",
    "     wr.writerow(pred)"
   ]
  },
  {
   "cell_type": "code",
   "execution_count": null,
   "metadata": {
    "collapsed": true
   },
   "outputs": [],
   "source": []
  }
 ],
 "metadata": {
  "anaconda-cloud": {},
  "kernelspec": {
   "display_name": "Python [default]",
   "language": "python",
   "name": "python3"
  },
  "language_info": {
   "codemirror_mode": {
    "name": "ipython",
    "version": 3
   },
   "file_extension": ".py",
   "mimetype": "text/x-python",
   "name": "python",
   "nbconvert_exporter": "python",
   "pygments_lexer": "ipython3",
   "version": "3.5.2"
  }
 },
 "nbformat": 4,
 "nbformat_minor": 1
}
